{
  "metadata": {
    "kernelspec": {
      "language": "python",
      "display_name": "Python 3",
      "name": "python3"
    },
    "language_info": {
      "name": "python",
      "version": "3.7.12",
      "mimetype": "text/x-python",
      "codemirror_mode": {
        "name": "ipython",
        "version": 3
      },
      "pygments_lexer": "ipython3",
      "nbconvert_exporter": "python",
      "file_extension": ".py"
    },
    "colab": {
      "provenance": [],
      "collapsed_sections": [],
      "include_colab_link": true
    },
    "accelerator": "GPU",
    "gpuClass": "standard"
  },
  "nbformat_minor": 0,
  "nbformat": 4,
  "cells": [
    {
      "cell_type": "markdown",
      "metadata": {
        "id": "view-in-github",
        "colab_type": "text"
      },
      "source": [
        "<a href=\"https://colab.research.google.com/github/anandhulk/Quora-sincere-and-insincere-questions-classification/blob/main/word2vec_lstm.ipynb\" target=\"_parent\"><img src=\"https://colab.research.google.com/assets/colab-badge.svg\" alt=\"Open In Colab\"/></a>"
      ]
    },
    {
      "cell_type": "code",
      "source": [
        "!pip install --upgrade gensim"
      ],
      "metadata": {
        "id": "snL77h6uu_wy",
        "colab": {
          "base_uri": "https://localhost:8080/"
        },
        "outputId": "d647525e-0b71-425a-d66c-884f2a9e2da4"
      },
      "execution_count": 1,
      "outputs": [
        {
          "output_type": "stream",
          "name": "stdout",
          "text": [
            "Looking in indexes: https://pypi.org/simple, https://us-python.pkg.dev/colab-wheels/public/simple/\n",
            "Requirement already satisfied: gensim in /usr/local/lib/python3.7/dist-packages (3.6.0)\n",
            "Collecting gensim\n",
            "  Downloading gensim-4.2.0-cp37-cp37m-manylinux_2_12_x86_64.manylinux2010_x86_64.whl (24.1 MB)\n",
            "\u001b[K     |████████████████████████████████| 24.1 MB 69.8 MB/s \n",
            "\u001b[?25hRequirement already satisfied: numpy>=1.17.0 in /usr/local/lib/python3.7/dist-packages (from gensim) (1.21.6)\n",
            "Requirement already satisfied: scipy>=0.18.1 in /usr/local/lib/python3.7/dist-packages (from gensim) (1.7.3)\n",
            "Requirement already satisfied: smart-open>=1.8.1 in /usr/local/lib/python3.7/dist-packages (from gensim) (5.2.1)\n",
            "Installing collected packages: gensim\n",
            "  Attempting uninstall: gensim\n",
            "    Found existing installation: gensim 3.6.0\n",
            "    Uninstalling gensim-3.6.0:\n",
            "      Successfully uninstalled gensim-3.6.0\n",
            "Successfully installed gensim-4.2.0\n"
          ]
        }
      ]
    },
    {
      "cell_type": "code",
      "source": [
        "import numpy as np \n",
        "import pandas as pd \n",
        "import gensim\n",
        "import tensorflow as tf\n",
        "from tensorflow import keras\n",
        "from tensorflow.keras.preprocessing.sequence import pad_sequences"
      ],
      "metadata": {
        "_uuid": "8f2839f25d086af736a60e9eeb907d3b93b6e0e5",
        "_cell_guid": "b1076dfc-b9ad-4769-8c92-a6c4dae69d19",
        "execution": {
          "iopub.status.busy": "2022-08-31T07:21:14.962674Z",
          "iopub.execute_input": "2022-08-31T07:21:14.963711Z",
          "iopub.status.idle": "2022-08-31T07:21:14.997862Z",
          "shell.execute_reply.started": "2022-08-31T07:21:14.963611Z",
          "shell.execute_reply": "2022-08-31T07:21:14.996719Z"
        },
        "trusted": true,
        "id": "tpkmBox6p5Ii"
      },
      "execution_count": 2,
      "outputs": []
    },
    {
      "cell_type": "code",
      "source": [
        "from google.colab import drive\n",
        "drive.mount('/content/drive')"
      ],
      "metadata": {
        "colab": {
          "base_uri": "https://localhost:8080/"
        },
        "id": "S7N2kz-nrCtj",
        "outputId": "5ad64178-eb31-4f48-8a43-fdb0ba441a57"
      },
      "execution_count": 3,
      "outputs": [
        {
          "output_type": "stream",
          "name": "stdout",
          "text": [
            "Mounted at /content/drive\n"
          ]
        }
      ]
    },
    {
      "cell_type": "code",
      "source": [
        "import warnings\n",
        "warnings.filterwarnings(\"ignore\")"
      ],
      "metadata": {
        "execution": {
          "iopub.status.busy": "2022-08-31T07:21:22.047242Z",
          "iopub.execute_input": "2022-08-31T07:21:22.048282Z",
          "iopub.status.idle": "2022-08-31T07:21:22.053598Z",
          "shell.execute_reply.started": "2022-08-31T07:21:22.048239Z",
          "shell.execute_reply": "2022-08-31T07:21:22.052418Z"
        },
        "trusted": true,
        "id": "UamNEc6cp5Iv"
      },
      "execution_count": 4,
      "outputs": []
    },
    {
      "cell_type": "code",
      "source": [
        "df=pd.read_csv(\"/content/drive/MyDrive/dataset-quora/final-cleaned-dataset.csv\")\n",
        "df"
      ],
      "metadata": {
        "execution": {
          "iopub.status.busy": "2022-08-31T07:21:22.055319Z",
          "iopub.execute_input": "2022-08-31T07:21:22.055929Z",
          "iopub.status.idle": "2022-08-31T07:21:24.592740Z",
          "shell.execute_reply.started": "2022-08-31T07:21:22.055890Z",
          "shell.execute_reply": "2022-08-31T07:21:24.591688Z"
        },
        "trusted": true,
        "colab": {
          "base_uri": "https://localhost:8080/",
          "height": 424
        },
        "id": "mQbLw6Dpp5Iw",
        "outputId": "93c62215-eb47-4ad9-8d78-1406fe39e7fe"
      },
      "execution_count": 5,
      "outputs": [
        {
          "output_type": "execute_result",
          "data": {
            "text/plain": [
              "                                                         0  target\n",
              "0        how do Quebec nationalist see their province a...       0\n",
              "1        do you have an adopted dog  how would you enco...       0\n",
              "2        why do velocity affect time  do velocity affec...       0\n",
              "3        how do Otto von Guericke use the Magdeburg hem...       0\n",
              "4        can I convert montra helicon d to a mountain b...       0\n",
              "...                                                    ...     ...\n",
              "1306117  what other technical skill do you need as a co...       0\n",
              "1306118  do MS in ECE have good job prospect in USA or ...       0\n",
              "1306119                          be foam insulation toxic        0\n",
              "1306120  how can one start a research project base on b...       0\n",
              "1306121  who win in a battle between a Wolverine and a ...       0\n",
              "\n",
              "[1306122 rows x 2 columns]"
            ],
            "text/html": [
              "\n",
              "  <div id=\"df-3aa9cb34-19af-48f2-947f-6bc4641a818e\">\n",
              "    <div class=\"colab-df-container\">\n",
              "      <div>\n",
              "<style scoped>\n",
              "    .dataframe tbody tr th:only-of-type {\n",
              "        vertical-align: middle;\n",
              "    }\n",
              "\n",
              "    .dataframe tbody tr th {\n",
              "        vertical-align: top;\n",
              "    }\n",
              "\n",
              "    .dataframe thead th {\n",
              "        text-align: right;\n",
              "    }\n",
              "</style>\n",
              "<table border=\"1\" class=\"dataframe\">\n",
              "  <thead>\n",
              "    <tr style=\"text-align: right;\">\n",
              "      <th></th>\n",
              "      <th>0</th>\n",
              "      <th>target</th>\n",
              "    </tr>\n",
              "  </thead>\n",
              "  <tbody>\n",
              "    <tr>\n",
              "      <th>0</th>\n",
              "      <td>how do Quebec nationalist see their province a...</td>\n",
              "      <td>0</td>\n",
              "    </tr>\n",
              "    <tr>\n",
              "      <th>1</th>\n",
              "      <td>do you have an adopted dog  how would you enco...</td>\n",
              "      <td>0</td>\n",
              "    </tr>\n",
              "    <tr>\n",
              "      <th>2</th>\n",
              "      <td>why do velocity affect time  do velocity affec...</td>\n",
              "      <td>0</td>\n",
              "    </tr>\n",
              "    <tr>\n",
              "      <th>3</th>\n",
              "      <td>how do Otto von Guericke use the Magdeburg hem...</td>\n",
              "      <td>0</td>\n",
              "    </tr>\n",
              "    <tr>\n",
              "      <th>4</th>\n",
              "      <td>can I convert montra helicon d to a mountain b...</td>\n",
              "      <td>0</td>\n",
              "    </tr>\n",
              "    <tr>\n",
              "      <th>...</th>\n",
              "      <td>...</td>\n",
              "      <td>...</td>\n",
              "    </tr>\n",
              "    <tr>\n",
              "      <th>1306117</th>\n",
              "      <td>what other technical skill do you need as a co...</td>\n",
              "      <td>0</td>\n",
              "    </tr>\n",
              "    <tr>\n",
              "      <th>1306118</th>\n",
              "      <td>do MS in ECE have good job prospect in USA or ...</td>\n",
              "      <td>0</td>\n",
              "    </tr>\n",
              "    <tr>\n",
              "      <th>1306119</th>\n",
              "      <td>be foam insulation toxic</td>\n",
              "      <td>0</td>\n",
              "    </tr>\n",
              "    <tr>\n",
              "      <th>1306120</th>\n",
              "      <td>how can one start a research project base on b...</td>\n",
              "      <td>0</td>\n",
              "    </tr>\n",
              "    <tr>\n",
              "      <th>1306121</th>\n",
              "      <td>who win in a battle between a Wolverine and a ...</td>\n",
              "      <td>0</td>\n",
              "    </tr>\n",
              "  </tbody>\n",
              "</table>\n",
              "<p>1306122 rows × 2 columns</p>\n",
              "</div>\n",
              "      <button class=\"colab-df-convert\" onclick=\"convertToInteractive('df-3aa9cb34-19af-48f2-947f-6bc4641a818e')\"\n",
              "              title=\"Convert this dataframe to an interactive table.\"\n",
              "              style=\"display:none;\">\n",
              "        \n",
              "  <svg xmlns=\"http://www.w3.org/2000/svg\" height=\"24px\"viewBox=\"0 0 24 24\"\n",
              "       width=\"24px\">\n",
              "    <path d=\"M0 0h24v24H0V0z\" fill=\"none\"/>\n",
              "    <path d=\"M18.56 5.44l.94 2.06.94-2.06 2.06-.94-2.06-.94-.94-2.06-.94 2.06-2.06.94zm-11 1L8.5 8.5l.94-2.06 2.06-.94-2.06-.94L8.5 2.5l-.94 2.06-2.06.94zm10 10l.94 2.06.94-2.06 2.06-.94-2.06-.94-.94-2.06-.94 2.06-2.06.94z\"/><path d=\"M17.41 7.96l-1.37-1.37c-.4-.4-.92-.59-1.43-.59-.52 0-1.04.2-1.43.59L10.3 9.45l-7.72 7.72c-.78.78-.78 2.05 0 2.83L4 21.41c.39.39.9.59 1.41.59.51 0 1.02-.2 1.41-.59l7.78-7.78 2.81-2.81c.8-.78.8-2.07 0-2.86zM5.41 20L4 18.59l7.72-7.72 1.47 1.35L5.41 20z\"/>\n",
              "  </svg>\n",
              "      </button>\n",
              "      \n",
              "  <style>\n",
              "    .colab-df-container {\n",
              "      display:flex;\n",
              "      flex-wrap:wrap;\n",
              "      gap: 12px;\n",
              "    }\n",
              "\n",
              "    .colab-df-convert {\n",
              "      background-color: #E8F0FE;\n",
              "      border: none;\n",
              "      border-radius: 50%;\n",
              "      cursor: pointer;\n",
              "      display: none;\n",
              "      fill: #1967D2;\n",
              "      height: 32px;\n",
              "      padding: 0 0 0 0;\n",
              "      width: 32px;\n",
              "    }\n",
              "\n",
              "    .colab-df-convert:hover {\n",
              "      background-color: #E2EBFA;\n",
              "      box-shadow: 0px 1px 2px rgba(60, 64, 67, 0.3), 0px 1px 3px 1px rgba(60, 64, 67, 0.15);\n",
              "      fill: #174EA6;\n",
              "    }\n",
              "\n",
              "    [theme=dark] .colab-df-convert {\n",
              "      background-color: #3B4455;\n",
              "      fill: #D2E3FC;\n",
              "    }\n",
              "\n",
              "    [theme=dark] .colab-df-convert:hover {\n",
              "      background-color: #434B5C;\n",
              "      box-shadow: 0px 1px 3px 1px rgba(0, 0, 0, 0.15);\n",
              "      filter: drop-shadow(0px 1px 2px rgba(0, 0, 0, 0.3));\n",
              "      fill: #FFFFFF;\n",
              "    }\n",
              "  </style>\n",
              "\n",
              "      <script>\n",
              "        const buttonEl =\n",
              "          document.querySelector('#df-3aa9cb34-19af-48f2-947f-6bc4641a818e button.colab-df-convert');\n",
              "        buttonEl.style.display =\n",
              "          google.colab.kernel.accessAllowed ? 'block' : 'none';\n",
              "\n",
              "        async function convertToInteractive(key) {\n",
              "          const element = document.querySelector('#df-3aa9cb34-19af-48f2-947f-6bc4641a818e');\n",
              "          const dataTable =\n",
              "            await google.colab.kernel.invokeFunction('convertToInteractive',\n",
              "                                                     [key], {});\n",
              "          if (!dataTable) return;\n",
              "\n",
              "          const docLinkHtml = 'Like what you see? Visit the ' +\n",
              "            '<a target=\"_blank\" href=https://colab.research.google.com/notebooks/data_table.ipynb>data table notebook</a>'\n",
              "            + ' to learn more about interactive tables.';\n",
              "          element.innerHTML = '';\n",
              "          dataTable['output_type'] = 'display_data';\n",
              "          await google.colab.output.renderOutput(dataTable, element);\n",
              "          const docLink = document.createElement('div');\n",
              "          docLink.innerHTML = docLinkHtml;\n",
              "          element.appendChild(docLink);\n",
              "        }\n",
              "      </script>\n",
              "    </div>\n",
              "  </div>\n",
              "  "
            ]
          },
          "metadata": {},
          "execution_count": 5
        }
      ]
    },
    {
      "cell_type": "code",
      "source": [
        "df = df.dropna()\n",
        "questions=df[\"0\"]"
      ],
      "metadata": {
        "execution": {
          "iopub.status.busy": "2022-08-31T07:21:28.452426Z",
          "iopub.execute_input": "2022-08-31T07:21:28.453644Z",
          "iopub.status.idle": "2022-08-31T07:21:28.595626Z",
          "shell.execute_reply.started": "2022-08-31T07:21:28.453589Z",
          "shell.execute_reply": "2022-08-31T07:21:28.594544Z"
        },
        "trusted": true,
        "id": "Tg89HCelp5Iy"
      },
      "execution_count": 6,
      "outputs": []
    },
    {
      "cell_type": "code",
      "source": [
        "questions=questions.apply(gensim.utils.simple_preprocess)"
      ],
      "metadata": {
        "execution": {
          "iopub.status.busy": "2022-08-31T07:21:29.630475Z",
          "iopub.execute_input": "2022-08-31T07:21:29.630899Z",
          "iopub.status.idle": "2022-08-31T07:21:52.857268Z",
          "shell.execute_reply.started": "2022-08-31T07:21:29.630862Z",
          "shell.execute_reply": "2022-08-31T07:21:52.856128Z"
        },
        "trusted": true,
        "id": "FWtbbrBRp5Iz"
      },
      "execution_count": 7,
      "outputs": []
    },
    {
      "cell_type": "code",
      "source": [
        "questions"
      ],
      "metadata": {
        "execution": {
          "iopub.status.busy": "2022-08-31T07:21:52.859702Z",
          "iopub.execute_input": "2022-08-31T07:21:52.860156Z",
          "iopub.status.idle": "2022-08-31T07:21:52.870582Z",
          "shell.execute_reply.started": "2022-08-31T07:21:52.860106Z",
          "shell.execute_reply": "2022-08-31T07:21:52.869451Z"
        },
        "trusted": true,
        "colab": {
          "base_uri": "https://localhost:8080/"
        },
        "id": "VOvRfK6lp5I0",
        "outputId": "1b9adc70-b871-42b5-84e3-b6ee8bdf61f9"
      },
      "execution_count": null,
      "outputs": [
        {
          "output_type": "execute_result",
          "data": {
            "text/plain": [
              "0          [how, do, quebec, nationalist, see, their, pro...\n",
              "1          [do, you, have, an, adopted, dog, how, would, ...\n",
              "2          [why, do, velocity, affect, time, do, velocity...\n",
              "3          [how, do, otto, von, guericke, use, the, magde...\n",
              "4          [can, convert, montra, helicon, to, mountain, ...\n",
              "                                 ...                        \n",
              "1306117    [what, other, technical, skill, do, you, need,...\n",
              "1306118    [do, ms, in, ece, have, good, job, prospect, i...\n",
              "1306119                        [be, foam, insulation, toxic]\n",
              "1306120    [how, can, one, start, research, project, base...\n",
              "1306121    [who, win, in, battle, between, wolverine, and...\n",
              "Name: 0, Length: 1306121, dtype: object"
            ]
          },
          "metadata": {},
          "execution_count": 8
        }
      ]
    },
    {
      "cell_type": "markdown",
      "source": [
        "# **Word2vec MODEL**"
      ],
      "metadata": {
        "id": "Ja7LrJBJp5I1"
      }
    },
    {
      "cell_type": "code",
      "source": [
        "model = gensim.models.Word2Vec(\n",
        "    window=10,\n",
        "    min_count=2,\n",
        "    workers=4,\n",
        ")"
      ],
      "metadata": {
        "execution": {
          "iopub.status.busy": "2022-08-31T07:21:52.872332Z",
          "iopub.execute_input": "2022-08-31T07:21:52.873058Z",
          "iopub.status.idle": "2022-08-31T07:21:52.882069Z",
          "shell.execute_reply.started": "2022-08-31T07:21:52.873019Z",
          "shell.execute_reply": "2022-08-31T07:21:52.881066Z"
        },
        "trusted": true,
        "id": "juO4tP5Dp5I8"
      },
      "execution_count": 8,
      "outputs": []
    },
    {
      "cell_type": "code",
      "source": [
        "model.build_vocab(questions, progress_per=1000)"
      ],
      "metadata": {
        "execution": {
          "iopub.status.busy": "2022-08-31T07:21:52.885569Z",
          "iopub.execute_input": "2022-08-31T07:21:52.885968Z",
          "iopub.status.idle": "2022-08-31T07:21:58.710461Z",
          "shell.execute_reply.started": "2022-08-31T07:21:52.885931Z",
          "shell.execute_reply": "2022-08-31T07:21:58.709425Z"
        },
        "trusted": true,
        "id": "NTrog1zep5I_"
      },
      "execution_count": 9,
      "outputs": []
    },
    {
      "cell_type": "code",
      "source": [
        "model.train(questions, total_examples=model.corpus_count, epochs=model.epochs)"
      ],
      "metadata": {
        "execution": {
          "iopub.status.busy": "2022-08-31T07:21:58.712101Z",
          "iopub.execute_input": "2022-08-31T07:21:58.712471Z",
          "iopub.status.idle": "2022-08-31T07:23:41.696800Z",
          "shell.execute_reply.started": "2022-08-31T07:21:58.712430Z",
          "shell.execute_reply": "2022-08-31T07:23:41.695750Z"
        },
        "trusted": true,
        "colab": {
          "base_uri": "https://localhost:8080/"
        },
        "id": "2KjGlp6tp5JB",
        "outputId": "5727155e-fedd-49a7-ff52-e93ab7ac5e23"
      },
      "execution_count": 10,
      "outputs": [
        {
          "output_type": "execute_result",
          "data": {
            "text/plain": [
              "(56493327, 79590230)"
            ]
          },
          "metadata": {},
          "execution_count": 10
        }
      ]
    },
    {
      "cell_type": "code",
      "source": [
        "#model.save(\"quora-word2vec.model\")"
      ],
      "metadata": {
        "execution": {
          "iopub.status.busy": "2022-08-31T07:14:47.689357Z",
          "iopub.execute_input": "2022-08-31T07:14:47.689975Z",
          "iopub.status.idle": "2022-08-31T07:14:47.695077Z",
          "shell.execute_reply.started": "2022-08-31T07:14:47.689934Z",
          "shell.execute_reply": "2022-08-31T07:14:47.693928Z"
        },
        "trusted": true,
        "id": "H0_tL-MGp5JC"
      },
      "execution_count": null,
      "outputs": []
    },
    {
      "cell_type": "code",
      "source": [
        "model.wv.most_similar(\"india\")"
      ],
      "metadata": {
        "execution": {
          "iopub.status.busy": "2022-08-31T07:23:41.698326Z",
          "iopub.execute_input": "2022-08-31T07:23:41.700029Z",
          "iopub.status.idle": "2022-08-31T07:23:41.736785Z",
          "shell.execute_reply.started": "2022-08-31T07:23:41.699989Z",
          "shell.execute_reply": "2022-08-31T07:23:41.735289Z"
        },
        "trusted": true,
        "colab": {
          "base_uri": "https://localhost:8080/"
        },
        "id": "_aXqQs62p5JD",
        "outputId": "e0c0ef8d-08fd-40d3-b697-af7971bf5004"
      },
      "execution_count": 12,
      "outputs": [
        {
          "output_type": "execute_result",
          "data": {
            "text/plain": [
              "[('nepal', 0.7941012382507324),\n",
              " ('bangladesh', 0.7715491652488708),\n",
              " ('malaysia', 0.7152992486953735),\n",
              " ('pakistan', 0.7138112783432007),\n",
              " ('indian', 0.71058589220047),\n",
              " ('kerala', 0.7084609270095825),\n",
              " ('karnataka', 0.6900008320808411),\n",
              " ('gujarat', 0.689588725566864),\n",
              " ('uae', 0.6870973706245422),\n",
              " ('punjab', 0.6841360330581665)]"
            ]
          },
          "metadata": {},
          "execution_count": 12
        }
      ]
    },
    {
      "cell_type": "code",
      "source": [
        "model.wv.similarity(w1=\"prawn\",w2=\"pawn\")"
      ],
      "metadata": {
        "execution": {
          "iopub.status.busy": "2022-08-31T07:23:41.742901Z",
          "iopub.execute_input": "2022-08-31T07:23:41.746148Z",
          "iopub.status.idle": "2022-08-31T07:23:41.760282Z",
          "shell.execute_reply.started": "2022-08-31T07:23:41.746093Z",
          "shell.execute_reply": "2022-08-31T07:23:41.758889Z"
        },
        "trusted": true,
        "colab": {
          "base_uri": "https://localhost:8080/"
        },
        "id": "9MvmnaJep5JE",
        "outputId": "7cc8a907-4454-4673-ba07-082868bad5f3"
      },
      "execution_count": null,
      "outputs": [
        {
          "output_type": "execute_result",
          "data": {
            "text/plain": [
              "0.24689585"
            ]
          },
          "metadata": {},
          "execution_count": 14
        }
      ]
    },
    {
      "cell_type": "code",
      "source": [
        "vocab_size=len(model.wv.key_to_index)\n",
        "vocab_size"
      ],
      "metadata": {
        "execution": {
          "iopub.status.busy": "2022-08-31T07:23:41.763617Z",
          "iopub.execute_input": "2022-08-31T07:23:41.769351Z",
          "iopub.status.idle": "2022-08-31T07:23:41.779021Z",
          "shell.execute_reply.started": "2022-08-31T07:23:41.769298Z",
          "shell.execute_reply": "2022-08-31T07:23:41.777492Z"
        },
        "trusted": true,
        "colab": {
          "base_uri": "https://localhost:8080/"
        },
        "id": "5xYycKDJp5JF",
        "outputId": "543aea44-5433-4944-9a3f-069dea15c9ca"
      },
      "execution_count": 11,
      "outputs": [
        {
          "output_type": "execute_result",
          "data": {
            "text/plain": [
              "77131"
            ]
          },
          "metadata": {},
          "execution_count": 11
        }
      ]
    },
    {
      "cell_type": "code",
      "source": [
        "print(model.wv.key_to_index.get(\"cat\",None))"
      ],
      "metadata": {
        "execution": {
          "iopub.status.busy": "2022-08-31T07:23:41.782735Z",
          "iopub.execute_input": "2022-08-31T07:23:41.786858Z",
          "iopub.status.idle": "2022-08-31T07:23:41.801882Z",
          "shell.execute_reply.started": "2022-08-31T07:23:41.786806Z",
          "shell.execute_reply": "2022-08-31T07:23:41.800523Z"
        },
        "trusted": true,
        "colab": {
          "base_uri": "https://localhost:8080/"
        },
        "id": "iyJfdXjpp5JG",
        "outputId": "409612bc-4332-4a30-8277-81950d25ee50"
      },
      "execution_count": null,
      "outputs": [
        {
          "output_type": "stream",
          "name": "stdout",
          "text": [
            "395\n"
          ]
        }
      ]
    },
    {
      "cell_type": "markdown",
      "source": [
        "# **TEXT VECTORIZATION**"
      ],
      "metadata": {
        "id": "1_f4Ncxnp5JG"
      }
    },
    {
      "cell_type": "code",
      "source": [
        "def vectorize(data,vocab):\n",
        "    res=[]\n",
        "    count=len(data)\n",
        "    for row in data:\n",
        "        row_res=[]\n",
        "        for word in row:\n",
        "            index=model.wv.key_to_index.get(word,None)\n",
        "            if(index!=None):\n",
        "                row_res.append(index)\n",
        "        res.append(row_res)\n",
        "        \n",
        "        #counter\n",
        "        count=count-1\n",
        "        if(count%100000==0):\n",
        "            print(\"remaining no of rows:\",count)\n",
        "        #counter\n",
        "        \n",
        "    return res"
      ],
      "metadata": {
        "execution": {
          "iopub.status.busy": "2022-08-31T07:23:41.808358Z",
          "iopub.execute_input": "2022-08-31T07:23:41.810061Z",
          "iopub.status.idle": "2022-08-31T07:23:41.829791Z",
          "shell.execute_reply.started": "2022-08-31T07:23:41.810009Z",
          "shell.execute_reply": "2022-08-31T07:23:41.828371Z"
        },
        "trusted": true,
        "id": "x1VKL3WIp5JH"
      },
      "execution_count": 12,
      "outputs": []
    },
    {
      "cell_type": "code",
      "source": [
        "input_length = 300\n",
        "X_pad = pad_sequences(\n",
        "    sequences=vectorize(questions, vocab=model.wv.key_to_index),\n",
        "    maxlen=input_length,\n",
        "    padding='post')\n",
        "print('Transform sentences to sequences... (done)')"
      ],
      "metadata": {
        "execution": {
          "iopub.status.busy": "2022-08-31T07:23:41.832363Z",
          "iopub.execute_input": "2022-08-31T07:23:41.833542Z",
          "iopub.status.idle": "2022-08-31T07:23:55.602732Z",
          "shell.execute_reply.started": "2022-08-31T07:23:41.833492Z",
          "shell.execute_reply": "2022-08-31T07:23:55.601451Z"
        },
        "trusted": true,
        "colab": {
          "base_uri": "https://localhost:8080/"
        },
        "id": "lWa5Ttjbp5JI",
        "outputId": "429246b5-c255-44ca-f07e-b5d80335285f"
      },
      "execution_count": 15,
      "outputs": [
        {
          "output_type": "stream",
          "name": "stdout",
          "text": [
            "remaining no of rows: 1300000\n",
            "remaining no of rows: 1200000\n",
            "remaining no of rows: 1100000\n",
            "remaining no of rows: 1000000\n",
            "remaining no of rows: 900000\n",
            "remaining no of rows: 800000\n",
            "remaining no of rows: 700000\n",
            "remaining no of rows: 600000\n",
            "remaining no of rows: 500000\n",
            "remaining no of rows: 400000\n",
            "remaining no of rows: 300000\n",
            "remaining no of rows: 200000\n",
            "remaining no of rows: 100000\n",
            "remaining no of rows: 0\n",
            "Transform sentences to sequences... (done)\n"
          ]
        }
      ]
    },
    {
      "cell_type": "markdown",
      "source": [
        "# **Spltting the Data set**"
      ],
      "metadata": {
        "id": "ooJX0sMEp5JK"
      }
    },
    {
      "cell_type": "code",
      "source": [
        "from sklearn.model_selection import train_test_split"
      ],
      "metadata": {
        "id": "x1MNDNDV_vFa"
      },
      "execution_count": 13,
      "outputs": []
    },
    {
      "cell_type": "code",
      "source": [
        "from sklearn.model_selection import train_test_split\n",
        "\n",
        "x_train,x_test,y_train,y_test=train_test_split(X_pad,df[\"target\"],test_size=0.2,random_state=42)"
      ],
      "metadata": {
        "execution": {
          "iopub.status.busy": "2022-08-31T07:23:55.604504Z",
          "iopub.execute_input": "2022-08-31T07:23:55.604913Z",
          "iopub.status.idle": "2022-08-31T07:23:56.486826Z",
          "shell.execute_reply.started": "2022-08-31T07:23:55.604875Z",
          "shell.execute_reply": "2022-08-31T07:23:56.485446Z"
        },
        "trusted": true,
        "id": "ZEKmiW5cp5JK"
      },
      "execution_count": 16,
      "outputs": []
    },
    {
      "cell_type": "code",
      "source": [
        "embedding_matrix=model.wv.vectors"
      ],
      "metadata": {
        "execution": {
          "iopub.status.busy": "2022-08-31T07:23:56.488887Z",
          "iopub.execute_input": "2022-08-31T07:23:56.489423Z",
          "iopub.status.idle": "2022-08-31T07:23:56.496173Z",
          "shell.execute_reply.started": "2022-08-31T07:23:56.489310Z",
          "shell.execute_reply": "2022-08-31T07:23:56.494834Z"
        },
        "trusted": true,
        "id": "6pqfC_-7p5JL"
      },
      "execution_count": 14,
      "outputs": []
    },
    {
      "cell_type": "markdown",
      "source": [
        "# **MODEL**"
      ],
      "metadata": {
        "id": "19JWG-k0p5JM"
      }
    },
    {
      "cell_type": "code",
      "source": [
        "from tensorflow.keras.models import Sequential\n",
        "from tensorflow.keras.layers import Bidirectional,LSTM,Dense,Dropout,Embedding,GRU"
      ],
      "metadata": {
        "execution": {
          "iopub.status.busy": "2022-08-31T07:23:56.497978Z",
          "iopub.execute_input": "2022-08-31T07:23:56.498362Z",
          "iopub.status.idle": "2022-08-31T07:23:56.507959Z",
          "shell.execute_reply.started": "2022-08-31T07:23:56.498325Z",
          "shell.execute_reply": "2022-08-31T07:23:56.506838Z"
        },
        "trusted": true,
        "id": "Ned4fWb1p5JM"
      },
      "execution_count": 15,
      "outputs": []
    },
    {
      "cell_type": "code",
      "source": [
        "lstm_model=Sequential([\n",
        "    Embedding(\n",
        "        input_dim = embedding_matrix.shape[0],\n",
        "        output_dim = embedding_matrix.shape[1], \n",
        "        input_length = input_length,\n",
        "        weights = [embedding_matrix],\n",
        "        trainable=False),\n",
        "    Bidirectional(LSTM(64,return_sequences=True)),\n",
        "    Dropout(0.2),\n",
        "    Bidirectional(LSTM(32)),\n",
        "    Dense(10,activation='relu'),\n",
        "    Dropout(0.4),\n",
        "    Dense(1,activation='sigmoid')\n",
        "])\n",
        "\n",
        "lstm_model.compile(\n",
        "    loss=\"binary_crossentropy\",\n",
        "    optimizer='adam',\n",
        "    metrics=['accuracy'])"
      ],
      "metadata": {
        "execution": {
          "iopub.status.busy": "2022-08-31T07:24:29.142723Z",
          "iopub.execute_input": "2022-08-31T07:24:29.143542Z",
          "iopub.status.idle": "2022-08-31T07:24:30.008581Z",
          "shell.execute_reply.started": "2022-08-31T07:24:29.143495Z",
          "shell.execute_reply": "2022-08-31T07:24:30.007211Z"
        },
        "trusted": true,
        "id": "xjHf7Xa1p5JN"
      },
      "execution_count": null,
      "outputs": []
    },
    {
      "cell_type": "code",
      "source": [
        "lstm_model.summary()"
      ],
      "metadata": {
        "execution": {
          "iopub.status.busy": "2022-08-31T07:24:00.434622Z",
          "iopub.execute_input": "2022-08-31T07:24:00.435396Z",
          "iopub.status.idle": "2022-08-31T07:24:00.444484Z",
          "shell.execute_reply.started": "2022-08-31T07:24:00.435356Z",
          "shell.execute_reply": "2022-08-31T07:24:00.443501Z"
        },
        "trusted": true,
        "colab": {
          "base_uri": "https://localhost:8080/"
        },
        "id": "dqVvxj-1p5JO",
        "outputId": "3c833b66-fc5f-4b9f-d489-b2bb6747fed7"
      },
      "execution_count": null,
      "outputs": [
        {
          "output_type": "stream",
          "name": "stdout",
          "text": [
            "Model: \"sequential_1\"\n",
            "_________________________________________________________________\n",
            " Layer (type)                Output Shape              Param #   \n",
            "=================================================================\n",
            " embedding_1 (Embedding)     (None, 300, 100)          7713100   \n",
            "                                                                 \n",
            " bidirectional_2 (Bidirectio  (None, 300, 128)         84480     \n",
            " nal)                                                            \n",
            "                                                                 \n",
            " dropout_2 (Dropout)         (None, 300, 128)          0         \n",
            "                                                                 \n",
            " bidirectional_3 (Bidirectio  (None, 64)               41216     \n",
            " nal)                                                            \n",
            "                                                                 \n",
            " dense_2 (Dense)             (None, 10)                650       \n",
            "                                                                 \n",
            " dropout_3 (Dropout)         (None, 10)                0         \n",
            "                                                                 \n",
            " dense_3 (Dense)             (None, 1)                 11        \n",
            "                                                                 \n",
            "=================================================================\n",
            "Total params: 7,839,457\n",
            "Trainable params: 126,357\n",
            "Non-trainable params: 7,713,100\n",
            "_________________________________________________________________\n"
          ]
        }
      ]
    },
    {
      "cell_type": "code",
      "source": [
        "lstm_model.fit(x_train,y_train,epochs=5)"
      ],
      "metadata": {
        "execution": {
          "iopub.status.busy": "2022-08-31T07:24:35.262686Z",
          "iopub.execute_input": "2022-08-31T07:24:35.263909Z",
          "iopub.status.idle": "2022-08-31T08:45:02.767869Z",
          "shell.execute_reply.started": "2022-08-31T07:24:35.263859Z",
          "shell.execute_reply": "2022-08-31T08:45:02.766819Z"
        },
        "trusted": true,
        "id": "GaEA_3Mbp5JO"
      },
      "execution_count": null,
      "outputs": []
    },
    {
      "cell_type": "code",
      "source": [
        "lstm_model.evaluate(x_test,y_test)"
      ],
      "metadata": {
        "execution": {
          "iopub.status.busy": "2022-08-31T08:45:07.503410Z",
          "iopub.execute_input": "2022-08-31T08:45:07.503910Z",
          "iopub.status.idle": "2022-08-31T08:47:59.936772Z",
          "shell.execute_reply.started": "2022-08-31T08:45:07.503877Z",
          "shell.execute_reply": "2022-08-31T08:47:59.935793Z"
        },
        "trusted": true,
        "id": "bDH1cGeYp5JP",
        "outputId": "6080fe3c-09c6-4aca-c8ac-2d7218b2f990"
      },
      "execution_count": null,
      "outputs": [
        {
          "name": "stdout",
          "text": "8164/8164 [==============================] - 172s 21ms/step - loss: 0.1048 - accuracy: 0.9582\n",
          "output_type": "stream"
        },
        {
          "execution_count": 26,
          "output_type": "execute_result",
          "data": {
            "text/plain": "[0.10477418452501297, 0.9582160711288452]"
          },
          "metadata": {}
        }
      ]
    },
    {
      "cell_type": "markdown",
      "source": [
        "*Saving the model for future use*"
      ],
      "metadata": {
        "id": "ch4PtK7Fp5JP"
      }
    },
    {
      "cell_type": "code",
      "source": [
        "#lstm_model.save(\"w2v+LSTM_model\")"
      ],
      "metadata": {
        "execution": {
          "iopub.status.busy": "2022-08-31T08:48:18.061550Z",
          "iopub.execute_input": "2022-08-31T08:48:18.061963Z",
          "iopub.status.idle": "2022-08-31T08:48:39.238219Z",
          "shell.execute_reply.started": "2022-08-31T08:48:18.061928Z",
          "shell.execute_reply": "2022-08-31T08:48:39.237181Z"
        },
        "trusted": true,
        "id": "3CdqTeG6p5JQ"
      },
      "execution_count": null,
      "outputs": []
    },
    {
      "cell_type": "code",
      "source": [
        "from sklearn.metrics import confusion_matrix,classification_report"
      ],
      "metadata": {
        "execution": {
          "iopub.status.busy": "2022-08-31T09:54:23.923984Z",
          "iopub.execute_input": "2022-08-31T09:54:23.924380Z",
          "iopub.status.idle": "2022-08-31T09:54:23.929101Z",
          "shell.execute_reply.started": "2022-08-31T09:54:23.924346Z",
          "shell.execute_reply": "2022-08-31T09:54:23.927883Z"
        },
        "trusted": true,
        "id": "fUz4ZeYlp5JR"
      },
      "execution_count": 34,
      "outputs": []
    },
    {
      "cell_type": "code",
      "source": [
        "y_pred=lstm_model.predict(x_test)"
      ],
      "metadata": {
        "execution": {
          "iopub.status.busy": "2022-08-31T09:36:57.124109Z",
          "iopub.execute_input": "2022-08-31T09:36:57.124530Z",
          "iopub.status.idle": "2022-08-31T09:40:19.328008Z",
          "shell.execute_reply.started": "2022-08-31T09:36:57.124494Z",
          "shell.execute_reply": "2022-08-31T09:40:19.326787Z"
        },
        "trusted": true,
        "id": "iPPFwiemp5JR"
      },
      "execution_count": null,
      "outputs": []
    },
    {
      "cell_type": "code",
      "source": [
        "y_p=[]\n",
        "for i in y_pred:\n",
        "    if(i>=0.5):\n",
        "        y_p.append(1)\n",
        "    else:\n",
        "        y_p.append(0)"
      ],
      "metadata": {
        "execution": {
          "iopub.status.busy": "2022-08-31T09:42:42.354197Z",
          "iopub.execute_input": "2022-08-31T09:42:42.354844Z",
          "iopub.status.idle": "2022-08-31T09:42:42.707832Z",
          "shell.execute_reply.started": "2022-08-31T09:42:42.354803Z",
          "shell.execute_reply": "2022-08-31T09:42:42.706812Z"
        },
        "trusted": true,
        "id": "IFZPVetRp5JS"
      },
      "execution_count": null,
      "outputs": []
    },
    {
      "cell_type": "markdown",
      "source": [
        "# **CONFUSION MATRIX**"
      ],
      "metadata": {
        "id": "m2gu3Vnyp5JS"
      }
    },
    {
      "cell_type": "code",
      "source": [
        "confusion=confusion_matrix(y_test,y_p)\n",
        "confusion"
      ],
      "metadata": {
        "execution": {
          "iopub.status.busy": "2022-08-31T09:43:26.162195Z",
          "iopub.execute_input": "2022-08-31T09:43:26.162609Z",
          "iopub.status.idle": "2022-08-31T09:43:26.260880Z",
          "shell.execute_reply.started": "2022-08-31T09:43:26.162568Z",
          "shell.execute_reply": "2022-08-31T09:43:26.259712Z"
        },
        "trusted": true,
        "id": "Fas71_8-p5JS",
        "outputId": "13b093c1-0357-4473-887a-d39aefc72e70"
      },
      "execution_count": null,
      "outputs": [
        {
          "execution_count": 59,
          "output_type": "execute_result",
          "data": {
            "text/plain": "array([[241564,   3569],\n       [  7346,   8746]])"
          },
          "metadata": {}
        }
      ]
    },
    {
      "cell_type": "code",
      "source": [
        "import seaborn as sns\n",
        "import matplotlib.pyplot as plt"
      ],
      "metadata": {
        "id": "7KyoHLhMYOxE"
      },
      "execution_count": 37,
      "outputs": []
    },
    {
      "cell_type": "code",
      "source": [
        "\n",
        "plt.figure(figsize = (10,7))\n",
        "sns.heatmap(confusion, annot=True,fmt='g',cmap='Blues')\n",
        "plt.ylabel(\"actual\")\n",
        "plt.xlabel('predicted');"
      ],
      "metadata": {
        "execution": {
          "iopub.status.busy": "2022-08-31T09:57:24.114825Z",
          "iopub.execute_input": "2022-08-31T09:57:24.115808Z",
          "iopub.status.idle": "2022-08-31T09:57:24.359619Z",
          "shell.execute_reply.started": "2022-08-31T09:57:24.115754Z",
          "shell.execute_reply": "2022-08-31T09:57:24.358690Z"
        },
        "trusted": true,
        "id": "fgld_KxZp5JT",
        "outputId": "e77cd780-ffc0-4f6d-d937-54697801253e"
      },
      "execution_count": null,
      "outputs": [
        {
          "output_type": "display_data",
          "data": {
            "text/plain": "<Figure size 720x504 with 2 Axes>",
            "image/png": "[encoded data removed]"
          },
          "metadata": {
            "needs_background": "light"
          }
        }
      ]
    },
    {
      "cell_type": "markdown",
      "source": [
        "# **CLASSIFICATION REPORT - PRECISION, RECALL, F1 SCORE**\n"
      ],
      "metadata": {
        "id": "YclY1GWxp5JU"
      }
    },
    {
      "cell_type": "code",
      "source": [
        "print(\"     Classification report of Word2vec + LSTM model\\n\")\n",
        "print(classification_report(y_test,y_p))"
      ],
      "metadata": {
        "execution": {
          "iopub.status.busy": "2022-08-31T09:56:03.874350Z",
          "iopub.execute_input": "2022-08-31T09:56:03.875256Z",
          "iopub.status.idle": "2022-08-31T09:56:04.331601Z",
          "shell.execute_reply.started": "2022-08-31T09:56:03.875220Z",
          "shell.execute_reply": "2022-08-31T09:56:04.329787Z"
        },
        "trusted": true,
        "id": "HGwtBf1Ap5JU",
        "outputId": "51764833-63ff-4b1d-94a7-3e463e925573"
      },
      "execution_count": null,
      "outputs": [
        {
          "name": "stdout",
          "text": "     Classification report of Word2vec + LSTM model\n\n              precision    recall  f1-score   support\n\n           0       0.97      0.99      0.98    245133\n           1       0.71      0.54      0.62     16092\n\n    accuracy                           0.96    261225\n   macro avg       0.84      0.76      0.80    261225\nweighted avg       0.95      0.96      0.96    261225\n\n",
          "output_type": "stream"
        }
      ]
    },
    {
      "cell_type": "markdown",
      "source": [
        "**F1 score is not very impressive**"
      ],
      "metadata": {
        "id": "UI92gbqdp5JU"
      }
    },
    {
      "cell_type": "markdown",
      "source": [
        "# **GRU MODEL**"
      ],
      "metadata": {
        "id": "IetYJwlbGLCr"
      }
    },
    {
      "cell_type": "code",
      "source": [
        "gru_model=Sequential([\n",
        "    Embedding(\n",
        "        input_dim = embedding_matrix.shape[0],\n",
        "        output_dim = embedding_matrix.shape[1], \n",
        "        input_length = input_length,\n",
        "        weights = [embedding_matrix],\n",
        "        trainable=False),\n",
        "    Bidirectional(GRU(64,return_sequences=True)),\n",
        "    Dropout(0.2),\n",
        "    Bidirectional(GRU(32)),\n",
        "    Dense(10,activation='relu'),\n",
        "    Dropout(0.4),\n",
        "    Dense(1,activation='sigmoid')\n",
        "])\n",
        "\n",
        "gru_model.compile(\n",
        "    loss=\"binary_crossentropy\",\n",
        "    optimizer='adam',\n",
        "    metrics=['accuracy'])\n",
        "\n",
        "gru_model.summary()"
      ],
      "metadata": {
        "id": "-CSTsFuup5JV",
        "colab": {
          "base_uri": "https://localhost:8080/"
        },
        "outputId": "d72e0a0b-dbcf-4b9d-bebc-96c53a0a9313"
      },
      "execution_count": null,
      "outputs": [
        {
          "output_type": "stream",
          "name": "stdout",
          "text": [
            "Model: \"sequential_2\"\n",
            "_________________________________________________________________\n",
            " Layer (type)                Output Shape              Param #   \n",
            "=================================================================\n",
            " embedding_2 (Embedding)     (None, 300, 100)          7713100   \n",
            "                                                                 \n",
            " bidirectional_4 (Bidirectio  (None, 300, 128)         63744     \n",
            " nal)                                                            \n",
            "                                                                 \n",
            " dropout_4 (Dropout)         (None, 300, 128)          0         \n",
            "                                                                 \n",
            " bidirectional_5 (Bidirectio  (None, 64)               31104     \n",
            " nal)                                                            \n",
            "                                                                 \n",
            " dense_4 (Dense)             (None, 10)                650       \n",
            "                                                                 \n",
            " dropout_5 (Dropout)         (None, 10)                0         \n",
            "                                                                 \n",
            " dense_5 (Dense)             (None, 1)                 11        \n",
            "                                                                 \n",
            "=================================================================\n",
            "Total params: 7,808,609\n",
            "Trainable params: 95,509\n",
            "Non-trainable params: 7,713,100\n",
            "_________________________________________________________________\n"
          ]
        }
      ]
    },
    {
      "cell_type": "code",
      "source": [
        "gru_model.fit(x_train,y_train,epochs=3)"
      ],
      "metadata": {
        "colab": {
          "base_uri": "https://localhost:8080/"
        },
        "id": "T7aYXXYOHcSq",
        "outputId": "291bc391-ac91-4cf7-d46a-4c92a074e59e"
      },
      "execution_count": null,
      "outputs": [
        {
          "output_type": "stream",
          "name": "stdout",
          "text": [
            "Epoch 1/3\n",
            "32653/32653 [==============================] - 1086s 33ms/step - loss: 0.1348 - accuracy: 0.9380\n",
            "Epoch 2/3\n",
            "32653/32653 [==============================] - 1080s 33ms/step - loss: 0.1265 - accuracy: 0.9468\n",
            "Epoch 3/3\n",
            "32653/32653 [==============================] - 1082s 33ms/step - loss: 0.1249 - accuracy: 0.9508\n"
          ]
        },
        {
          "output_type": "execute_result",
          "data": {
            "text/plain": [
              "<keras.callbacks.History at 0x7f6de08c2890>"
            ]
          },
          "metadata": {},
          "execution_count": 30
        }
      ]
    },
    {
      "cell_type": "code",
      "source": [
        "gru_model.evaluate(x_test,y_test)"
      ],
      "metadata": {
        "colab": {
          "base_uri": "https://localhost:8080/"
        },
        "id": "y6H1xUTRHox7",
        "outputId": "d1eb3924-2b58-4d4c-efa2-41f624a62c38"
      },
      "execution_count": null,
      "outputs": [
        {
          "output_type": "stream",
          "name": "stdout",
          "text": [
            "8164/8164 [==============================] - 147s 18ms/step - loss: 0.1156 - accuracy: 0.9556\n"
          ]
        },
        {
          "output_type": "execute_result",
          "data": {
            "text/plain": [
              "[0.11560391634702682, 0.9555976390838623]"
            ]
          },
          "metadata": {},
          "execution_count": 31
        }
      ]
    },
    {
      "cell_type": "code",
      "source": [
        "#gru_model.save('/content/drive/MyDrive/dataset-quora/word2vec_grumodel')"
      ],
      "metadata": {
        "id": "Dx1-7PyGUgHM"
      },
      "execution_count": null,
      "outputs": []
    },
    {
      "cell_type": "markdown",
      "source": [
        "# **MODEL EVALUATION**"
      ],
      "metadata": {
        "id": "fEg_JnspWI04"
      }
    },
    {
      "cell_type": "code",
      "source": [
        "y_gru=gru_model.predict(x_test)"
      ],
      "metadata": {
        "id": "dUYEFTOYVjS8"
      },
      "execution_count": null,
      "outputs": []
    },
    {
      "cell_type": "code",
      "source": [
        "y_pred_gru=[]\n",
        "\n",
        "for i in y_gru:\n",
        "    if(i>=0.5):\n",
        "        y_pred_gru.append(1)\n",
        "    else:\n",
        "        y_pred_gru.append(0)"
      ],
      "metadata": {
        "id": "myIQwaJSXZ3G"
      },
      "execution_count": null,
      "outputs": []
    },
    {
      "cell_type": "markdown",
      "source": [
        "#  **CONFUSION MATRIX**"
      ],
      "metadata": {
        "id": "fdw6FC_8WsuP"
      }
    },
    {
      "cell_type": "code",
      "source": [
        "confusion_gru=confusion_matrix(y_test,y_pred_gru)\n",
        "confusion_gru"
      ],
      "metadata": {
        "colab": {
          "base_uri": "https://localhost:8080/"
        },
        "id": "TNVTqLK1WlXm",
        "outputId": "3b742b62-a76a-4930-f665-f9653d727a1f"
      },
      "execution_count": null,
      "outputs": [
        {
          "output_type": "execute_result",
          "data": {
            "text/plain": [
              "array([[242270,   2863],\n",
              "       [  8736,   7356]])"
            ]
          },
          "metadata": {},
          "execution_count": 46
        }
      ]
    },
    {
      "cell_type": "code",
      "source": [
        "plt.figure(figsize = (10,7))\n",
        "sns.heatmap(confusion_gru, annot=True,fmt='g',cmap='Blues')\n",
        "plt.ylabel(\"actual\")\n",
        "plt.xlabel('predicted');"
      ],
      "metadata": {
        "colab": {
          "base_uri": "https://localhost:8080/",
          "height": 442
        },
        "id": "PiifwKVdW5xD",
        "outputId": "6c5cc611-f560-4f5c-a028-a5c94e3e962f"
      },
      "execution_count": null,
      "outputs": [
        {
          "output_type": "display_data",
          "data": {
            "text/plain": [
              "<Figure size 720x504 with 2 Axes>"
            ],
            "image/png": "[encoded data removed]"
          },
          "metadata": {
            "needs_background": "light"
          }
        }
      ]
    },
    {
      "cell_type": "markdown",
      "source": [
        "# **CLASSIFICATION REPORT**"
      ],
      "metadata": {
        "id": "RlMyVPv-Xj5E"
      }
    },
    {
      "cell_type": "code",
      "source": [
        "print(\"     Classification report of Word2vec + LSTM model\\n\")\n",
        "print(classification_report(y_test,y_pred_gru))"
      ],
      "metadata": {
        "colab": {
          "base_uri": "https://localhost:8080/"
        },
        "id": "7MWvyahvXoBb",
        "outputId": "c8599e00-408e-46fd-ad82-93c7b0b0e159"
      },
      "execution_count": null,
      "outputs": [
        {
          "output_type": "stream",
          "name": "stdout",
          "text": [
            "     Classification report of Word2vec + LSTM model\n",
            "\n",
            "              precision    recall  f1-score   support\n",
            "\n",
            "           0       0.97      0.99      0.98    245133\n",
            "           1       0.72      0.46      0.56     16092\n",
            "\n",
            "    accuracy                           0.96    261225\n",
            "   macro avg       0.84      0.72      0.77    261225\n",
            "weighted avg       0.95      0.96      0.95    261225\n",
            "\n"
          ]
        }
      ]
    },
    {
      "cell_type": "markdown",
      "source": [
        "# **BALANCING DATASET**"
      ],
      "metadata": {
        "id": "P_cBQLWcwHsT"
      }
    },
    {
      "cell_type": "code",
      "source": [
        "data=pd.read_csv(\"/content/drive/MyDrive/dataset-quora/balanced.csv\")"
      ],
      "metadata": {
        "id": "SqKj9YlVYjhc"
      },
      "execution_count": 16,
      "outputs": []
    },
    {
      "cell_type": "code",
      "source": [
        "data.target.value_counts()"
      ],
      "metadata": {
        "colab": {
          "base_uri": "https://localhost:8080/"
        },
        "id": "utdUBVnxwPrN",
        "outputId": "f5998238-09e7-42bb-8c2b-f809c7bfd9a6"
      },
      "execution_count": 17,
      "outputs": [
        {
          "output_type": "execute_result",
          "data": {
            "text/plain": [
              "0    80810\n",
              "1    80809\n",
              "Name: target, dtype: int64"
            ]
          },
          "metadata": {},
          "execution_count": 17
        }
      ]
    },
    {
      "cell_type": "code",
      "source": [
        "ques=data[\"0\"]\n",
        "ques=ques.apply(gensim.utils.simple_preprocess)"
      ],
      "metadata": {
        "id": "NKOMN0ilxVH9"
      },
      "execution_count": 18,
      "outputs": []
    },
    {
      "cell_type": "code",
      "source": [
        "input_length = 300\n",
        "X_pad_u = pad_sequences(\n",
        "    sequences=vectorize(ques, vocab=model.wv.key_to_index),\n",
        "    maxlen=input_length,\n",
        "    padding='post')\n",
        "print('Transform sentences to sequences... (done)')"
      ],
      "metadata": {
        "colab": {
          "base_uri": "https://localhost:8080/"
        },
        "id": "d_WHJc0bAMIJ",
        "outputId": "96c7017e-b3d9-41b0-d3f6-b85e3dfa73cd"
      },
      "execution_count": 19,
      "outputs": [
        {
          "output_type": "stream",
          "name": "stdout",
          "text": [
            "remaining no of rows: 100000\n",
            "remaining no of rows: 0\n",
            "Transform sentences to sequences... (done)\n"
          ]
        }
      ]
    },
    {
      "cell_type": "code",
      "source": [
        "x_train,x_test,y_train,y_test=train_test_split(X_pad_u,data[\"target\"],test_size=0.2,random_state=42,stratify=data[\"target\"])"
      ],
      "metadata": {
        "id": "IDoP-60cASA-"
      },
      "execution_count": 20,
      "outputs": []
    },
    {
      "cell_type": "markdown",
      "source": [
        "# **MODEL**"
      ],
      "metadata": {
        "id": "tw6vNogmNWlh"
      }
    },
    {
      "cell_type": "code",
      "source": [
        "lstm_model_b=Sequential([\n",
        "    Embedding(\n",
        "        input_dim = embedding_matrix.shape[0],\n",
        "        output_dim = embedding_matrix.shape[1], \n",
        "        input_length = input_length,\n",
        "        weights = [embedding_matrix],\n",
        "        trainable=False),\n",
        "    Bidirectional(LSTM(128,return_sequences=True)),\n",
        "    Dropout(0.2),\n",
        "    Bidirectional(LSTM(64,return_sequences=True)),\n",
        "    Dropout(0.2),\n",
        "    Bidirectional(LSTM(32)),\n",
        "    Dense(50,activation='relu'),\n",
        "    Dropout(0.4),\n",
        "    Dense(1,activation='sigmoid')\n",
        "])\n",
        "\n",
        "lstm_model_b.compile(\n",
        "    loss=\"binary_crossentropy\",\n",
        "    optimizer='adam',\n",
        "    metrics=['accuracy'])"
      ],
      "metadata": {
        "id": "35-mnL_3AZtz"
      },
      "execution_count": 26,
      "outputs": []
    },
    {
      "cell_type": "code",
      "source": [
        "lstm_model_b.fit(x_train,y_train,epochs=10)"
      ],
      "metadata": {
        "colab": {
          "base_uri": "https://localhost:8080/"
        },
        "id": "dzlJFNF_Akxq",
        "outputId": "9f5365cb-1010-4c9b-f28a-b45162ac7561"
      },
      "execution_count": 28,
      "outputs": [
        {
          "output_type": "stream",
          "name": "stdout",
          "text": [
            "Epoch 1/10\n",
            "4041/4041 [==============================] - 263s 65ms/step - loss: 0.3048 - accuracy: 0.8815\n",
            "Epoch 2/10\n",
            "4041/4041 [==============================] - 263s 65ms/step - loss: 0.2626 - accuracy: 0.9004\n",
            "Epoch 3/10\n",
            "4041/4041 [==============================] - 259s 64ms/step - loss: 0.2375 - accuracy: 0.9102\n",
            "Epoch 4/10\n",
            "4041/4041 [==============================] - 260s 64ms/step - loss: 0.2131 - accuracy: 0.9200\n",
            "Epoch 5/10\n",
            "4041/4041 [==============================] - 261s 65ms/step - loss: 0.1859 - accuracy: 0.9315\n",
            "Epoch 6/10\n",
            "4041/4041 [==============================] - 257s 64ms/step - loss: 0.1632 - accuracy: 0.9407\n",
            "Epoch 7/10\n",
            "4041/4041 [==============================] - 255s 63ms/step - loss: 0.1427 - accuracy: 0.9489\n",
            "Epoch 8/10\n",
            "4041/4041 [==============================] - 259s 64ms/step - loss: 0.1248 - accuracy: 0.9548\n",
            "Epoch 9/10\n",
            "4041/4041 [==============================] - 259s 64ms/step - loss: 0.1095 - accuracy: 0.9606\n",
            "Epoch 10/10\n",
            "4041/4041 [==============================] - 258s 64ms/step - loss: 0.0989 - accuracy: 0.9647\n"
          ]
        },
        {
          "output_type": "execute_result",
          "data": {
            "text/plain": [
              "<keras.callbacks.History at 0x7fea5cab7a50>"
            ]
          },
          "metadata": {},
          "execution_count": 28
        }
      ]
    },
    {
      "cell_type": "code",
      "source": [
        "lstm_model_b.evaluate(x_test,y_test)"
      ],
      "metadata": {
        "colab": {
          "base_uri": "https://localhost:8080/"
        },
        "id": "9Zd3dnhNAp7m",
        "outputId": "dab50955-7e6d-4d9e-f19b-1d452d99b966"
      },
      "execution_count": 30,
      "outputs": [
        {
          "output_type": "stream",
          "name": "stdout",
          "text": [
            "1011/1011 [==============================] - 31s 29ms/step - loss: 0.3879 - accuracy: 0.8880\n"
          ]
        },
        {
          "output_type": "execute_result",
          "data": {
            "text/plain": [
              "[0.3878592550754547, 0.8880088925361633]"
            ]
          },
          "metadata": {},
          "execution_count": 30
        }
      ]
    },
    {
      "cell_type": "markdown",
      "source": [
        "# **MODEL EVALUATION**"
      ],
      "metadata": {
        "id": "J-rktdf0NdpV"
      }
    },
    {
      "cell_type": "code",
      "source": [
        "y_lstm=lstm_model_b.predict(x_test)"
      ],
      "metadata": {
        "id": "wuHjcEB7Lkt-"
      },
      "execution_count": 31,
      "outputs": []
    },
    {
      "cell_type": "code",
      "source": [
        "y_pred_lstm=[]\n",
        "\n",
        "for i in y_lstm:\n",
        "    if(i>=0.5):\n",
        "        y_pred_lstm.append(1)\n",
        "    else:\n",
        "        y_pred_lstm.append(0)"
      ],
      "metadata": {
        "id": "8SO8Z45_MA_H"
      },
      "execution_count": 32,
      "outputs": []
    },
    {
      "cell_type": "markdown",
      "source": [
        "# **CONFUSION MATRIX**"
      ],
      "metadata": {
        "id": "lehzNk_RNi_7"
      }
    },
    {
      "cell_type": "code",
      "source": [
        "confusion_bal=confusion_matrix(y_test,y_pred_lstm)\n",
        "confusion_bal"
      ],
      "metadata": {
        "colab": {
          "base_uri": "https://localhost:8080/"
        },
        "id": "TYnyWZHCMU4g",
        "outputId": "2bc3f36b-3154-471d-de8b-b609d607c919"
      },
      "execution_count": 35,
      "outputs": [
        {
          "output_type": "execute_result",
          "data": {
            "text/plain": [
              "array([[14401,  1761],\n",
              "       [ 1859, 14303]])"
            ]
          },
          "metadata": {},
          "execution_count": 35
        }
      ]
    },
    {
      "cell_type": "code",
      "source": [
        "plt.figure(figsize = (10,7))\n",
        "sns.heatmap(confusion_bal, annot=True,fmt='g',cmap='Blues')\n",
        "plt.ylabel(\"actual\")\n",
        "plt.xlabel('predicted');"
      ],
      "metadata": {
        "colab": {
          "base_uri": "https://localhost:8080/",
          "height": 442
        },
        "id": "5FbBbraJMdZ-",
        "outputId": "bdde5fef-fd38-4876-f552-11b62bd54023"
      },
      "execution_count": 38,
      "outputs": [
        {
          "output_type": "display_data",
          "data": {
            "text/plain": [
              "<Figure size 720x504 with 2 Axes>"
            ],
            "image/png": "[encoded data removed]"
          },
          "metadata": {
            "needs_background": "light"
          }
        }
      ]
    },
    {
      "cell_type": "markdown",
      "source": [
        "# **PRECISION, RECALL, F1 SCORE**"
      ],
      "metadata": {
        "id": "SKXYFw1MNuLm"
      }
    },
    {
      "cell_type": "code",
      "source": [
        "print(\"     Classification report of Word2vec + LSTM model\\n\")\n",
        "print(classification_report(y_test,y_pred_lstm))"
      ],
      "metadata": {
        "colab": {
          "base_uri": "https://localhost:8080/"
        },
        "id": "EHsJ3ZTNMo_W",
        "outputId": "27171447-22f1-4689-8b85-a1d1e70bf12e"
      },
      "execution_count": 39,
      "outputs": [
        {
          "output_type": "stream",
          "name": "stdout",
          "text": [
            "     Classification report of Word2vec + LSTM model\n",
            "\n",
            "              precision    recall  f1-score   support\n",
            "\n",
            "           0       0.89      0.89      0.89     16162\n",
            "           1       0.89      0.88      0.89     16162\n",
            "\n",
            "    accuracy                           0.89     32324\n",
            "   macro avg       0.89      0.89      0.89     32324\n",
            "weighted avg       0.89      0.89      0.89     32324\n",
            "\n"
          ]
        }
      ]
    },
    {
      "cell_type": "code",
      "source": [
        "#lstm_model_b.save(\"/content/drive/MyDrive/dataset-quora/Balanced_lstm_model\")"
      ],
      "metadata": {
        "id": "fIaSTWPbM6rl"
      },
      "execution_count": 42,
      "outputs": []
    },
    {
      "cell_type": "code",
      "source": [],
      "metadata": {
        "id": "UQQ8rUv1Oemg"
      },
      "execution_count": null,
      "outputs": []
    }
  ]
}