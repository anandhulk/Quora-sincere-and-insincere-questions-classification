{
  "nbformat": 4,
  "nbformat_minor": 0,
  "metadata": {
    "colab": {
      "provenance": [],
      "collapsed_sections": [],
      "mount_file_id": "1PVTetoFjECDSPpUO4KS2P8FLs83BtKW7",
      "authorship_tag": "ABX9TyMardz97CORi4DiEE8LYIPy",
      "include_colab_link": true
    },
    "kernelspec": {
      "name": "python3",
      "display_name": "Python 3"
    },
    "language_info": {
      "name": "python"
    },
    "accelerator": "GPU"
  },
  "cells": [
    {
      "cell_type": "markdown",
      "metadata": {
        "id": "view-in-github",
        "colab_type": "text"
      },
      "source": [
        "<a href=\"https://colab.research.google.com/github/anandhulk/Quora-sincere-and-insincere-questions-classification/blob/main/Glove300_Model.ipynb\" target=\"_parent\"><img src=\"https://colab.research.google.com/assets/colab-badge.svg\" alt=\"Open In Colab\"/></a>"
      ]
    },
    {
      "cell_type": "code",
      "execution_count": 1,
      "metadata": {
        "id": "sgdK8UnjtT8s"
      },
      "outputs": [],
      "source": [
        "import gensim.downloader as api\n",
        "import pandas as pd\n",
        "import numpy as np\n",
        "import tensorflow as tf\n",
        "from tensorflow.keras.preprocessing.text import Tokenizer\n",
        "from tensorflow.keras.preprocessing.sequence import pad_sequences\n",
        "from tensorflow.keras.models import Sequential\n",
        "from tensorflow.keras.layers import Dense\n",
        "from tensorflow.keras.layers import Flatten,Dropout\n",
        "from tensorflow.keras.layers import Embedding,Bidirectional,LSTM,GRU,GlobalMaxPool1D\n",
        "from sklearn.model_selection import train_test_split\n",
        "import pickle\n",
        "from sklearn.metrics import confusion_matrix,classification_report\n",
        "import seaborn as sns\n",
        "import matplotlib.pyplot as plt"
      ]
    },
    {
      "cell_type": "code",
      "source": [
        "data=pd.read_csv(\"/content/drive/MyDrive/dataset-quora/final-cleaned-dataset.csv\")\n",
        "data"
      ],
      "metadata": {
        "colab": {
          "base_uri": "https://localhost:8080/",
          "height": 424
        },
        "id": "wgBEd_wX6ETI",
        "outputId": "b670a27a-eecf-4f4b-fee3-adcb57ace57b"
      },
      "execution_count": 2,
      "outputs": [
        {
          "output_type": "execute_result",
          "data": {
            "text/plain": [
              "                                                         0  target\n",
              "0        how do Quebec nationalist see their province a...       0\n",
              "1        do you have an adopted dog  how would you enco...       0\n",
              "2        why do velocity affect time  do velocity affec...       0\n",
              "3        how do Otto von Guericke use the Magdeburg hem...       0\n",
              "4        can I convert montra helicon d to a mountain b...       0\n",
              "...                                                    ...     ...\n",
              "1306117  what other technical skill do you need as a co...       0\n",
              "1306118  do MS in ECE have good job prospect in USA or ...       0\n",
              "1306119                          be foam insulation toxic        0\n",
              "1306120  how can one start a research project base on b...       0\n",
              "1306121  who win in a battle between a Wolverine and a ...       0\n",
              "\n",
              "[1306122 rows x 2 columns]"
            ],
            "text/html": [
              "\n",
              "  <div id=\"df-47b37c7f-00a3-45fa-abda-3c03c9461ba3\">\n",
              "    <div class=\"colab-df-container\">\n",
              "      <div>\n",
              "<style scoped>\n",
              "    .dataframe tbody tr th:only-of-type {\n",
              "        vertical-align: middle;\n",
              "    }\n",
              "\n",
              "    .dataframe tbody tr th {\n",
              "        vertical-align: top;\n",
              "    }\n",
              "\n",
              "    .dataframe thead th {\n",
              "        text-align: right;\n",
              "    }\n",
              "</style>\n",
              "<table border=\"1\" class=\"dataframe\">\n",
              "  <thead>\n",
              "    <tr style=\"text-align: right;\">\n",
              "      <th></th>\n",
              "      <th>0</th>\n",
              "      <th>target</th>\n",
              "    </tr>\n",
              "  </thead>\n",
              "  <tbody>\n",
              "    <tr>\n",
              "      <th>0</th>\n",
              "      <td>how do Quebec nationalist see their province a...</td>\n",
              "      <td>0</td>\n",
              "    </tr>\n",
              "    <tr>\n",
              "      <th>1</th>\n",
              "      <td>do you have an adopted dog  how would you enco...</td>\n",
              "      <td>0</td>\n",
              "    </tr>\n",
              "    <tr>\n",
              "      <th>2</th>\n",
              "      <td>why do velocity affect time  do velocity affec...</td>\n",
              "      <td>0</td>\n",
              "    </tr>\n",
              "    <tr>\n",
              "      <th>3</th>\n",
              "      <td>how do Otto von Guericke use the Magdeburg hem...</td>\n",
              "      <td>0</td>\n",
              "    </tr>\n",
              "    <tr>\n",
              "      <th>4</th>\n",
              "      <td>can I convert montra helicon d to a mountain b...</td>\n",
              "      <td>0</td>\n",
              "    </tr>\n",
              "    <tr>\n",
              "      <th>...</th>\n",
              "      <td>...</td>\n",
              "      <td>...</td>\n",
              "    </tr>\n",
              "    <tr>\n",
              "      <th>1306117</th>\n",
              "      <td>what other technical skill do you need as a co...</td>\n",
              "      <td>0</td>\n",
              "    </tr>\n",
              "    <tr>\n",
              "      <th>1306118</th>\n",
              "      <td>do MS in ECE have good job prospect in USA or ...</td>\n",
              "      <td>0</td>\n",
              "    </tr>\n",
              "    <tr>\n",
              "      <th>1306119</th>\n",
              "      <td>be foam insulation toxic</td>\n",
              "      <td>0</td>\n",
              "    </tr>\n",
              "    <tr>\n",
              "      <th>1306120</th>\n",
              "      <td>how can one start a research project base on b...</td>\n",
              "      <td>0</td>\n",
              "    </tr>\n",
              "    <tr>\n",
              "      <th>1306121</th>\n",
              "      <td>who win in a battle between a Wolverine and a ...</td>\n",
              "      <td>0</td>\n",
              "    </tr>\n",
              "  </tbody>\n",
              "</table>\n",
              "<p>1306122 rows × 2 columns</p>\n",
              "</div>\n",
              "      <button class=\"colab-df-convert\" onclick=\"convertToInteractive('df-47b37c7f-00a3-45fa-abda-3c03c9461ba3')\"\n",
              "              title=\"Convert this dataframe to an interactive table.\"\n",
              "              style=\"display:none;\">\n",
              "        \n",
              "  <svg xmlns=\"http://www.w3.org/2000/svg\" height=\"24px\"viewBox=\"0 0 24 24\"\n",
              "       width=\"24px\">\n",
              "    <path d=\"M0 0h24v24H0V0z\" fill=\"none\"/>\n",
              "    <path d=\"M18.56 5.44l.94 2.06.94-2.06 2.06-.94-2.06-.94-.94-2.06-.94 2.06-2.06.94zm-11 1L8.5 8.5l.94-2.06 2.06-.94-2.06-.94L8.5 2.5l-.94 2.06-2.06.94zm10 10l.94 2.06.94-2.06 2.06-.94-2.06-.94-.94-2.06-.94 2.06-2.06.94z\"/><path d=\"M17.41 7.96l-1.37-1.37c-.4-.4-.92-.59-1.43-.59-.52 0-1.04.2-1.43.59L10.3 9.45l-7.72 7.72c-.78.78-.78 2.05 0 2.83L4 21.41c.39.39.9.59 1.41.59.51 0 1.02-.2 1.41-.59l7.78-7.78 2.81-2.81c.8-.78.8-2.07 0-2.86zM5.41 20L4 18.59l7.72-7.72 1.47 1.35L5.41 20z\"/>\n",
              "  </svg>\n",
              "      </button>\n",
              "      \n",
              "  <style>\n",
              "    .colab-df-container {\n",
              "      display:flex;\n",
              "      flex-wrap:wrap;\n",
              "      gap: 12px;\n",
              "    }\n",
              "\n",
              "    .colab-df-convert {\n",
              "      background-color: #E8F0FE;\n",
              "      border: none;\n",
              "      border-radius: 50%;\n",
              "      cursor: pointer;\n",
              "      display: none;\n",
              "      fill: #1967D2;\n",
              "      height: 32px;\n",
              "      padding: 0 0 0 0;\n",
              "      width: 32px;\n",
              "    }\n",
              "\n",
              "    .colab-df-convert:hover {\n",
              "      background-color: #E2EBFA;\n",
              "      box-shadow: 0px 1px 2px rgba(60, 64, 67, 0.3), 0px 1px 3px 1px rgba(60, 64, 67, 0.15);\n",
              "      fill: #174EA6;\n",
              "    }\n",
              "\n",
              "    [theme=dark] .colab-df-convert {\n",
              "      background-color: #3B4455;\n",
              "      fill: #D2E3FC;\n",
              "    }\n",
              "\n",
              "    [theme=dark] .colab-df-convert:hover {\n",
              "      background-color: #434B5C;\n",
              "      box-shadow: 0px 1px 3px 1px rgba(0, 0, 0, 0.15);\n",
              "      filter: drop-shadow(0px 1px 2px rgba(0, 0, 0, 0.3));\n",
              "      fill: #FFFFFF;\n",
              "    }\n",
              "  </style>\n",
              "\n",
              "      <script>\n",
              "        const buttonEl =\n",
              "          document.querySelector('#df-47b37c7f-00a3-45fa-abda-3c03c9461ba3 button.colab-df-convert');\n",
              "        buttonEl.style.display =\n",
              "          google.colab.kernel.accessAllowed ? 'block' : 'none';\n",
              "\n",
              "        async function convertToInteractive(key) {\n",
              "          const element = document.querySelector('#df-47b37c7f-00a3-45fa-abda-3c03c9461ba3');\n",
              "          const dataTable =\n",
              "            await google.colab.kernel.invokeFunction('convertToInteractive',\n",
              "                                                     [key], {});\n",
              "          if (!dataTable) return;\n",
              "\n",
              "          const docLinkHtml = 'Like what you see? Visit the ' +\n",
              "            '<a target=\"_blank\" href=https://colab.research.google.com/notebooks/data_table.ipynb>data table notebook</a>'\n",
              "            + ' to learn more about interactive tables.';\n",
              "          element.innerHTML = '';\n",
              "          dataTable['output_type'] = 'display_data';\n",
              "          await google.colab.output.renderOutput(dataTable, element);\n",
              "          const docLink = document.createElement('div');\n",
              "          docLink.innerHTML = docLinkHtml;\n",
              "          element.appendChild(docLink);\n",
              "        }\n",
              "      </script>\n",
              "    </div>\n",
              "  </div>\n",
              "  "
            ]
          },
          "metadata": {},
          "execution_count": 2
        }
      ]
    },
    {
      "cell_type": "code",
      "source": [
        "data.target.value_counts()"
      ],
      "metadata": {
        "colab": {
          "base_uri": "https://localhost:8080/"
        },
        "id": "-34Oyp9j7JPn",
        "outputId": "08459942-25bc-4090-ed3f-e3be083eef8a"
      },
      "execution_count": 3,
      "outputs": [
        {
          "output_type": "execute_result",
          "data": {
            "text/plain": [
              "0    1225312\n",
              "1      80810\n",
              "Name: target, dtype: int64"
            ]
          },
          "metadata": {},
          "execution_count": 3
        }
      ]
    },
    {
      "cell_type": "code",
      "source": [
        "data['0']=data['0'].str.lower()"
      ],
      "metadata": {
        "id": "iIAVOlYQIoGK"
      },
      "execution_count": 4,
      "outputs": []
    },
    {
      "cell_type": "code",
      "source": [
        "data=data.dropna()"
      ],
      "metadata": {
        "id": "b9JEi7g9fc8T"
      },
      "execution_count": 5,
      "outputs": []
    },
    {
      "cell_type": "code",
      "source": [
        "train,test=train_test_split(data,random_state=42,test_size=0.2)\n",
        "train.shape,test.shape"
      ],
      "metadata": {
        "colab": {
          "base_uri": "https://localhost:8080/"
        },
        "id": "pBZZIv1Q_j09",
        "outputId": "f145e155-6773-4231-9098-fd5a5bb66acf"
      },
      "execution_count": 6,
      "outputs": [
        {
          "output_type": "execute_result",
          "data": {
            "text/plain": [
              "((1044896, 2), (261225, 2))"
            ]
          },
          "metadata": {},
          "execution_count": 6
        }
      ]
    },
    {
      "cell_type": "code",
      "source": [
        "train.target.value_counts()"
      ],
      "metadata": {
        "colab": {
          "base_uri": "https://localhost:8080/"
        },
        "id": "LiBe4s2a_1sA",
        "outputId": "1cc5763e-f927-4f95-d418-3e9369d29a23"
      },
      "execution_count": 7,
      "outputs": [
        {
          "output_type": "execute_result",
          "data": {
            "text/plain": [
              "0    980179\n",
              "1     64717\n",
              "Name: target, dtype: int64"
            ]
          },
          "metadata": {},
          "execution_count": 7
        }
      ]
    },
    {
      "cell_type": "code",
      "source": [
        "test.target.value_counts()"
      ],
      "metadata": {
        "colab": {
          "base_uri": "https://localhost:8080/"
        },
        "id": "7tKwNzXN_6Wk",
        "outputId": "d2b4b414-3f6b-4b05-9618-37bfceae9338"
      },
      "execution_count": 8,
      "outputs": [
        {
          "output_type": "execute_result",
          "data": {
            "text/plain": [
              "0    245133\n",
              "1     16092\n",
              "Name: target, dtype: int64"
            ]
          },
          "metadata": {},
          "execution_count": 8
        }
      ]
    },
    {
      "cell_type": "code",
      "source": [
        "#stratifying the test dataset\n",
        "test_sincere=test[test[\"target\"]==0]\n",
        "test_insincere=test[test[\"target\"]==1]\n",
        "\n",
        "test_sincere_under=test_sincere.sample(len(test_insincere),axis=0)\n",
        "\n",
        "test=pd.concat([test_sincere_under,test_insincere],axis=0)"
      ],
      "metadata": {
        "id": "3JWdY93gf86_"
      },
      "execution_count": 9,
      "outputs": []
    },
    {
      "cell_type": "code",
      "source": [
        "test.target.value_counts()"
      ],
      "metadata": {
        "colab": {
          "base_uri": "https://localhost:8080/"
        },
        "id": "3GBuyKqWgnm5",
        "outputId": "a0bc8ba1-d2d9-4335-b445-d2f19280e045"
      },
      "execution_count": 10,
      "outputs": [
        {
          "output_type": "execute_result",
          "data": {
            "text/plain": [
              "0    16092\n",
              "1    16092\n",
              "Name: target, dtype: int64"
            ]
          },
          "metadata": {},
          "execution_count": 10
        }
      ]
    },
    {
      "cell_type": "code",
      "source": [
        "sincere=train[train[\"target\"]==0]\n",
        "insincere=train[train[\"target\"]==1]"
      ],
      "metadata": {
        "id": "HgfhexMH7SF-"
      },
      "execution_count": 11,
      "outputs": []
    },
    {
      "cell_type": "code",
      "source": [
        "n=len(sincere)\n",
        "insincere_over = insincere.sample(n, replace=True)"
      ],
      "metadata": {
        "id": "TjKQz9N467UX"
      },
      "execution_count": 12,
      "outputs": []
    },
    {
      "cell_type": "code",
      "source": [
        "insincere_over.shape"
      ],
      "metadata": {
        "colab": {
          "base_uri": "https://localhost:8080/"
        },
        "id": "3p1uI6xv7ego",
        "outputId": "9b2d7699-a607-4be4-872d-192e0a76f03b"
      },
      "execution_count": 13,
      "outputs": [
        {
          "output_type": "execute_result",
          "data": {
            "text/plain": [
              "(980179, 2)"
            ]
          },
          "metadata": {},
          "execution_count": 13
        }
      ]
    },
    {
      "cell_type": "code",
      "source": [
        "data_over = pd.concat([sincere, insincere_over], axis=0)"
      ],
      "metadata": {
        "id": "dQoy6Y1h7hau"
      },
      "execution_count": 14,
      "outputs": []
    },
    {
      "cell_type": "code",
      "source": [
        "data_over.target.value_counts()"
      ],
      "metadata": {
        "colab": {
          "base_uri": "https://localhost:8080/"
        },
        "id": "6XPA4Ay87_W2",
        "outputId": "684add90-c9bc-4d7b-9494-a1e218dab393"
      },
      "execution_count": 15,
      "outputs": [
        {
          "output_type": "execute_result",
          "data": {
            "text/plain": [
              "0    980179\n",
              "1    980179\n",
              "Name: target, dtype: int64"
            ]
          },
          "metadata": {},
          "execution_count": 15
        }
      ]
    },
    {
      "cell_type": "code",
      "source": [
        "data_over=data_over.sample(frac=1)\n",
        "data_over=data_over.dropna()\n",
        "data=data.dropna()"
      ],
      "metadata": {
        "id": "qhsy8tOf8PM2"
      },
      "execution_count": 16,
      "outputs": []
    },
    {
      "cell_type": "code",
      "source": [
        "x=data_over['0']\n",
        "y=data_over['target']\n",
        "x.reset_index(inplace=True, drop=True)\n",
        "\n",
        "test_x=test['0']\n",
        "test_y=test['target']\n",
        "test_x.reset_index(inplace=True, drop=True)"
      ],
      "metadata": {
        "id": "XwPpjSRK9nmV"
      },
      "execution_count": 17,
      "outputs": []
    },
    {
      "cell_type": "code",
      "source": [
        "vocab_size=50000\n",
        "max_len=100\n",
        "tokenizer=Tokenizer(num_words=vocab_size)\n",
        "fit_text=list(data['0'])"
      ],
      "metadata": {
        "id": "ojbvfDrc8sBO"
      },
      "execution_count": 20,
      "outputs": []
    },
    {
      "cell_type": "code",
      "source": [
        "tokenizer.fit_on_texts(fit_text)\n",
        "X_train=tokenizer.texts_to_sequences(x)"
      ],
      "metadata": {
        "id": "JkyomvuP9yAt"
      },
      "execution_count": 21,
      "outputs": []
    },
    {
      "cell_type": "code",
      "source": [
        "X_test=tokenizer.texts_to_sequences(test_x)"
      ],
      "metadata": {
        "id": "drQ4Mcr5BJNS"
      },
      "execution_count": 22,
      "outputs": []
    },
    {
      "cell_type": "code",
      "source": [
        "# saving\n",
        "with open('/content/drive/MyDrive/dataset-quora/tokenizer3.pickle', 'wb') as handle:\n",
        "    pickle.dump(tokenizer, handle, protocol=pickle.HIGHEST_PROTOCOL)"
      ],
      "metadata": {
        "id": "r9Apg4s6MtA5"
      },
      "execution_count": null,
      "outputs": []
    },
    {
      "cell_type": "code",
      "source": [
        "# loading\n",
        "with open('/content/drive/MyDrive/dataset-quora/tokenizer3.pickle', 'rb') as handle:\n",
        "    tokenizer = pickle.load(handle)"
      ],
      "metadata": {
        "id": "7QpOmOA4Muw5"
      },
      "execution_count": null,
      "outputs": []
    },
    {
      "cell_type": "code",
      "source": [
        "print(len(tokenizer.word_index))"
      ],
      "metadata": {
        "colab": {
          "base_uri": "https://localhost:8080/"
        },
        "id": "Mld6pvY89-FF",
        "outputId": "bb8b8d8b-ec03-4da7-9bd7-1ee5c9955200"
      },
      "execution_count": 23,
      "outputs": [
        {
          "output_type": "stream",
          "name": "stdout",
          "text": [
            "169244\n"
          ]
        }
      ]
    },
    {
      "cell_type": "code",
      "source": [
        "x[0]"
      ],
      "metadata": {
        "colab": {
          "base_uri": "https://localhost:8080/",
          "height": 35
        },
        "id": "AkGgaa_aKZkP",
        "outputId": "4160783b-9616-44ea-83ed-3ce6f60e53f2"
      },
      "execution_count": 24,
      "outputs": [
        {
          "output_type": "execute_result",
          "data": {
            "text/plain": [
              "'why do norwegians use the excuse of  be shy  for be downright impolite '"
            ],
            "application/vnd.google.colaboratory.intrinsic+json": {
              "type": "string"
            }
          },
          "metadata": {},
          "execution_count": 24
        }
      ]
    },
    {
      "cell_type": "code",
      "source": [
        "X_train[0]"
      ],
      "metadata": {
        "colab": {
          "base_uri": "https://localhost:8080/"
        },
        "id": "fRXVTEQY_L_s",
        "outputId": "4608f939-014f-40c9-9bad-68bf183eb909"
      },
      "execution_count": 25,
      "outputs": [
        {
          "output_type": "execute_result",
          "data": {
            "text/plain": [
              "[15, 4, 14469, 45, 2, 2951, 9, 1, 2288, 12, 1, 21204, 17024]"
            ]
          },
          "metadata": {},
          "execution_count": 25
        }
      ]
    },
    {
      "cell_type": "code",
      "source": [
        "tokenizer.word_index['marriage']"
      ],
      "metadata": {
        "colab": {
          "base_uri": "https://localhost:8080/"
        },
        "id": "J8f6OeZM_PGN",
        "outputId": "a33f25a6-da14-4008-a950-11a9effa7f0b"
      },
      "execution_count": 26,
      "outputs": [
        {
          "output_type": "execute_result",
          "data": {
            "text/plain": [
              "563"
            ]
          },
          "metadata": {},
          "execution_count": 26
        }
      ]
    },
    {
      "cell_type": "code",
      "source": [
        "X_train=pad_sequences(X_train,maxlen=max_len,padding='pre')\n",
        "\n",
        "X_test=pad_sequences(X_test,maxlen=max_len,padding='pre')\n",
        "\n",
        "print(X_train)\n",
        "print(\"Training set: \",X_train.shape,\" Testing set: \",X_test.shape)"
      ],
      "metadata": {
        "colab": {
          "base_uri": "https://localhost:8080/"
        },
        "id": "Znot5HyT-Kdt",
        "outputId": "d511a7d4-8126-4bcd-e919-f63241650909"
      },
      "execution_count": 27,
      "outputs": [
        {
          "output_type": "stream",
          "name": "stdout",
          "text": [
            "[[    0     0     0 ...     1 21204 17024]\n",
            " [    0     0     0 ...    25     3   535]\n",
            " [    0     0     0 ...    12 37096 13096]\n",
            " ...\n",
            " [    0     0     0 ...   892  4054   651]\n",
            " [    0     0     0 ...     7   244  1273]\n",
            " [    0     0     0 ...   825    83  1499]]\n",
            "Training set:  (1960358, 100)  Testing set:  (32184, 100)\n"
          ]
        }
      ]
    },
    {
      "cell_type": "code",
      "source": [
        "glove_embedded = \"/content/drive/MyDrive/dataset-quora/glove.6B.300d.txt\""
      ],
      "metadata": {
        "id": "1eSbBHjq_T8W"
      },
      "execution_count": 28,
      "outputs": []
    },
    {
      "cell_type": "code",
      "source": [
        "def getting_glove_embedding(filename):  #Getting glove embedding in a dictionary\n",
        "    file = open(filename,'r')\n",
        "    lines = file.readlines()\n",
        "    embedding = dict()\n",
        "    for line in lines:\n",
        "        parts = line.split()\n",
        "        embedding[parts[0]] = np.asarray(parts[1:],dtype='float32')\n",
        "        \n",
        "    return(embedding)"
      ],
      "metadata": {
        "id": "LO_bvfVGLk4t"
      },
      "execution_count": 29,
      "outputs": []
    },
    {
      "cell_type": "code",
      "source": [
        "def embedding_weights(vocab,raw_embedding):  #raw_embedding = getting_glove_embedding(filename)\n",
        "    \n",
        "    vocab_size = len(vocab)+1\n",
        "    weight_matrix = np.zeros((vocab_size,300)) #each word with 300 dimensions\n",
        "    \n",
        "    for word , i in vocab.items():\n",
        "        vector = raw_embedding.get(word)\n",
        "        if vector is not None:\n",
        "            weight_matrix[i] = vector\n",
        "            \n",
        "    return(weight_matrix)"
      ],
      "metadata": {
        "id": "3kAB53hWLmzV"
      },
      "execution_count": 30,
      "outputs": []
    },
    {
      "cell_type": "code",
      "source": [
        "raw_embedding = getting_glove_embedding(glove_embedded)\n",
        "print(\"<<<<<<< Raw Embedding Loaded >>>>>>>\")\n",
        "embedding_vectors = embedding_weights(tokenizer.word_index,raw_embedding)"
      ],
      "metadata": {
        "colab": {
          "base_uri": "https://localhost:8080/"
        },
        "id": "8XWnMVPELo-O",
        "outputId": "a8dc4a79-d3b0-410d-978e-09206a7f280b"
      },
      "execution_count": 31,
      "outputs": [
        {
          "output_type": "stream",
          "name": "stdout",
          "text": [
            "<<<<<<< Raw Embedding Loaded >>>>>>>\n"
          ]
        }
      ]
    },
    {
      "cell_type": "code",
      "source": [
        "gloveModel=Sequential([\n",
        "    Embedding(len(tokenizer.word_index)+1,300,weights=[embedding_vectors]),\n",
        "    Bidirectional(LSTM(128,return_sequences=True)),\n",
        "    Dropout(0.4),\n",
        "    Bidirectional(LSTM(64,return_sequences=True)),\n",
        "    Dropout(0.4),\n",
        "    Bidirectional(LSTM(32,return_sequences=True)),\n",
        "    GlobalMaxPool1D(),\n",
        "    Dense(10,activation=\"relu\"),\n",
        "    Dropout(0.2),\n",
        "    Dense(1,activation=\"sigmoid\")\n",
        "])"
      ],
      "metadata": {
        "id": "ztYd_tt4LuF9"
      },
      "execution_count": 52,
      "outputs": []
    },
    {
      "cell_type": "code",
      "source": [
        "METRICS = [\n",
        "      tf.keras.metrics.BinaryAccuracy(name='accuracy'),\n",
        "      tf.keras.metrics.Precision(name='precision'),\n",
        "      tf.keras.metrics.Recall(name='recall')\n",
        "]\n",
        "\n",
        "gloveModel.compile(optimizer=\"adam\",\n",
        "             loss=\"binary_crossentropy\",\n",
        "             metrics=METRICS)\n",
        "\n",
        "\n",
        "gloveModel.summary()"
      ],
      "metadata": {
        "colab": {
          "base_uri": "https://localhost:8080/"
        },
        "id": "qmozp3ZIL62U",
        "outputId": "471a5f3f-1746-414b-fd4c-07ef0c785a6f"
      },
      "execution_count": 53,
      "outputs": [
        {
          "output_type": "stream",
          "name": "stdout",
          "text": [
            "Model: \"sequential_2\"\n",
            "_________________________________________________________________\n",
            " Layer (type)                Output Shape              Param #   \n",
            "=================================================================\n",
            " embedding_2 (Embedding)     (None, None, 300)         50773500  \n",
            "                                                                 \n",
            " bidirectional_6 (Bidirectio  (None, None, 256)        439296    \n",
            " nal)                                                            \n",
            "                                                                 \n",
            " dropout_6 (Dropout)         (None, None, 256)         0         \n",
            "                                                                 \n",
            " bidirectional_7 (Bidirectio  (None, None, 128)        164352    \n",
            " nal)                                                            \n",
            "                                                                 \n",
            " dropout_7 (Dropout)         (None, None, 128)         0         \n",
            "                                                                 \n",
            " bidirectional_8 (Bidirectio  (None, None, 64)         41216     \n",
            " nal)                                                            \n",
            "                                                                 \n",
            " global_max_pooling1d_2 (Glo  (None, 64)               0         \n",
            " balMaxPooling1D)                                                \n",
            "                                                                 \n",
            " dense_4 (Dense)             (None, 10)                650       \n",
            "                                                                 \n",
            " dropout_8 (Dropout)         (None, 10)                0         \n",
            "                                                                 \n",
            " dense_5 (Dense)             (None, 1)                 11        \n",
            "                                                                 \n",
            "=================================================================\n",
            "Total params: 51,419,025\n",
            "Trainable params: 51,419,025\n",
            "Non-trainable params: 0\n",
            "_________________________________________________________________\n"
          ]
        }
      ]
    },
    {
      "cell_type": "code",
      "source": [
        "gloveModel.fit(X_train,y,validation_data=[X_test,test_y],epochs=1,batch_size=1024)"
      ],
      "metadata": {
        "colab": {
          "base_uri": "https://localhost:8080/"
        },
        "id": "7C5M7cdUMC8k",
        "outputId": "b307719a-94c7-4924-85c6-ff6bc8d9006d"
      },
      "execution_count": 54,
      "outputs": [
        {
          "output_type": "stream",
          "name": "stdout",
          "text": [
            "1915/1915 [==============================] - 463s 238ms/step - loss: 0.2062 - accuracy: 0.9260 - precision: 0.9071 - recall: 0.9492 - val_loss: 0.3841 - val_accuracy: 0.8957 - val_precision: 0.9175 - val_recall: 0.8696\n"
          ]
        },
        {
          "output_type": "execute_result",
          "data": {
            "text/plain": [
              "<keras.callbacks.History at 0x7ff5e4090190>"
            ]
          },
          "metadata": {},
          "execution_count": 54
        }
      ]
    },
    {
      "cell_type": "code",
      "source": [
        "#model save\n",
        "gloveModel.save(\"/content/drive/MyDrive/dataset-quora/model_v3\")"
      ],
      "metadata": {
        "id": "iQ31sahZolXm"
      },
      "execution_count": null,
      "outputs": []
    },
    {
      "cell_type": "code",
      "source": [
        "#load model\n",
        "gloveModel=tf.keras.models.load_model(\"/content/drive/MyDrive/dataset-quora/model_v3\", custom_objects=None, compile=True, options=None) "
      ],
      "metadata": {
        "id": "RcjRMfX23MK2"
      },
      "execution_count": 68,
      "outputs": []
    },
    {
      "cell_type": "code",
      "source": [
        "y_pred2=gloveModel.predict(X_test)"
      ],
      "metadata": {
        "id": "mxsYJMjzloJy"
      },
      "execution_count": 69,
      "outputs": []
    },
    {
      "cell_type": "code",
      "source": [
        "threshold=0.45\n",
        "y_p=[]\n",
        "for i in y_pred2:\n",
        "    if(i>=threshold):\n",
        "        y_p.append(1)\n",
        "    else:\n",
        "        y_p.append(0)\n",
        "confusion=confusion_matrix(test_y,y_p)"
      ],
      "metadata": {
        "id": "pEM9zF8CMSkV"
      },
      "execution_count": 82,
      "outputs": []
    },
    {
      "cell_type": "code",
      "source": [
        "plt.figure(figsize = (10,7))\n",
        "sns.heatmap(confusion, annot=True,fmt='g',cmap='Blues')\n",
        "plt.ylabel(\"actual\")\n",
        "plt.xlabel('predicted');"
      ],
      "metadata": {
        "colab": {
          "base_uri": "https://localhost:8080/",
          "height": 442
        },
        "id": "faZWU6WfUxZZ",
        "outputId": "95f12b04-43b7-49b8-f6d8-07ff8afdf1cb"
      },
      "execution_count": 83,
      "outputs": [
        {
          "output_type": "display_data",
          "data": {
            "text/plain": [
              "<Figure size 720x504 with 2 Axes>"
            ],
            "image/png": "[encoded data removed]"
          },
          "metadata": {
            "needs_background": "light"
          }
        }
      ]
    },
    {
      "cell_type": "code",
      "source": [
        "print(\"     Classification report of Glove LSTM model\\n\")\n",
        "print(classification_report(test_y,y_p))"
      ],
      "metadata": {
        "colab": {
          "base_uri": "https://localhost:8080/"
        },
        "id": "QX9im_T-V-kQ",
        "outputId": "c6d653dc-6595-428b-e1e5-6cabbad0020a"
      },
      "execution_count": 84,
      "outputs": [
        {
          "output_type": "stream",
          "name": "stdout",
          "text": [
            "     Classification report of Glove LSTM model\n",
            "\n",
            "              precision    recall  f1-score   support\n",
            "\n",
            "           0       0.89      0.90      0.90     16092\n",
            "           1       0.90      0.89      0.89     16092\n",
            "\n",
            "    accuracy                           0.89     32184\n",
            "   macro avg       0.89      0.89      0.89     32184\n",
            "weighted avg       0.89      0.89      0.89     32184\n",
            "\n"
          ]
        }
      ]
    },
    {
      "cell_type": "code",
      "source": [
        "def predict(question):\n",
        "  question=tokenizer.texts_to_sequences(question)\n",
        "  question=pad_sequences(question,maxlen=max_len,padding='pre')\n",
        "  pred=gloveModel.predict(question)\n",
        "  if(pred[0][0])>threshold:\n",
        "    print(\"InSincere\")\n",
        "    print(pred[0][0],\"%\")\n",
        "  else:\n",
        "    print(\"Sincere\")\n",
        "    print(pred[0][0],\"%\")"
      ],
      "metadata": {
        "id": "T3b8sItjdxsj"
      },
      "execution_count": 85,
      "outputs": []
    },
    {
      "cell_type": "code",
      "source": [
        "q=input()\n",
        "question=[]\n",
        "question.append(q)\n",
        "predict(question)"
      ],
      "metadata": {
        "colab": {
          "base_uri": "https://localhost:8080/"
        },
        "id": "UJoL9z2VpAyX",
        "outputId": "3b258626-2e29-4d52-debf-e73625ceab0d"
      },
      "execution_count": 87,
      "outputs": [
        {
          "output_type": "stream",
          "name": "stdout",
          "text": [
            "why india banned porn sites\n",
            "Sincere\n",
            "0.43172958 %\n"
          ]
        }
      ]
    },
    {
      "cell_type": "code",
      "source": [],
      "metadata": {
        "id": "WRn3RxAXpDKk"
      },
      "execution_count": null,
      "outputs": []
    }
  ]
}