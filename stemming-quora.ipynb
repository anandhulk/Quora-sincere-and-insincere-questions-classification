{
 "cells": [
  {
   "cell_type": "code",
   "execution_count": 1,
   "id": "0f553a2b",
   "metadata": {
    "_cell_guid": "b1076dfc-b9ad-4769-8c92-a6c4dae69d19",
    "_uuid": "8f2839f25d086af736a60e9eeb907d3b93b6e0e5",
    "execution": {
     "iopub.execute_input": "2022-08-28T16:14:17.063988Z",
     "iopub.status.busy": "2022-08-28T16:14:17.063367Z",
     "iopub.status.idle": "2022-08-28T16:14:17.082532Z",
     "shell.execute_reply": "2022-08-28T16:14:17.081051Z"
    },
    "papermill": {
     "duration": 0.030599,
     "end_time": "2022-08-28T16:14:17.085610",
     "exception": false,
     "start_time": "2022-08-28T16:14:17.055011",
     "status": "completed"
    },
    "tags": []
   },
   "outputs": [
    {
     "name": "stdout",
     "output_type": "stream",
     "text": [
      "/kaggle/input/quora-insincere-questions-classification/sample_submission.csv\n",
      "/kaggle/input/quora-insincere-questions-classification/embeddings.zip\n",
      "/kaggle/input/quora-insincere-questions-classification/train.csv\n",
      "/kaggle/input/quora-insincere-questions-classification/test.csv\n"
     ]
    }
   ],
   "source": [
    "# This Python 3 environment comes with many helpful analytics libraries installed\n",
    "# It is defined by the kaggle/python Docker image: https://github.com/kaggle/docker-python\n",
    "# For example, here's several helpful packages to load\n",
    "\n",
    "import numpy as np # linear algebra\n",
    "import pandas as pd # data processing, CSV file I/O (e.g. pd.read_csv)\n",
    "\n",
    "# Input data files are available in the read-only \"../input/\" directory\n",
    "# For example, running this (by clicking run or pressing Shift+Enter) will list all files under the input directory\n",
    "\n",
    "import os\n",
    "for dirname, _, filenames in os.walk('/kaggle/input'):\n",
    "    for filename in filenames:\n",
    "        print(os.path.join(dirname, filename))\n",
    "\n",
    "# You can write up to 20GB to the current directory (/kaggle/working/) that gets preserved as output when you create a version using \"Save & Run All\" \n",
    "# You can also write temporary files to /kaggle/temp/, but they won't be saved outside of the current session"
   ]
  },
  {
   "cell_type": "code",
   "execution_count": 2,
   "id": "fd222505",
   "metadata": {
    "execution": {
     "iopub.execute_input": "2022-08-28T16:14:17.098818Z",
     "iopub.status.busy": "2022-08-28T16:14:17.097998Z",
     "iopub.status.idle": "2022-08-28T16:14:22.024593Z",
     "shell.execute_reply": "2022-08-28T16:14:22.023079Z"
    },
    "papermill": {
     "duration": 4.936554,
     "end_time": "2022-08-28T16:14:22.027768",
     "exception": false,
     "start_time": "2022-08-28T16:14:17.091214",
     "status": "completed"
    },
    "tags": []
   },
   "outputs": [],
   "source": [
    "data=pd.read_csv(\"../input/quora-insincere-questions-classification/train.csv\")"
   ]
  },
  {
   "cell_type": "code",
   "execution_count": 3,
   "id": "e6479d2a",
   "metadata": {
    "execution": {
     "iopub.execute_input": "2022-08-28T16:14:22.040048Z",
     "iopub.status.busy": "2022-08-28T16:14:22.039637Z",
     "iopub.status.idle": "2022-08-28T16:14:22.065777Z",
     "shell.execute_reply": "2022-08-28T16:14:22.064617Z"
    },
    "papermill": {
     "duration": 0.035513,
     "end_time": "2022-08-28T16:14:22.068539",
     "exception": false,
     "start_time": "2022-08-28T16:14:22.033026",
     "status": "completed"
    },
    "tags": []
   },
   "outputs": [
    {
     "data": {
      "text/html": [
       "<div>\n",
       "<style scoped>\n",
       "    .dataframe tbody tr th:only-of-type {\n",
       "        vertical-align: middle;\n",
       "    }\n",
       "\n",
       "    .dataframe tbody tr th {\n",
       "        vertical-align: top;\n",
       "    }\n",
       "\n",
       "    .dataframe thead th {\n",
       "        text-align: right;\n",
       "    }\n",
       "</style>\n",
       "<table border=\"1\" class=\"dataframe\">\n",
       "  <thead>\n",
       "    <tr style=\"text-align: right;\">\n",
       "      <th></th>\n",
       "      <th>qid</th>\n",
       "      <th>question_text</th>\n",
       "      <th>target</th>\n",
       "    </tr>\n",
       "  </thead>\n",
       "  <tbody>\n",
       "    <tr>\n",
       "      <th>0</th>\n",
       "      <td>00002165364db923c7e6</td>\n",
       "      <td>How did Quebec nationalists see their province...</td>\n",
       "      <td>0</td>\n",
       "    </tr>\n",
       "    <tr>\n",
       "      <th>1</th>\n",
       "      <td>000032939017120e6e44</td>\n",
       "      <td>Do you have an adopted dog, how would you enco...</td>\n",
       "      <td>0</td>\n",
       "    </tr>\n",
       "    <tr>\n",
       "      <th>2</th>\n",
       "      <td>0000412ca6e4628ce2cf</td>\n",
       "      <td>Why does velocity affect time? Does velocity a...</td>\n",
       "      <td>0</td>\n",
       "    </tr>\n",
       "    <tr>\n",
       "      <th>3</th>\n",
       "      <td>000042bf85aa498cd78e</td>\n",
       "      <td>How did Otto von Guericke used the Magdeburg h...</td>\n",
       "      <td>0</td>\n",
       "    </tr>\n",
       "    <tr>\n",
       "      <th>4</th>\n",
       "      <td>0000455dfa3e01eae3af</td>\n",
       "      <td>Can I convert montra helicon D to a mountain b...</td>\n",
       "      <td>0</td>\n",
       "    </tr>\n",
       "  </tbody>\n",
       "</table>\n",
       "</div>"
      ],
      "text/plain": [
       "                    qid                                      question_text  \\\n",
       "0  00002165364db923c7e6  How did Quebec nationalists see their province...   \n",
       "1  000032939017120e6e44  Do you have an adopted dog, how would you enco...   \n",
       "2  0000412ca6e4628ce2cf  Why does velocity affect time? Does velocity a...   \n",
       "3  000042bf85aa498cd78e  How did Otto von Guericke used the Magdeburg h...   \n",
       "4  0000455dfa3e01eae3af  Can I convert montra helicon D to a mountain b...   \n",
       "\n",
       "   target  \n",
       "0       0  \n",
       "1       0  \n",
       "2       0  \n",
       "3       0  \n",
       "4       0  "
      ]
     },
     "execution_count": 3,
     "metadata": {},
     "output_type": "execute_result"
    }
   ],
   "source": [
    "data.head()"
   ]
  },
  {
   "cell_type": "code",
   "execution_count": 4,
   "id": "145362ef",
   "metadata": {
    "execution": {
     "iopub.execute_input": "2022-08-28T16:14:22.081997Z",
     "iopub.status.busy": "2022-08-28T16:14:22.081568Z",
     "iopub.status.idle": "2022-08-28T16:14:22.090097Z",
     "shell.execute_reply": "2022-08-28T16:14:22.088528Z"
    },
    "papermill": {
     "duration": 0.018625,
     "end_time": "2022-08-28T16:14:22.092837",
     "exception": false,
     "start_time": "2022-08-28T16:14:22.074212",
     "status": "completed"
    },
    "tags": []
   },
   "outputs": [
    {
     "data": {
      "text/plain": [
       "(1306122, 3)"
      ]
     },
     "execution_count": 4,
     "metadata": {},
     "output_type": "execute_result"
    }
   ],
   "source": [
    "data.shape"
   ]
  },
  {
   "cell_type": "code",
   "execution_count": 5,
   "id": "e7e3d8e5",
   "metadata": {
    "execution": {
     "iopub.execute_input": "2022-08-28T16:14:22.106422Z",
     "iopub.status.busy": "2022-08-28T16:14:22.105270Z",
     "iopub.status.idle": "2022-08-28T16:14:24.022739Z",
     "shell.execute_reply": "2022-08-28T16:14:24.021507Z"
    },
    "papermill": {
     "duration": 1.927396,
     "end_time": "2022-08-28T16:14:24.025898",
     "exception": false,
     "start_time": "2022-08-28T16:14:22.098502",
     "status": "completed"
    },
    "tags": []
   },
   "outputs": [],
   "source": [
    "from nltk.tokenize import word_tokenize\n",
    "from nltk.stem import SnowballStemmer"
   ]
  },
  {
   "cell_type": "code",
   "execution_count": 6,
   "id": "e2314b6b",
   "metadata": {
    "execution": {
     "iopub.execute_input": "2022-08-28T16:14:24.039067Z",
     "iopub.status.busy": "2022-08-28T16:14:24.038642Z",
     "iopub.status.idle": "2022-08-28T16:14:24.044247Z",
     "shell.execute_reply": "2022-08-28T16:14:24.042868Z"
    },
    "papermill": {
     "duration": 0.015214,
     "end_time": "2022-08-28T16:14:24.046730",
     "exception": false,
     "start_time": "2022-08-28T16:14:24.031516",
     "status": "completed"
    },
    "tags": []
   },
   "outputs": [],
   "source": [
    "snowball=SnowballStemmer(language='english')"
   ]
  },
  {
   "cell_type": "code",
   "execution_count": 7,
   "id": "6ca5aa1a",
   "metadata": {
    "execution": {
     "iopub.execute_input": "2022-08-28T16:14:24.060334Z",
     "iopub.status.busy": "2022-08-28T16:14:24.059643Z",
     "iopub.status.idle": "2022-08-28T16:14:24.064023Z",
     "shell.execute_reply": "2022-08-28T16:14:24.063063Z"
    },
    "papermill": {
     "duration": 0.014195,
     "end_time": "2022-08-28T16:14:24.066776",
     "exception": false,
     "start_time": "2022-08-28T16:14:24.052581",
     "status": "completed"
    },
    "tags": []
   },
   "outputs": [],
   "source": [
    "sentence_example = (\n",
    "  'This is definitely a controversy as the attorney labeled the case \"extremely controversial\"'\n",
    ")"
   ]
  },
  {
   "cell_type": "code",
   "execution_count": 8,
   "id": "36feb279",
   "metadata": {
    "execution": {
     "iopub.execute_input": "2022-08-28T16:14:24.080597Z",
     "iopub.status.busy": "2022-08-28T16:14:24.080149Z",
     "iopub.status.idle": "2022-08-28T16:14:24.102408Z",
     "shell.execute_reply": "2022-08-28T16:14:24.101398Z"
    },
    "papermill": {
     "duration": 0.032576,
     "end_time": "2022-08-28T16:14:24.104890",
     "exception": false,
     "start_time": "2022-08-28T16:14:24.072314",
     "status": "completed"
    },
    "tags": []
   },
   "outputs": [
    {
     "data": {
      "text/plain": [
       "['This',\n",
       " 'is',\n",
       " 'definitely',\n",
       " 'a',\n",
       " 'controversy',\n",
       " 'as',\n",
       " 'the',\n",
       " 'attorney',\n",
       " 'labeled',\n",
       " 'the',\n",
       " 'case',\n",
       " '``',\n",
       " 'extremely',\n",
       " 'controversial',\n",
       " \"''\"]"
      ]
     },
     "execution_count": 8,
     "metadata": {},
     "output_type": "execute_result"
    }
   ],
   "source": [
    "word_tokenize(sentence_example)"
   ]
  },
  {
   "cell_type": "code",
   "execution_count": 9,
   "id": "1f833b18",
   "metadata": {
    "execution": {
     "iopub.execute_input": "2022-08-28T16:14:24.119133Z",
     "iopub.status.busy": "2022-08-28T16:14:24.118338Z",
     "iopub.status.idle": "2022-08-28T16:14:24.125156Z",
     "shell.execute_reply": "2022-08-28T16:14:24.124213Z"
    },
    "papermill": {
     "duration": 0.016637,
     "end_time": "2022-08-28T16:14:24.127599",
     "exception": false,
     "start_time": "2022-08-28T16:14:24.110962",
     "status": "completed"
    },
    "tags": []
   },
   "outputs": [],
   "source": [
    "def stemm(df):\n",
    "    res=[]\n",
    "    count=df.shape[0]\n",
    "    \n",
    "    for row in df:\n",
    "        doc=word_tokenize(row)\n",
    "        row=\" \".join([snowball.stem(word) for word in doc])\n",
    "        res.append(row)\n",
    "        count=count-1\n",
    "        \n",
    "        if(count%10000==0):\n",
    "            print(\"remaining = \",count)\n",
    "            \n",
    "    res=pd.Series(res)\n",
    "    return res"
   ]
  },
  {
   "cell_type": "code",
   "execution_count": 10,
   "id": "2f030ef2",
   "metadata": {
    "execution": {
     "iopub.execute_input": "2022-08-28T16:14:24.140944Z",
     "iopub.status.busy": "2022-08-28T16:14:24.140172Z",
     "iopub.status.idle": "2022-08-28T16:21:20.592717Z",
     "shell.execute_reply": "2022-08-28T16:21:20.591228Z"
    },
    "papermill": {
     "duration": 416.462224,
     "end_time": "2022-08-28T16:21:20.595395",
     "exception": false,
     "start_time": "2022-08-28T16:14:24.133171",
     "status": "completed"
    },
    "tags": []
   },
   "outputs": [
    {
     "name": "stdout",
     "output_type": "stream",
     "text": [
      "remaining =  1300000\n",
      "remaining =  1290000\n",
      "remaining =  1280000\n",
      "remaining =  1270000\n",
      "remaining =  1260000\n",
      "remaining =  1250000\n",
      "remaining =  1240000\n",
      "remaining =  1230000\n",
      "remaining =  1220000\n",
      "remaining =  1210000\n",
      "remaining =  1200000\n",
      "remaining =  1190000\n",
      "remaining =  1180000\n",
      "remaining =  1170000\n",
      "remaining =  1160000\n",
      "remaining =  1150000\n",
      "remaining =  1140000\n",
      "remaining =  1130000\n",
      "remaining =  1120000\n",
      "remaining =  1110000\n",
      "remaining =  1100000\n",
      "remaining =  1090000\n",
      "remaining =  1080000\n",
      "remaining =  1070000\n",
      "remaining =  1060000\n",
      "remaining =  1050000\n",
      "remaining =  1040000\n",
      "remaining =  1030000\n",
      "remaining =  1020000\n",
      "remaining =  1010000\n",
      "remaining =  1000000\n",
      "remaining =  990000\n",
      "remaining =  980000\n",
      "remaining =  970000\n",
      "remaining =  960000\n",
      "remaining =  950000\n",
      "remaining =  940000\n",
      "remaining =  930000\n",
      "remaining =  920000\n",
      "remaining =  910000\n",
      "remaining =  900000\n",
      "remaining =  890000\n",
      "remaining =  880000\n",
      "remaining =  870000\n",
      "remaining =  860000\n",
      "remaining =  850000\n",
      "remaining =  840000\n",
      "remaining =  830000\n",
      "remaining =  820000\n",
      "remaining =  810000\n",
      "remaining =  800000\n",
      "remaining =  790000\n",
      "remaining =  780000\n",
      "remaining =  770000\n",
      "remaining =  760000\n",
      "remaining =  750000\n",
      "remaining =  740000\n",
      "remaining =  730000\n",
      "remaining =  720000\n",
      "remaining =  710000\n",
      "remaining =  700000\n",
      "remaining =  690000\n",
      "remaining =  680000\n",
      "remaining =  670000\n",
      "remaining =  660000\n",
      "remaining =  650000\n",
      "remaining =  640000\n",
      "remaining =  630000\n",
      "remaining =  620000\n",
      "remaining =  610000\n",
      "remaining =  600000\n",
      "remaining =  590000\n",
      "remaining =  580000\n",
      "remaining =  570000\n",
      "remaining =  560000\n",
      "remaining =  550000\n",
      "remaining =  540000\n",
      "remaining =  530000\n",
      "remaining =  520000\n",
      "remaining =  510000\n",
      "remaining =  500000\n",
      "remaining =  490000\n",
      "remaining =  480000\n",
      "remaining =  470000\n",
      "remaining =  460000\n",
      "remaining =  450000\n",
      "remaining =  440000\n",
      "remaining =  430000\n",
      "remaining =  420000\n",
      "remaining =  410000\n",
      "remaining =  400000\n",
      "remaining =  390000\n",
      "remaining =  380000\n",
      "remaining =  370000\n",
      "remaining =  360000\n",
      "remaining =  350000\n",
      "remaining =  340000\n",
      "remaining =  330000\n",
      "remaining =  320000\n",
      "remaining =  310000\n",
      "remaining =  300000\n",
      "remaining =  290000\n",
      "remaining =  280000\n",
      "remaining =  270000\n",
      "remaining =  260000\n",
      "remaining =  250000\n",
      "remaining =  240000\n",
      "remaining =  230000\n",
      "remaining =  220000\n",
      "remaining =  210000\n",
      "remaining =  200000\n",
      "remaining =  190000\n",
      "remaining =  180000\n",
      "remaining =  170000\n",
      "remaining =  160000\n",
      "remaining =  150000\n",
      "remaining =  140000\n",
      "remaining =  130000\n",
      "remaining =  120000\n",
      "remaining =  110000\n",
      "remaining =  100000\n",
      "remaining =  90000\n",
      "remaining =  80000\n",
      "remaining =  70000\n",
      "remaining =  60000\n",
      "remaining =  50000\n",
      "remaining =  40000\n",
      "remaining =  30000\n",
      "remaining =  20000\n",
      "remaining =  10000\n",
      "remaining =  0\n"
     ]
    }
   ],
   "source": [
    "stemmed_data=stemm(data.question_text)"
   ]
  },
  {
   "cell_type": "code",
   "execution_count": 11,
   "id": "adf631dd",
   "metadata": {
    "execution": {
     "iopub.execute_input": "2022-08-28T16:21:20.623730Z",
     "iopub.status.busy": "2022-08-28T16:21:20.623293Z",
     "iopub.status.idle": "2022-08-28T16:21:20.633782Z",
     "shell.execute_reply": "2022-08-28T16:21:20.632388Z"
    },
    "papermill": {
     "duration": 0.027784,
     "end_time": "2022-08-28T16:21:20.636466",
     "exception": false,
     "start_time": "2022-08-28T16:21:20.608682",
     "status": "completed"
    },
    "tags": []
   },
   "outputs": [
    {
     "data": {
      "text/plain": [
       "0          how did quebec nationalist see their provinc a...\n",
       "1          do you have an adopt dog , how would you encou...\n",
       "2          whi doe veloc affect time ? doe veloc affect s...\n",
       "3          how did otto von guerick use the magdeburg hem...\n",
       "4          can i convert montra helicon d to a mountain b...\n",
       "                                 ...                        \n",
       "1306117    what other technic skill do you need as a comp...\n",
       "1306118    doe ms in ece have good job prospect in usa or...\n",
       "1306119                                is foam insul toxic ?\n",
       "1306120    how can one start a research project base on b...\n",
       "1306121    who win in a battl between a wolverin and a pu...\n",
       "Length: 1306122, dtype: object"
      ]
     },
     "execution_count": 11,
     "metadata": {},
     "output_type": "execute_result"
    }
   ],
   "source": [
    "stemmed_data"
   ]
  },
  {
   "cell_type": "code",
   "execution_count": 12,
   "id": "711189d2",
   "metadata": {
    "execution": {
     "iopub.execute_input": "2022-08-28T16:21:20.665114Z",
     "iopub.status.busy": "2022-08-28T16:21:20.664688Z",
     "iopub.status.idle": "2022-08-28T16:21:20.771386Z",
     "shell.execute_reply": "2022-08-28T16:21:20.770318Z"
    },
    "papermill": {
     "duration": 0.124314,
     "end_time": "2022-08-28T16:21:20.774183",
     "exception": false,
     "start_time": "2022-08-28T16:21:20.649869",
     "status": "completed"
    },
    "tags": []
   },
   "outputs": [],
   "source": [
    "data[\"question_text\"]=stemmed_data"
   ]
  },
  {
   "cell_type": "code",
   "execution_count": 13,
   "id": "404d68c5",
   "metadata": {
    "execution": {
     "iopub.execute_input": "2022-08-28T16:21:20.803326Z",
     "iopub.status.busy": "2022-08-28T16:21:20.802896Z",
     "iopub.status.idle": "2022-08-28T16:21:20.819143Z",
     "shell.execute_reply": "2022-08-28T16:21:20.817967Z"
    },
    "papermill": {
     "duration": 0.034188,
     "end_time": "2022-08-28T16:21:20.821725",
     "exception": false,
     "start_time": "2022-08-28T16:21:20.787537",
     "status": "completed"
    },
    "tags": []
   },
   "outputs": [
    {
     "data": {
      "text/html": [
       "<div>\n",
       "<style scoped>\n",
       "    .dataframe tbody tr th:only-of-type {\n",
       "        vertical-align: middle;\n",
       "    }\n",
       "\n",
       "    .dataframe tbody tr th {\n",
       "        vertical-align: top;\n",
       "    }\n",
       "\n",
       "    .dataframe thead th {\n",
       "        text-align: right;\n",
       "    }\n",
       "</style>\n",
       "<table border=\"1\" class=\"dataframe\">\n",
       "  <thead>\n",
       "    <tr style=\"text-align: right;\">\n",
       "      <th></th>\n",
       "      <th>qid</th>\n",
       "      <th>question_text</th>\n",
       "      <th>target</th>\n",
       "    </tr>\n",
       "  </thead>\n",
       "  <tbody>\n",
       "    <tr>\n",
       "      <th>0</th>\n",
       "      <td>00002165364db923c7e6</td>\n",
       "      <td>how did quebec nationalist see their provinc a...</td>\n",
       "      <td>0</td>\n",
       "    </tr>\n",
       "    <tr>\n",
       "      <th>1</th>\n",
       "      <td>000032939017120e6e44</td>\n",
       "      <td>do you have an adopt dog , how would you encou...</td>\n",
       "      <td>0</td>\n",
       "    </tr>\n",
       "    <tr>\n",
       "      <th>2</th>\n",
       "      <td>0000412ca6e4628ce2cf</td>\n",
       "      <td>whi doe veloc affect time ? doe veloc affect s...</td>\n",
       "      <td>0</td>\n",
       "    </tr>\n",
       "    <tr>\n",
       "      <th>3</th>\n",
       "      <td>000042bf85aa498cd78e</td>\n",
       "      <td>how did otto von guerick use the magdeburg hem...</td>\n",
       "      <td>0</td>\n",
       "    </tr>\n",
       "    <tr>\n",
       "      <th>4</th>\n",
       "      <td>0000455dfa3e01eae3af</td>\n",
       "      <td>can i convert montra helicon d to a mountain b...</td>\n",
       "      <td>0</td>\n",
       "    </tr>\n",
       "    <tr>\n",
       "      <th>...</th>\n",
       "      <td>...</td>\n",
       "      <td>...</td>\n",
       "      <td>...</td>\n",
       "    </tr>\n",
       "    <tr>\n",
       "      <th>1306117</th>\n",
       "      <td>ffffcc4e2331aaf1e41e</td>\n",
       "      <td>what other technic skill do you need as a comp...</td>\n",
       "      <td>0</td>\n",
       "    </tr>\n",
       "    <tr>\n",
       "      <th>1306118</th>\n",
       "      <td>ffffd431801e5a2f4861</td>\n",
       "      <td>doe ms in ece have good job prospect in usa or...</td>\n",
       "      <td>0</td>\n",
       "    </tr>\n",
       "    <tr>\n",
       "      <th>1306119</th>\n",
       "      <td>ffffd48fb36b63db010c</td>\n",
       "      <td>is foam insul toxic ?</td>\n",
       "      <td>0</td>\n",
       "    </tr>\n",
       "    <tr>\n",
       "      <th>1306120</th>\n",
       "      <td>ffffec519fa37cf60c78</td>\n",
       "      <td>how can one start a research project base on b...</td>\n",
       "      <td>0</td>\n",
       "    </tr>\n",
       "    <tr>\n",
       "      <th>1306121</th>\n",
       "      <td>ffffed09fedb5088744a</td>\n",
       "      <td>who win in a battl between a wolverin and a pu...</td>\n",
       "      <td>0</td>\n",
       "    </tr>\n",
       "  </tbody>\n",
       "</table>\n",
       "<p>1306122 rows × 3 columns</p>\n",
       "</div>"
      ],
      "text/plain": [
       "                          qid  \\\n",
       "0        00002165364db923c7e6   \n",
       "1        000032939017120e6e44   \n",
       "2        0000412ca6e4628ce2cf   \n",
       "3        000042bf85aa498cd78e   \n",
       "4        0000455dfa3e01eae3af   \n",
       "...                       ...   \n",
       "1306117  ffffcc4e2331aaf1e41e   \n",
       "1306118  ffffd431801e5a2f4861   \n",
       "1306119  ffffd48fb36b63db010c   \n",
       "1306120  ffffec519fa37cf60c78   \n",
       "1306121  ffffed09fedb5088744a   \n",
       "\n",
       "                                             question_text  target  \n",
       "0        how did quebec nationalist see their provinc a...       0  \n",
       "1        do you have an adopt dog , how would you encou...       0  \n",
       "2        whi doe veloc affect time ? doe veloc affect s...       0  \n",
       "3        how did otto von guerick use the magdeburg hem...       0  \n",
       "4        can i convert montra helicon d to a mountain b...       0  \n",
       "...                                                    ...     ...  \n",
       "1306117  what other technic skill do you need as a comp...       0  \n",
       "1306118  doe ms in ece have good job prospect in usa or...       0  \n",
       "1306119                              is foam insul toxic ?       0  \n",
       "1306120  how can one start a research project base on b...       0  \n",
       "1306121  who win in a battl between a wolverin and a pu...       0  \n",
       "\n",
       "[1306122 rows x 3 columns]"
      ]
     },
     "execution_count": 13,
     "metadata": {},
     "output_type": "execute_result"
    }
   ],
   "source": [
    "data"
   ]
  },
  {
   "cell_type": "code",
   "execution_count": 14,
   "id": "eecd6943",
   "metadata": {
    "execution": {
     "iopub.execute_input": "2022-08-28T16:21:20.851922Z",
     "iopub.status.busy": "2022-08-28T16:21:20.851483Z",
     "iopub.status.idle": "2022-08-28T16:21:23.992050Z",
     "shell.execute_reply": "2022-08-28T16:21:23.990867Z"
    },
    "papermill": {
     "duration": 3.159313,
     "end_time": "2022-08-28T16:21:23.994907",
     "exception": false,
     "start_time": "2022-08-28T16:21:20.835594",
     "status": "completed"
    },
    "tags": []
   },
   "outputs": [],
   "source": [
    "raw=pd.read_csv(\"../input/quora-insincere-questions-classification/train.csv\")\n"
   ]
  },
  {
   "cell_type": "code",
   "execution_count": 15,
   "id": "a75d49e2",
   "metadata": {
    "execution": {
     "iopub.execute_input": "2022-08-28T16:21:24.024052Z",
     "iopub.status.busy": "2022-08-28T16:21:24.023608Z",
     "iopub.status.idle": "2022-08-28T16:21:24.031573Z",
     "shell.execute_reply": "2022-08-28T16:21:24.030414Z"
    },
    "papermill": {
     "duration": 0.025181,
     "end_time": "2022-08-28T16:21:24.033908",
     "exception": false,
     "start_time": "2022-08-28T16:21:24.008727",
     "status": "completed"
    },
    "tags": []
   },
   "outputs": [
    {
     "data": {
      "text/plain": [
       "'Why does velocity affect time? Does velocity affect space geometry?'"
      ]
     },
     "execution_count": 15,
     "metadata": {},
     "output_type": "execute_result"
    }
   ],
   "source": [
    "raw.question_text[2]"
   ]
  },
  {
   "cell_type": "code",
   "execution_count": 16,
   "id": "5a39498f",
   "metadata": {
    "execution": {
     "iopub.execute_input": "2022-08-28T16:21:24.063101Z",
     "iopub.status.busy": "2022-08-28T16:21:24.062700Z",
     "iopub.status.idle": "2022-08-28T16:21:24.069778Z",
     "shell.execute_reply": "2022-08-28T16:21:24.068661Z"
    },
    "papermill": {
     "duration": 0.024348,
     "end_time": "2022-08-28T16:21:24.071925",
     "exception": false,
     "start_time": "2022-08-28T16:21:24.047577",
     "status": "completed"
    },
    "tags": []
   },
   "outputs": [
    {
     "data": {
      "text/plain": [
       "'whi doe veloc affect time ? doe veloc affect space geometri ?'"
      ]
     },
     "execution_count": 16,
     "metadata": {},
     "output_type": "execute_result"
    }
   ],
   "source": [
    "data.question_text[2]"
   ]
  },
  {
   "cell_type": "code",
   "execution_count": 17,
   "id": "83d942ef",
   "metadata": {
    "execution": {
     "iopub.execute_input": "2022-08-28T16:21:24.102263Z",
     "iopub.status.busy": "2022-08-28T16:21:24.101832Z",
     "iopub.status.idle": "2022-08-28T16:21:27.879830Z",
     "shell.execute_reply": "2022-08-28T16:21:27.878771Z"
    },
    "papermill": {
     "duration": 3.79591,
     "end_time": "2022-08-28T16:21:27.882587",
     "exception": false,
     "start_time": "2022-08-28T16:21:24.086677",
     "status": "completed"
    },
    "tags": []
   },
   "outputs": [],
   "source": [
    "data.to_csv(\"quora_snowballstemmed.csv\",index=False)"
   ]
  },
  {
   "cell_type": "code",
   "execution_count": null,
   "id": "f087339f",
   "metadata": {
    "papermill": {
     "duration": 0.013276,
     "end_time": "2022-08-28T16:21:27.909539",
     "exception": false,
     "start_time": "2022-08-28T16:21:27.896263",
     "status": "completed"
    },
    "tags": []
   },
   "outputs": [],
   "source": []
  }
 ],
 "metadata": {
  "kernelspec": {
   "display_name": "Python 3",
   "language": "python",
   "name": "python3"
  },
  "language_info": {
   "codemirror_mode": {
    "name": "ipython",
    "version": 3
   },
   "file_extension": ".py",
   "mimetype": "text/x-python",
   "name": "python",
   "nbconvert_exporter": "python",
   "pygments_lexer": "ipython3",
   "version": "3.7.12"
  },
  "papermill": {
   "default_parameters": {},
   "duration": 441.597225,
   "end_time": "2022-08-28T16:21:28.948111",
   "environment_variables": {},
   "exception": null,
   "input_path": "__notebook__.ipynb",
   "output_path": "__notebook__.ipynb",
   "parameters": {},
   "start_time": "2022-08-28T16:14:07.350886",
   "version": "2.3.4"
  }
 },
 "nbformat": 4,
 "nbformat_minor": 5
}
