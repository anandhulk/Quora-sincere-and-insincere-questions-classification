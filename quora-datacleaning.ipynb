{
 "cells": [
  {
   "cell_type": "code",
   "execution_count": 1,
   "id": "97d9fde7",
   "metadata": {
    "_cell_guid": "b1076dfc-b9ad-4769-8c92-a6c4dae69d19",
    "_uuid": "8f2839f25d086af736a60e9eeb907d3b93b6e0e5",
    "execution": {
     "iopub.execute_input": "2022-08-14T09:05:09.440754Z",
     "iopub.status.busy": "2022-08-14T09:05:09.440096Z",
     "iopub.status.idle": "2022-08-14T09:05:09.459106Z",
     "shell.execute_reply": "2022-08-14T09:05:09.458235Z"
    },
    "papermill": {
     "duration": 0.027424,
     "end_time": "2022-08-14T09:05:09.461845",
     "exception": false,
     "start_time": "2022-08-14T09:05:09.434421",
     "status": "completed"
    },
    "tags": []
   },
   "outputs": [
    {
     "name": "stdout",
     "output_type": "stream",
     "text": [
      "/kaggle/input/quora-lemma/quora_lemma.csv\n"
     ]
    }
   ],
   "source": [
    "# This Python 3 environment comes with many helpful analytics libraries installed\n",
    "# It is defined by the kaggle/python Docker image: https://github.com/kaggle/docker-python\n",
    "# For example, here's several helpful packages to load\n",
    "\n",
    "import numpy as np # linear algebra\n",
    "import pandas as pd # data processing, CSV file I/O (e.g. pd.read_csv)\n",
    "\n",
    "# Input data files are available in the read-only \"../input/\" directory\n",
    "# For example, running this (by clicking run or pressing Shift+Enter) will list all files under the input directory\n",
    "\n",
    "import os\n",
    "for dirname, _, filenames in os.walk('/kaggle/input'):\n",
    "    for filename in filenames:\n",
    "        print(os.path.join(dirname, filename))\n",
    "\n",
    "# You can write up to 20GB to the current directory (/kaggle/working/) that gets preserved as output when you create a version using \"Save & Run All\" \n",
    "# You can also write temporary files to /kaggle/temp/, but they won't be saved outside of the current session"
   ]
  },
  {
   "cell_type": "code",
   "execution_count": 2,
   "id": "207b7c78",
   "metadata": {
    "execution": {
     "iopub.execute_input": "2022-08-14T09:05:09.469628Z",
     "iopub.status.busy": "2022-08-14T09:05:09.468737Z",
     "iopub.status.idle": "2022-08-14T09:05:09.914895Z",
     "shell.execute_reply": "2022-08-14T09:05:09.913725Z"
    },
    "papermill": {
     "duration": 0.453076,
     "end_time": "2022-08-14T09:05:09.918009",
     "exception": false,
     "start_time": "2022-08-14T09:05:09.464933",
     "status": "completed"
    },
    "tags": []
   },
   "outputs": [
    {
     "data": {
      "text/html": [
       "<div>\n",
       "<style scoped>\n",
       "    .dataframe tbody tr th:only-of-type {\n",
       "        vertical-align: middle;\n",
       "    }\n",
       "\n",
       "    .dataframe tbody tr th {\n",
       "        vertical-align: top;\n",
       "    }\n",
       "\n",
       "    .dataframe thead th {\n",
       "        text-align: right;\n",
       "    }\n",
       "</style>\n",
       "<table border=\"1\" class=\"dataframe\">\n",
       "  <thead>\n",
       "    <tr style=\"text-align: right;\">\n",
       "      <th></th>\n",
       "      <th>0</th>\n",
       "      <th>target</th>\n",
       "    </tr>\n",
       "  </thead>\n",
       "  <tbody>\n",
       "    <tr>\n",
       "      <th>0</th>\n",
       "      <td>have the United States become the large dictat...</td>\n",
       "      <td>1</td>\n",
       "    </tr>\n",
       "    <tr>\n",
       "      <th>1</th>\n",
       "      <td>which baby be more sweet to their parent ? dar...</td>\n",
       "      <td>1</td>\n",
       "    </tr>\n",
       "    <tr>\n",
       "      <th>2</th>\n",
       "      <td>if black support school choice and mandatory s...</td>\n",
       "      <td>1</td>\n",
       "    </tr>\n",
       "    <tr>\n",
       "      <th>3</th>\n",
       "      <td>I be gay boy and I love my cousin ( boy ) . he...</td>\n",
       "      <td>1</td>\n",
       "    </tr>\n",
       "    <tr>\n",
       "      <th>4</th>\n",
       "      <td>which race have the small penis ?</td>\n",
       "      <td>1</td>\n",
       "    </tr>\n",
       "    <tr>\n",
       "      <th>...</th>\n",
       "      <td>...</td>\n",
       "      <td>...</td>\n",
       "    </tr>\n",
       "    <tr>\n",
       "      <th>161615</th>\n",
       "      <td>what happen to the north korean soldier that h...</td>\n",
       "      <td>0</td>\n",
       "    </tr>\n",
       "    <tr>\n",
       "      <th>161616</th>\n",
       "      <td>why do people snore more as they get old ?</td>\n",
       "      <td>0</td>\n",
       "    </tr>\n",
       "    <tr>\n",
       "      <th>161617</th>\n",
       "      <td>can I leave this site , and how ?</td>\n",
       "      <td>0</td>\n",
       "    </tr>\n",
       "    <tr>\n",
       "      <th>161618</th>\n",
       "      <td>why do people get stress so easily ?</td>\n",
       "      <td>0</td>\n",
       "    </tr>\n",
       "    <tr>\n",
       "      <th>161619</th>\n",
       "      <td>how do the term\"for good \" come to mean { fina...</td>\n",
       "      <td>0</td>\n",
       "    </tr>\n",
       "  </tbody>\n",
       "</table>\n",
       "<p>161620 rows × 2 columns</p>\n",
       "</div>"
      ],
      "text/plain": [
       "                                                        0  target\n",
       "0       have the United States become the large dictat...       1\n",
       "1       which baby be more sweet to their parent ? dar...       1\n",
       "2       if black support school choice and mandatory s...       1\n",
       "3       I be gay boy and I love my cousin ( boy ) . he...       1\n",
       "4                       which race have the small penis ?       1\n",
       "...                                                   ...     ...\n",
       "161615  what happen to the north korean soldier that h...       0\n",
       "161616         why do people snore more as they get old ?       0\n",
       "161617                  can I leave this site , and how ?       0\n",
       "161618               why do people get stress so easily ?       0\n",
       "161619  how do the term\"for good \" come to mean { fina...       0\n",
       "\n",
       "[161620 rows x 2 columns]"
      ]
     },
     "execution_count": 2,
     "metadata": {},
     "output_type": "execute_result"
    }
   ],
   "source": [
    "data=pd.read_csv(\"../input/quora-lemma/quora_lemma.csv\")\n",
    "data"
   ]
  },
  {
   "cell_type": "markdown",
   "id": "a9aaaeb3",
   "metadata": {
    "papermill": {
     "duration": 0.002799,
     "end_time": "2022-08-14T09:05:09.925104",
     "exception": false,
     "start_time": "2022-08-14T09:05:09.922305",
     "status": "completed"
    },
    "tags": []
   },
   "source": [
    "# Data cleaning(removing ?.!*@#%*_+}{ etc..)"
   ]
  },
  {
   "cell_type": "code",
   "execution_count": 3,
   "id": "375b6e5b",
   "metadata": {
    "execution": {
     "iopub.execute_input": "2022-08-14T09:05:09.933359Z",
     "iopub.status.busy": "2022-08-14T09:05:09.932620Z",
     "iopub.status.idle": "2022-08-14T09:05:09.938397Z",
     "shell.execute_reply": "2022-08-14T09:05:09.937642Z"
    },
    "papermill": {
     "duration": 0.012298,
     "end_time": "2022-08-14T09:05:09.940529",
     "exception": false,
     "start_time": "2022-08-14T09:05:09.928231",
     "status": "completed"
    },
    "tags": []
   },
   "outputs": [],
   "source": [
    "import re\n",
    "\n",
    "def clean_text(series):\n",
    "    res=[]\n",
    "    for row in series:\n",
    "        text = re.sub(r'[^(a-zA-Z)\\s]','', row)\n",
    "        res.append(text)\n",
    "    res=pd.Series(res)\n",
    "    return res"
   ]
  },
  {
   "cell_type": "code",
   "execution_count": 4,
   "id": "3918c9cd",
   "metadata": {
    "execution": {
     "iopub.execute_input": "2022-08-14T09:05:09.948188Z",
     "iopub.status.busy": "2022-08-14T09:05:09.947556Z",
     "iopub.status.idle": "2022-08-14T09:05:10.404727Z",
     "shell.execute_reply": "2022-08-14T09:05:10.403448Z"
    },
    "papermill": {
     "duration": 0.464034,
     "end_time": "2022-08-14T09:05:10.407496",
     "exception": false,
     "start_time": "2022-08-14T09:05:09.943462",
     "status": "completed"
    },
    "tags": []
   },
   "outputs": [],
   "source": [
    "cleaned_x=clean_text(data[\"0\"])"
   ]
  },
  {
   "cell_type": "code",
   "execution_count": 5,
   "id": "72233e52",
   "metadata": {
    "execution": {
     "iopub.execute_input": "2022-08-14T09:05:10.415984Z",
     "iopub.status.busy": "2022-08-14T09:05:10.415073Z",
     "iopub.status.idle": "2022-08-14T09:05:10.422662Z",
     "shell.execute_reply": "2022-08-14T09:05:10.421943Z"
    },
    "papermill": {
     "duration": 0.01374,
     "end_time": "2022-08-14T09:05:10.424553",
     "exception": false,
     "start_time": "2022-08-14T09:05:10.410813",
     "status": "completed"
    },
    "tags": []
   },
   "outputs": [
    {
     "data": {
      "text/plain": [
       "0         have the United States become the large dictat...\n",
       "1         which baby be more sweet to their parent  dark...\n",
       "2         if black support school choice and mandatory s...\n",
       "3         I be gay boy and I love my cousin ( boy )  he ...\n",
       "4                          which race have the small penis \n",
       "                                ...                        \n",
       "161615    what happen to the north korean soldier that h...\n",
       "161616            why do people snore more as they get old \n",
       "161617                      can I leave this site  and how \n",
       "161618                  why do people get stress so easily \n",
       "161619    how do the termfor good  come to mean  finally...\n",
       "Length: 161620, dtype: object"
      ]
     },
     "execution_count": 5,
     "metadata": {},
     "output_type": "execute_result"
    }
   ],
   "source": [
    "cleaned_x"
   ]
  },
  {
   "cell_type": "code",
   "execution_count": 6,
   "id": "612961a2",
   "metadata": {
    "execution": {
     "iopub.execute_input": "2022-08-14T09:05:10.432268Z",
     "iopub.status.busy": "2022-08-14T09:05:10.431437Z",
     "iopub.status.idle": "2022-08-14T09:05:10.439219Z",
     "shell.execute_reply": "2022-08-14T09:05:10.438039Z"
    },
    "papermill": {
     "duration": 0.013686,
     "end_time": "2022-08-14T09:05:10.441308",
     "exception": false,
     "start_time": "2022-08-14T09:05:10.427622",
     "status": "completed"
    },
    "tags": []
   },
   "outputs": [
    {
     "data": {
      "text/plain": [
       "0         1\n",
       "1         1\n",
       "2         1\n",
       "3         1\n",
       "4         1\n",
       "         ..\n",
       "161615    0\n",
       "161616    0\n",
       "161617    0\n",
       "161618    0\n",
       "161619    0\n",
       "Name: target, Length: 161620, dtype: int64"
      ]
     },
     "execution_count": 6,
     "metadata": {},
     "output_type": "execute_result"
    }
   ],
   "source": [
    "y=data[\"target\"]\n",
    "y"
   ]
  },
  {
   "cell_type": "code",
   "execution_count": null,
   "id": "95cbf59c",
   "metadata": {
    "papermill": {
     "duration": 0.002864,
     "end_time": "2022-08-14T09:05:10.447295",
     "exception": false,
     "start_time": "2022-08-14T09:05:10.444431",
     "status": "completed"
    },
    "tags": []
   },
   "outputs": [],
   "source": []
  }
 ],
 "metadata": {
  "kernelspec": {
   "display_name": "Python 3",
   "language": "python",
   "name": "python3"
  },
  "language_info": {
   "codemirror_mode": {
    "name": "ipython",
    "version": 3
   },
   "file_extension": ".py",
   "mimetype": "text/x-python",
   "name": "python",
   "nbconvert_exporter": "python",
   "pygments_lexer": "ipython3",
   "version": "3.7.12"
  },
  "papermill": {
   "default_parameters": {},
   "duration": 10.312829,
   "end_time": "2022-08-14T09:05:11.071068",
   "environment_variables": {},
   "exception": null,
   "input_path": "__notebook__.ipynb",
   "output_path": "__notebook__.ipynb",
   "parameters": {},
   "start_time": "2022-08-14T09:05:00.758239",
   "version": "2.3.4"
  }
 },
 "nbformat": 4,
 "nbformat_minor": 5
}
