{
 "cells": [
  {
   "cell_type": "code",
   "execution_count": 1,
   "id": "70d59569",
   "metadata": {
    "_cell_guid": "b1076dfc-b9ad-4769-8c92-a6c4dae69d19",
    "_uuid": "8f2839f25d086af736a60e9eeb907d3b93b6e0e5",
    "execution": {
     "iopub.execute_input": "2022-08-14T09:41:24.702478Z",
     "iopub.status.busy": "2022-08-14T09:41:24.702009Z",
     "iopub.status.idle": "2022-08-14T09:41:24.722481Z",
     "shell.execute_reply": "2022-08-14T09:41:24.721271Z"
    },
    "papermill": {
     "duration": 0.030429,
     "end_time": "2022-08-14T09:41:24.725227",
     "exception": false,
     "start_time": "2022-08-14T09:41:24.694798",
     "status": "completed"
    },
    "tags": []
   },
   "outputs": [
    {
     "name": "stdout",
     "output_type": "stream",
     "text": [
      "/kaggle/input/quora-lemma/quora_lemma.csv\n"
     ]
    }
   ],
   "source": [
    "# This Python 3 environment comes with many helpful analytics libraries installed\n",
    "# It is defined by the kaggle/python Docker image: https://github.com/kaggle/docker-python\n",
    "# For example, here's several helpful packages to load\n",
    "\n",
    "import numpy as np # linear algebra\n",
    "import pandas as pd # data processing, CSV file I/O (e.g. pd.read_csv)\n",
    "\n",
    "# Input data files are available in the read-only \"../input/\" directory\n",
    "# For example, running this (by clicking run or pressing Shift+Enter) will list all files under the input directory\n",
    "\n",
    "import os\n",
    "for dirname, _, filenames in os.walk('/kaggle/input'):\n",
    "    for filename in filenames:\n",
    "        print(os.path.join(dirname, filename))\n",
    "\n",
    "# You can write up to 20GB to the current directory (/kaggle/working/) that gets preserved as output when you create a version using \"Save & Run All\" \n",
    "# You can also write temporary files to /kaggle/temp/, but they won't be saved outside of the current session"
   ]
  },
  {
   "cell_type": "code",
   "execution_count": 2,
   "id": "316b3587",
   "metadata": {
    "execution": {
     "iopub.execute_input": "2022-08-14T09:41:24.735505Z",
     "iopub.status.busy": "2022-08-14T09:41:24.735107Z",
     "iopub.status.idle": "2022-08-14T09:41:25.181388Z",
     "shell.execute_reply": "2022-08-14T09:41:25.180384Z"
    },
    "papermill": {
     "duration": 0.454321,
     "end_time": "2022-08-14T09:41:25.183975",
     "exception": false,
     "start_time": "2022-08-14T09:41:24.729654",
     "status": "completed"
    },
    "tags": []
   },
   "outputs": [
    {
     "data": {
      "text/html": [
       "<div>\n",
       "<style scoped>\n",
       "    .dataframe tbody tr th:only-of-type {\n",
       "        vertical-align: middle;\n",
       "    }\n",
       "\n",
       "    .dataframe tbody tr th {\n",
       "        vertical-align: top;\n",
       "    }\n",
       "\n",
       "    .dataframe thead th {\n",
       "        text-align: right;\n",
       "    }\n",
       "</style>\n",
       "<table border=\"1\" class=\"dataframe\">\n",
       "  <thead>\n",
       "    <tr style=\"text-align: right;\">\n",
       "      <th></th>\n",
       "      <th>0</th>\n",
       "      <th>target</th>\n",
       "    </tr>\n",
       "  </thead>\n",
       "  <tbody>\n",
       "    <tr>\n",
       "      <th>0</th>\n",
       "      <td>have the United States become the large dictat...</td>\n",
       "      <td>1</td>\n",
       "    </tr>\n",
       "    <tr>\n",
       "      <th>1</th>\n",
       "      <td>which baby be more sweet to their parent ? dar...</td>\n",
       "      <td>1</td>\n",
       "    </tr>\n",
       "    <tr>\n",
       "      <th>2</th>\n",
       "      <td>if black support school choice and mandatory s...</td>\n",
       "      <td>1</td>\n",
       "    </tr>\n",
       "    <tr>\n",
       "      <th>3</th>\n",
       "      <td>I be gay boy and I love my cousin ( boy ) . he...</td>\n",
       "      <td>1</td>\n",
       "    </tr>\n",
       "    <tr>\n",
       "      <th>4</th>\n",
       "      <td>which race have the small penis ?</td>\n",
       "      <td>1</td>\n",
       "    </tr>\n",
       "    <tr>\n",
       "      <th>...</th>\n",
       "      <td>...</td>\n",
       "      <td>...</td>\n",
       "    </tr>\n",
       "    <tr>\n",
       "      <th>161615</th>\n",
       "      <td>what happen to the north korean soldier that h...</td>\n",
       "      <td>0</td>\n",
       "    </tr>\n",
       "    <tr>\n",
       "      <th>161616</th>\n",
       "      <td>why do people snore more as they get old ?</td>\n",
       "      <td>0</td>\n",
       "    </tr>\n",
       "    <tr>\n",
       "      <th>161617</th>\n",
       "      <td>can I leave this site , and how ?</td>\n",
       "      <td>0</td>\n",
       "    </tr>\n",
       "    <tr>\n",
       "      <th>161618</th>\n",
       "      <td>why do people get stress so easily ?</td>\n",
       "      <td>0</td>\n",
       "    </tr>\n",
       "    <tr>\n",
       "      <th>161619</th>\n",
       "      <td>how do the term\"for good \" come to mean { fina...</td>\n",
       "      <td>0</td>\n",
       "    </tr>\n",
       "  </tbody>\n",
       "</table>\n",
       "<p>161620 rows × 2 columns</p>\n",
       "</div>"
      ],
      "text/plain": [
       "                                                        0  target\n",
       "0       have the United States become the large dictat...       1\n",
       "1       which baby be more sweet to their parent ? dar...       1\n",
       "2       if black support school choice and mandatory s...       1\n",
       "3       I be gay boy and I love my cousin ( boy ) . he...       1\n",
       "4                       which race have the small penis ?       1\n",
       "...                                                   ...     ...\n",
       "161615  what happen to the north korean soldier that h...       0\n",
       "161616         why do people snore more as they get old ?       0\n",
       "161617                  can I leave this site , and how ?       0\n",
       "161618               why do people get stress so easily ?       0\n",
       "161619  how do the term\"for good \" come to mean { fina...       0\n",
       "\n",
       "[161620 rows x 2 columns]"
      ]
     },
     "execution_count": 2,
     "metadata": {},
     "output_type": "execute_result"
    }
   ],
   "source": [
    "data=pd.read_csv(\"../input/quora-lemma/quora_lemma.csv\")\n",
    "data"
   ]
  },
  {
   "cell_type": "markdown",
   "id": "43de7aa5",
   "metadata": {
    "papermill": {
     "duration": 0.004096,
     "end_time": "2022-08-14T09:41:25.192545",
     "exception": false,
     "start_time": "2022-08-14T09:41:25.188449",
     "status": "completed"
    },
    "tags": []
   },
   "source": [
    "# Data cleaning(removing ?.!*@#%*_+}{ etc..)"
   ]
  },
  {
   "cell_type": "code",
   "execution_count": 3,
   "id": "68f2507f",
   "metadata": {
    "execution": {
     "iopub.execute_input": "2022-08-14T09:41:25.202623Z",
     "iopub.status.busy": "2022-08-14T09:41:25.202239Z",
     "iopub.status.idle": "2022-08-14T09:41:25.208011Z",
     "shell.execute_reply": "2022-08-14T09:41:25.206823Z"
    },
    "papermill": {
     "duration": 0.013642,
     "end_time": "2022-08-14T09:41:25.210338",
     "exception": false,
     "start_time": "2022-08-14T09:41:25.196696",
     "status": "completed"
    },
    "tags": []
   },
   "outputs": [],
   "source": [
    "import re\n",
    "\n",
    "def clean_text(series):\n",
    "    res=[]\n",
    "    for row in series:\n",
    "        text = re.sub(r'[^(a-zA-Z)\\s]','', row)\n",
    "        res.append(text)\n",
    "    res=pd.Series(res)\n",
    "    return res"
   ]
  },
  {
   "cell_type": "code",
   "execution_count": 4,
   "id": "3e43410a",
   "metadata": {
    "execution": {
     "iopub.execute_input": "2022-08-14T09:41:25.220620Z",
     "iopub.status.busy": "2022-08-14T09:41:25.220042Z",
     "iopub.status.idle": "2022-08-14T09:41:25.674973Z",
     "shell.execute_reply": "2022-08-14T09:41:25.673807Z"
    },
    "papermill": {
     "duration": 0.463069,
     "end_time": "2022-08-14T09:41:25.677723",
     "exception": false,
     "start_time": "2022-08-14T09:41:25.214654",
     "status": "completed"
    },
    "tags": []
   },
   "outputs": [],
   "source": [
    "cleaned_x=clean_text(data[\"0\"])"
   ]
  },
  {
   "cell_type": "code",
   "execution_count": 5,
   "id": "ec1724ed",
   "metadata": {
    "execution": {
     "iopub.execute_input": "2022-08-14T09:41:25.688183Z",
     "iopub.status.busy": "2022-08-14T09:41:25.687801Z",
     "iopub.status.idle": "2022-08-14T09:41:25.696392Z",
     "shell.execute_reply": "2022-08-14T09:41:25.695292Z"
    },
    "papermill": {
     "duration": 0.016401,
     "end_time": "2022-08-14T09:41:25.698702",
     "exception": false,
     "start_time": "2022-08-14T09:41:25.682301",
     "status": "completed"
    },
    "tags": []
   },
   "outputs": [
    {
     "data": {
      "text/plain": [
       "0         have the United States become the large dictat...\n",
       "1         which baby be more sweet to their parent  dark...\n",
       "2         if black support school choice and mandatory s...\n",
       "3         I be gay boy and I love my cousin ( boy )  he ...\n",
       "4                          which race have the small penis \n",
       "                                ...                        \n",
       "161615    what happen to the north korean soldier that h...\n",
       "161616            why do people snore more as they get old \n",
       "161617                      can I leave this site  and how \n",
       "161618                  why do people get stress so easily \n",
       "161619    how do the termfor good  come to mean  finally...\n",
       "Length: 161620, dtype: object"
      ]
     },
     "execution_count": 5,
     "metadata": {},
     "output_type": "execute_result"
    }
   ],
   "source": [
    "cleaned_x"
   ]
  },
  {
   "cell_type": "code",
   "execution_count": 6,
   "id": "c516b07d",
   "metadata": {
    "execution": {
     "iopub.execute_input": "2022-08-14T09:41:25.709975Z",
     "iopub.status.busy": "2022-08-14T09:41:25.708833Z",
     "iopub.status.idle": "2022-08-14T09:41:25.717667Z",
     "shell.execute_reply": "2022-08-14T09:41:25.716431Z"
    },
    "papermill": {
     "duration": 0.016723,
     "end_time": "2022-08-14T09:41:25.719944",
     "exception": false,
     "start_time": "2022-08-14T09:41:25.703221",
     "status": "completed"
    },
    "tags": []
   },
   "outputs": [
    {
     "data": {
      "text/plain": [
       "0         1\n",
       "1         1\n",
       "2         1\n",
       "3         1\n",
       "4         1\n",
       "         ..\n",
       "161615    0\n",
       "161616    0\n",
       "161617    0\n",
       "161618    0\n",
       "161619    0\n",
       "Name: target, Length: 161620, dtype: int64"
      ]
     },
     "execution_count": 6,
     "metadata": {},
     "output_type": "execute_result"
    }
   ],
   "source": [
    "y=data[\"target\"]\n",
    "y"
   ]
  },
  {
   "cell_type": "code",
   "execution_count": 7,
   "id": "0ae279eb",
   "metadata": {
    "execution": {
     "iopub.execute_input": "2022-08-14T09:41:25.731896Z",
     "iopub.status.busy": "2022-08-14T09:41:25.731269Z",
     "iopub.status.idle": "2022-08-14T09:41:32.250870Z",
     "shell.execute_reply": "2022-08-14T09:41:32.249670Z"
    },
    "papermill": {
     "duration": 6.528593,
     "end_time": "2022-08-14T09:41:32.253611",
     "exception": false,
     "start_time": "2022-08-14T09:41:25.725018",
     "status": "completed"
    },
    "tags": []
   },
   "outputs": [],
   "source": [
    "import tensorflow as tf\n",
    "from tensorflow.keras.preprocessing.text import one_hot\n",
    "from tensorflow.keras.preprocessing.sequence import pad_sequences\n",
    "from tensorflow.keras.models import Sequential\n",
    "from tensorflow.keras.layers import Dense\n",
    "from tensorflow.keras.layers import Flatten\n",
    "from tensorflow.keras.layers import Embedding"
   ]
  },
  {
   "cell_type": "markdown",
   "id": "cd4c35ee",
   "metadata": {
    "papermill": {
     "duration": 0.004386,
     "end_time": "2022-08-14T09:41:32.262865",
     "exception": false,
     "start_time": "2022-08-14T09:41:32.258479",
     "status": "completed"
    },
    "tags": []
   },
   "source": [
    "# **One Hot encoding**"
   ]
  },
  {
   "cell_type": "code",
   "execution_count": 8,
   "id": "af8bdc5d",
   "metadata": {
    "execution": {
     "iopub.execute_input": "2022-08-14T09:41:32.274101Z",
     "iopub.status.busy": "2022-08-14T09:41:32.273465Z",
     "iopub.status.idle": "2022-08-14T09:41:35.513820Z",
     "shell.execute_reply": "2022-08-14T09:41:35.512888Z"
    },
    "papermill": {
     "duration": 3.248856,
     "end_time": "2022-08-14T09:41:35.516524",
     "exception": false,
     "start_time": "2022-08-14T09:41:32.267668",
     "status": "completed"
    },
    "tags": []
   },
   "outputs": [],
   "source": [
    "vocab_size=1000\n",
    "encoded_x = [one_hot(row, vocab_size) for row in cleaned_x]\n",
    "encoded_x=pd.Series(encoded_x)"
   ]
  },
  {
   "cell_type": "code",
   "execution_count": 9,
   "id": "8492889d",
   "metadata": {
    "execution": {
     "iopub.execute_input": "2022-08-14T09:41:35.527955Z",
     "iopub.status.busy": "2022-08-14T09:41:35.527189Z",
     "iopub.status.idle": "2022-08-14T09:41:35.535059Z",
     "shell.execute_reply": "2022-08-14T09:41:35.533859Z"
    },
    "papermill": {
     "duration": 0.016175,
     "end_time": "2022-08-14T09:41:35.537478",
     "exception": false,
     "start_time": "2022-08-14T09:41:35.521303",
     "status": "completed"
    },
    "tags": []
   },
   "outputs": [
    {
     "data": {
      "text/plain": [
       "0    have the United States become the large dictat...\n",
       "1    which baby be more sweet to their parent  dark...\n",
       "2    if black support school choice and mandatory s...\n",
       "3    I be gay boy and I love my cousin ( boy )  he ...\n",
       "4                     which race have the small penis \n",
       "dtype: object"
      ]
     },
     "execution_count": 9,
     "metadata": {},
     "output_type": "execute_result"
    }
   ],
   "source": [
    "cleaned_x[:5]"
   ]
  },
  {
   "cell_type": "code",
   "execution_count": 10,
   "id": "447cdf88",
   "metadata": {
    "execution": {
     "iopub.execute_input": "2022-08-14T09:41:35.548978Z",
     "iopub.status.busy": "2022-08-14T09:41:35.548186Z",
     "iopub.status.idle": "2022-08-14T09:41:35.556786Z",
     "shell.execute_reply": "2022-08-14T09:41:35.556020Z"
    },
    "papermill": {
     "duration": 0.016496,
     "end_time": "2022-08-14T09:41:35.558726",
     "exception": false,
     "start_time": "2022-08-14T09:41:35.542230",
     "status": "completed"
    },
    "tags": []
   },
   "outputs": [
    {
     "data": {
      "text/plain": [
       "0    [33, 154, 753, 3, 655, 154, 609, 231, 413, 154...\n",
       "1    [641, 624, 584, 77, 215, 918, 847, 72, 896, 38...\n",
       "2    [816, 914, 755, 639, 507, 648, 244, 52, 311, 2...\n",
       "3    [918, 584, 522, 859, 648, 918, 262, 47, 657, 8...\n",
       "4                        [641, 946, 33, 154, 583, 503]\n",
       "dtype: object"
      ]
     },
     "execution_count": 10,
     "metadata": {},
     "output_type": "execute_result"
    }
   ],
   "source": [
    "encoded_x[:5]"
   ]
  },
  {
   "cell_type": "markdown",
   "id": "6b93ea97",
   "metadata": {
    "papermill": {
     "duration": 0.004563,
     "end_time": "2022-08-14T09:41:35.568262",
     "exception": false,
     "start_time": "2022-08-14T09:41:35.563699",
     "status": "completed"
    },
    "tags": []
   },
   "source": [
    "# **Padding the Sequence**"
   ]
  },
  {
   "cell_type": "code",
   "execution_count": 11,
   "id": "3517b88f",
   "metadata": {
    "execution": {
     "iopub.execute_input": "2022-08-14T09:41:35.579881Z",
     "iopub.status.busy": "2022-08-14T09:41:35.578954Z",
     "iopub.status.idle": "2022-08-14T09:41:36.117053Z",
     "shell.execute_reply": "2022-08-14T09:41:36.115627Z"
    },
    "papermill": {
     "duration": 0.546721,
     "end_time": "2022-08-14T09:41:36.119807",
     "exception": false,
     "start_time": "2022-08-14T09:41:35.573086",
     "status": "completed"
    },
    "tags": []
   },
   "outputs": [],
   "source": [
    "maximum_length=50\n",
    "padded_x=pad_sequences(encoded_x,maxlen=maximum_length,padding='pre')"
   ]
  },
  {
   "cell_type": "code",
   "execution_count": 12,
   "id": "bb594023",
   "metadata": {
    "execution": {
     "iopub.execute_input": "2022-08-14T09:41:36.131450Z",
     "iopub.status.busy": "2022-08-14T09:41:36.130992Z",
     "iopub.status.idle": "2022-08-14T09:41:36.140846Z",
     "shell.execute_reply": "2022-08-14T09:41:36.139675Z"
    },
    "papermill": {
     "duration": 0.018814,
     "end_time": "2022-08-14T09:41:36.143612",
     "exception": false,
     "start_time": "2022-08-14T09:41:36.124798",
     "status": "completed"
    },
    "tags": []
   },
   "outputs": [
    {
     "data": {
      "text/plain": [
       "array([[  0,   0,   0, ..., 413, 154, 455],\n",
       "       [  0,   0,   0, ..., 428, 388, 624],\n",
       "       [  0,   0,   0, ..., 897, 660, 221],\n",
       "       ...,\n",
       "       [  0,   0,   0, ..., 702, 648, 904],\n",
       "       [  0,   0,   0, ...,  48,  95, 507],\n",
       "       [  0,   0,   0, ..., 891,  81, 416]], dtype=int32)"
      ]
     },
     "execution_count": 12,
     "metadata": {},
     "output_type": "execute_result"
    }
   ],
   "source": [
    "padded_x"
   ]
  }
 ],
 "metadata": {
  "kernelspec": {
   "display_name": "Python 3",
   "language": "python",
   "name": "python3"
  },
  "language_info": {
   "codemirror_mode": {
    "name": "ipython",
    "version": 3
   },
   "file_extension": ".py",
   "mimetype": "text/x-python",
   "name": "python",
   "nbconvert_exporter": "python",
   "pygments_lexer": "ipython3",
   "version": "3.7.12"
  },
  "papermill": {
   "default_parameters": {},
   "duration": 23.176596,
   "end_time": "2022-08-14T09:41:38.852313",
   "environment_variables": {},
   "exception": null,
   "input_path": "__notebook__.ipynb",
   "output_path": "__notebook__.ipynb",
   "parameters": {},
   "start_time": "2022-08-14T09:41:15.675717",
   "version": "2.3.4"
  }
 },
 "nbformat": 4,
 "nbformat_minor": 5
}
