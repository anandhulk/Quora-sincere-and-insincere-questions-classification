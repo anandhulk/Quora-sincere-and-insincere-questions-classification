{
 "cells": [
  {
   "cell_type": "code",
   "execution_count": 1,
   "id": "71351706",
   "metadata": {
    "_cell_guid": "b1076dfc-b9ad-4769-8c92-a6c4dae69d19",
    "_uuid": "8f2839f25d086af736a60e9eeb907d3b93b6e0e5",
    "execution": {
     "iopub.execute_input": "2022-08-13T15:11:31.103241Z",
     "iopub.status.busy": "2022-08-13T15:11:31.102680Z",
     "iopub.status.idle": "2022-08-13T15:11:31.115317Z",
     "shell.execute_reply": "2022-08-13T15:11:31.114391Z"
    },
    "papermill": {
     "duration": 0.019781,
     "end_time": "2022-08-13T15:11:31.117503",
     "exception": false,
     "start_time": "2022-08-13T15:11:31.097722",
     "status": "completed"
    },
    "tags": []
   },
   "outputs": [
    {
     "name": "stdout",
     "output_type": "stream",
     "text": [
      "/kaggle/input/quora-insincere-questions-classification/sample_submission.csv\n",
      "/kaggle/input/quora-insincere-questions-classification/embeddings.zip\n",
      "/kaggle/input/quora-insincere-questions-classification/train.csv\n",
      "/kaggle/input/quora-insincere-questions-classification/test.csv\n"
     ]
    }
   ],
   "source": [
    "# This Python 3 environment comes with many helpful analytics libraries installed\n",
    "# It is defined by the kaggle/python Docker image: https://github.com/kaggle/docker-python\n",
    "# For example, here's several helpful packages to load\n",
    "\n",
    "import numpy as np # linear algebra\n",
    "import pandas as pd # data processing, CSV file I/O (e.g. pd.read_csv)\n",
    "\n",
    "# Input data files are available in the read-only \"../input/\" directory\n",
    "# For example, running this (by clicking run or pressing Shift+Enter) will list all files under the input directory\n",
    "\n",
    "import os\n",
    "for dirname, _, filenames in os.walk('/kaggle/input'):\n",
    "    for filename in filenames:\n",
    "        print(os.path.join(dirname, filename))\n",
    "\n",
    "# You can write up to 20GB to the current directory (/kaggle/working/) that gets preserved as output when you create a version using \"Save & Run All\" \n",
    "# You can also write temporary files to /kaggle/temp/, but they won't be saved outside of the current session"
   ]
  },
  {
   "cell_type": "code",
   "execution_count": 2,
   "id": "1156b84f",
   "metadata": {
    "execution": {
     "iopub.execute_input": "2022-08-13T15:11:31.125632Z",
     "iopub.status.busy": "2022-08-13T15:11:31.125290Z",
     "iopub.status.idle": "2022-08-13T15:11:35.702076Z",
     "shell.execute_reply": "2022-08-13T15:11:35.700863Z"
    },
    "papermill": {
     "duration": 4.58253,
     "end_time": "2022-08-13T15:11:35.703771",
     "exception": false,
     "start_time": "2022-08-13T15:11:31.121241",
     "status": "completed"
    },
    "tags": []
   },
   "outputs": [
    {
     "data": {
      "text/html": [
       "<div>\n",
       "<style scoped>\n",
       "    .dataframe tbody tr th:only-of-type {\n",
       "        vertical-align: middle;\n",
       "    }\n",
       "\n",
       "    .dataframe tbody tr th {\n",
       "        vertical-align: top;\n",
       "    }\n",
       "\n",
       "    .dataframe thead th {\n",
       "        text-align: right;\n",
       "    }\n",
       "</style>\n",
       "<table border=\"1\" class=\"dataframe\">\n",
       "  <thead>\n",
       "    <tr style=\"text-align: right;\">\n",
       "      <th></th>\n",
       "      <th>qid</th>\n",
       "      <th>question_text</th>\n",
       "      <th>target</th>\n",
       "    </tr>\n",
       "  </thead>\n",
       "  <tbody>\n",
       "    <tr>\n",
       "      <th>0</th>\n",
       "      <td>00002165364db923c7e6</td>\n",
       "      <td>How did Quebec nationalists see their province...</td>\n",
       "      <td>0</td>\n",
       "    </tr>\n",
       "    <tr>\n",
       "      <th>1</th>\n",
       "      <td>000032939017120e6e44</td>\n",
       "      <td>Do you have an adopted dog, how would you enco...</td>\n",
       "      <td>0</td>\n",
       "    </tr>\n",
       "    <tr>\n",
       "      <th>2</th>\n",
       "      <td>0000412ca6e4628ce2cf</td>\n",
       "      <td>Why does velocity affect time? Does velocity a...</td>\n",
       "      <td>0</td>\n",
       "    </tr>\n",
       "    <tr>\n",
       "      <th>3</th>\n",
       "      <td>000042bf85aa498cd78e</td>\n",
       "      <td>How did Otto von Guericke used the Magdeburg h...</td>\n",
       "      <td>0</td>\n",
       "    </tr>\n",
       "    <tr>\n",
       "      <th>4</th>\n",
       "      <td>0000455dfa3e01eae3af</td>\n",
       "      <td>Can I convert montra helicon D to a mountain b...</td>\n",
       "      <td>0</td>\n",
       "    </tr>\n",
       "    <tr>\n",
       "      <th>...</th>\n",
       "      <td>...</td>\n",
       "      <td>...</td>\n",
       "      <td>...</td>\n",
       "    </tr>\n",
       "    <tr>\n",
       "      <th>1306117</th>\n",
       "      <td>ffffcc4e2331aaf1e41e</td>\n",
       "      <td>What other technical skills do you need as a c...</td>\n",
       "      <td>0</td>\n",
       "    </tr>\n",
       "    <tr>\n",
       "      <th>1306118</th>\n",
       "      <td>ffffd431801e5a2f4861</td>\n",
       "      <td>Does MS in ECE have good job prospects in USA ...</td>\n",
       "      <td>0</td>\n",
       "    </tr>\n",
       "    <tr>\n",
       "      <th>1306119</th>\n",
       "      <td>ffffd48fb36b63db010c</td>\n",
       "      <td>Is foam insulation toxic?</td>\n",
       "      <td>0</td>\n",
       "    </tr>\n",
       "    <tr>\n",
       "      <th>1306120</th>\n",
       "      <td>ffffec519fa37cf60c78</td>\n",
       "      <td>How can one start a research project based on ...</td>\n",
       "      <td>0</td>\n",
       "    </tr>\n",
       "    <tr>\n",
       "      <th>1306121</th>\n",
       "      <td>ffffed09fedb5088744a</td>\n",
       "      <td>Who wins in a battle between a Wolverine and a...</td>\n",
       "      <td>0</td>\n",
       "    </tr>\n",
       "  </tbody>\n",
       "</table>\n",
       "<p>1306122 rows × 3 columns</p>\n",
       "</div>"
      ],
      "text/plain": [
       "                          qid  \\\n",
       "0        00002165364db923c7e6   \n",
       "1        000032939017120e6e44   \n",
       "2        0000412ca6e4628ce2cf   \n",
       "3        000042bf85aa498cd78e   \n",
       "4        0000455dfa3e01eae3af   \n",
       "...                       ...   \n",
       "1306117  ffffcc4e2331aaf1e41e   \n",
       "1306118  ffffd431801e5a2f4861   \n",
       "1306119  ffffd48fb36b63db010c   \n",
       "1306120  ffffec519fa37cf60c78   \n",
       "1306121  ffffed09fedb5088744a   \n",
       "\n",
       "                                             question_text  target  \n",
       "0        How did Quebec nationalists see their province...       0  \n",
       "1        Do you have an adopted dog, how would you enco...       0  \n",
       "2        Why does velocity affect time? Does velocity a...       0  \n",
       "3        How did Otto von Guericke used the Magdeburg h...       0  \n",
       "4        Can I convert montra helicon D to a mountain b...       0  \n",
       "...                                                    ...     ...  \n",
       "1306117  What other technical skills do you need as a c...       0  \n",
       "1306118  Does MS in ECE have good job prospects in USA ...       0  \n",
       "1306119                          Is foam insulation toxic?       0  \n",
       "1306120  How can one start a research project based on ...       0  \n",
       "1306121  Who wins in a battle between a Wolverine and a...       0  \n",
       "\n",
       "[1306122 rows x 3 columns]"
      ]
     },
     "execution_count": 2,
     "metadata": {},
     "output_type": "execute_result"
    }
   ],
   "source": [
    "data=pd.read_csv(\"../input/quora-insincere-questions-classification/train.csv\")\n",
    "data"
   ]
  },
  {
   "cell_type": "code",
   "execution_count": 3,
   "id": "9fe33601",
   "metadata": {
    "execution": {
     "iopub.execute_input": "2022-08-13T15:11:35.710870Z",
     "iopub.status.busy": "2022-08-13T15:11:35.710534Z",
     "iopub.status.idle": "2022-08-13T15:11:35.733490Z",
     "shell.execute_reply": "2022-08-13T15:11:35.732578Z"
    },
    "papermill": {
     "duration": 0.028459,
     "end_time": "2022-08-13T15:11:35.735143",
     "exception": false,
     "start_time": "2022-08-13T15:11:35.706684",
     "status": "completed"
    },
    "tags": []
   },
   "outputs": [
    {
     "data": {
      "text/plain": [
       "0    1225312\n",
       "1      80810\n",
       "Name: target, dtype: int64"
      ]
     },
     "execution_count": 3,
     "metadata": {},
     "output_type": "execute_result"
    }
   ],
   "source": [
    "data.target.value_counts()"
   ]
  },
  {
   "cell_type": "code",
   "execution_count": 4,
   "id": "016d2b12",
   "metadata": {
    "execution": {
     "iopub.execute_input": "2022-08-13T15:11:35.742443Z",
     "iopub.status.busy": "2022-08-13T15:11:35.742135Z",
     "iopub.status.idle": "2022-08-13T15:11:35.826422Z",
     "shell.execute_reply": "2022-08-13T15:11:35.825388Z"
    },
    "papermill": {
     "duration": 0.090454,
     "end_time": "2022-08-13T15:11:35.828579",
     "exception": false,
     "start_time": "2022-08-13T15:11:35.738125",
     "status": "completed"
    },
    "tags": []
   },
   "outputs": [],
   "source": [
    "sincere=data[data[\"target\"]==0]\n",
    "insincere=data[data[\"target\"]==1]"
   ]
  },
  {
   "cell_type": "code",
   "execution_count": 5,
   "id": "644ee8cd",
   "metadata": {
    "execution": {
     "iopub.execute_input": "2022-08-13T15:11:35.836416Z",
     "iopub.status.busy": "2022-08-13T15:11:35.835916Z",
     "iopub.status.idle": "2022-08-13T15:11:35.903217Z",
     "shell.execute_reply": "2022-08-13T15:11:35.902191Z"
    },
    "papermill": {
     "duration": 0.073675,
     "end_time": "2022-08-13T15:11:35.905336",
     "exception": false,
     "start_time": "2022-08-13T15:11:35.831661",
     "status": "completed"
    },
    "tags": []
   },
   "outputs": [],
   "source": [
    "under_sincere=sincere.sample(80810,axis=0)"
   ]
  },
  {
   "cell_type": "code",
   "execution_count": 6,
   "id": "ebb2fe15",
   "metadata": {
    "execution": {
     "iopub.execute_input": "2022-08-13T15:11:35.913584Z",
     "iopub.status.busy": "2022-08-13T15:11:35.912661Z",
     "iopub.status.idle": "2022-08-13T15:11:35.918666Z",
     "shell.execute_reply": "2022-08-13T15:11:35.917662Z"
    },
    "papermill": {
     "duration": 0.01208,
     "end_time": "2022-08-13T15:11:35.920467",
     "exception": false,
     "start_time": "2022-08-13T15:11:35.908387",
     "status": "completed"
    },
    "tags": []
   },
   "outputs": [
    {
     "data": {
      "text/plain": [
       "(80810, 3)"
      ]
     },
     "execution_count": 6,
     "metadata": {},
     "output_type": "execute_result"
    }
   ],
   "source": [
    "under_sincere.shape"
   ]
  },
  {
   "cell_type": "code",
   "execution_count": 7,
   "id": "be96a76f",
   "metadata": {
    "execution": {
     "iopub.execute_input": "2022-08-13T15:11:35.928880Z",
     "iopub.status.busy": "2022-08-13T15:11:35.928519Z",
     "iopub.status.idle": "2022-08-13T15:11:35.943459Z",
     "shell.execute_reply": "2022-08-13T15:11:35.942225Z"
    },
    "papermill": {
     "duration": 0.021587,
     "end_time": "2022-08-13T15:11:35.945168",
     "exception": false,
     "start_time": "2022-08-13T15:11:35.923581",
     "status": "completed"
    },
    "tags": []
   },
   "outputs": [
    {
     "data": {
      "text/plain": [
       "(161620, 3)"
      ]
     },
     "execution_count": 7,
     "metadata": {},
     "output_type": "execute_result"
    }
   ],
   "source": [
    "balanced_data=pd.concat([insincere,under_sincere])\n",
    "balanced_data.shape"
   ]
  },
  {
   "cell_type": "code",
   "execution_count": 8,
   "id": "52087069",
   "metadata": {
    "execution": {
     "iopub.execute_input": "2022-08-13T15:11:35.952595Z",
     "iopub.status.busy": "2022-08-13T15:11:35.952274Z",
     "iopub.status.idle": "2022-08-13T15:11:35.961730Z",
     "shell.execute_reply": "2022-08-13T15:11:35.960656Z"
    },
    "papermill": {
     "duration": 0.015651,
     "end_time": "2022-08-13T15:11:35.963940",
     "exception": false,
     "start_time": "2022-08-13T15:11:35.948289",
     "status": "completed"
    },
    "tags": []
   },
   "outputs": [
    {
     "data": {
      "text/plain": [
       "1    80810\n",
       "0    80810\n",
       "Name: target, dtype: int64"
      ]
     },
     "execution_count": 8,
     "metadata": {},
     "output_type": "execute_result"
    }
   ],
   "source": [
    "balanced_data.target.value_counts()"
   ]
  },
  {
   "cell_type": "code",
   "execution_count": 9,
   "id": "8cc10347",
   "metadata": {
    "execution": {
     "iopub.execute_input": "2022-08-13T15:11:35.973196Z",
     "iopub.status.busy": "2022-08-13T15:11:35.972345Z",
     "iopub.status.idle": "2022-08-13T15:11:36.472564Z",
     "shell.execute_reply": "2022-08-13T15:11:36.471381Z"
    },
    "papermill": {
     "duration": 0.506978,
     "end_time": "2022-08-13T15:11:36.474762",
     "exception": false,
     "start_time": "2022-08-13T15:11:35.967784",
     "status": "completed"
    },
    "tags": []
   },
   "outputs": [],
   "source": [
    "balanced_data.to_csv(\"balanced.csv\",index=False)"
   ]
  },
  {
   "cell_type": "code",
   "execution_count": null,
   "id": "45a9818e",
   "metadata": {
    "papermill": {
     "duration": 0.002959,
     "end_time": "2022-08-13T15:11:36.481652",
     "exception": false,
     "start_time": "2022-08-13T15:11:36.478693",
     "status": "completed"
    },
    "tags": []
   },
   "outputs": [],
   "source": []
  }
 ],
 "metadata": {
  "kernelspec": {
   "display_name": "Python 3",
   "language": "python",
   "name": "python3"
  },
  "language_info": {
   "codemirror_mode": {
    "name": "ipython",
    "version": 3
   },
   "file_extension": ".py",
   "mimetype": "text/x-python",
   "name": "python",
   "nbconvert_exporter": "python",
   "pygments_lexer": "ipython3",
   "version": "3.7.12"
  },
  "papermill": {
   "default_parameters": {},
   "duration": 13.760801,
   "end_time": "2022-08-13T15:11:37.105213",
   "environment_variables": {},
   "exception": null,
   "input_path": "__notebook__.ipynb",
   "output_path": "__notebook__.ipynb",
   "parameters": {},
   "start_time": "2022-08-13T15:11:23.344412",
   "version": "2.3.4"
  }
 },
 "nbformat": 4,
 "nbformat_minor": 5
}
