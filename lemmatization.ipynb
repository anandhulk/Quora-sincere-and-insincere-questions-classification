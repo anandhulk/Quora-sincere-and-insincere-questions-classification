{
 "cells": [
  {
   "cell_type": "code",
   "execution_count": 23,
   "metadata": {
    "_cell_guid": "b1076dfc-b9ad-4769-8c92-a6c4dae69d19",
    "_uuid": "8f2839f25d086af736a60e9eeb907d3b93b6e0e5",
    "execution": {
     "iopub.execute_input": "2022-08-29T16:59:47.492236Z",
     "iopub.status.busy": "2022-08-29T16:59:47.491794Z",
     "iopub.status.idle": "2022-08-29T16:59:47.532453Z",
     "shell.execute_reply": "2022-08-29T16:59:47.531281Z",
     "shell.execute_reply.started": "2022-08-29T16:59:47.492138Z"
    }
   },
   "outputs": [],
   "source": [
    "import numpy as np\n",
    "import pandas as pd\n",
    "import spacy\n",
    "import matplotlib.pyplot as plt"
   ]
  },
  {
   "cell_type": "code",
   "execution_count": 2,
   "metadata": {},
   "outputs": [],
   "source": [
    "nlp = spacy.load(\"en_core_web_sm\")"
   ]
  },
  {
   "cell_type": "code",
   "execution_count": 3,
   "metadata": {
    "execution": {
     "iopub.execute_input": "2022-08-29T16:59:47.534647Z",
     "iopub.status.busy": "2022-08-29T16:59:47.534337Z",
     "iopub.status.idle": "2022-08-29T16:59:52.005756Z",
     "shell.execute_reply": "2022-08-29T16:59:52.004350Z",
     "shell.execute_reply.started": "2022-08-29T16:59:47.534622Z"
    }
   },
   "outputs": [
    {
     "data": {
      "text/html": [
       "<div>\n",
       "<style scoped>\n",
       "    .dataframe tbody tr th:only-of-type {\n",
       "        vertical-align: middle;\n",
       "    }\n",
       "\n",
       "    .dataframe tbody tr th {\n",
       "        vertical-align: top;\n",
       "    }\n",
       "\n",
       "    .dataframe thead th {\n",
       "        text-align: right;\n",
       "    }\n",
       "</style>\n",
       "<table border=\"1\" class=\"dataframe\">\n",
       "  <thead>\n",
       "    <tr style=\"text-align: right;\">\n",
       "      <th></th>\n",
       "      <th>qid</th>\n",
       "      <th>question_text</th>\n",
       "      <th>target</th>\n",
       "    </tr>\n",
       "  </thead>\n",
       "  <tbody>\n",
       "    <tr>\n",
       "      <th>0</th>\n",
       "      <td>00002165364db923c7e6</td>\n",
       "      <td>How did Quebec nationalists see their province...</td>\n",
       "      <td>0</td>\n",
       "    </tr>\n",
       "    <tr>\n",
       "      <th>1</th>\n",
       "      <td>000032939017120e6e44</td>\n",
       "      <td>Do you have an adopted dog, how would you enco...</td>\n",
       "      <td>0</td>\n",
       "    </tr>\n",
       "    <tr>\n",
       "      <th>2</th>\n",
       "      <td>0000412ca6e4628ce2cf</td>\n",
       "      <td>Why does velocity affect time? Does velocity a...</td>\n",
       "      <td>0</td>\n",
       "    </tr>\n",
       "    <tr>\n",
       "      <th>3</th>\n",
       "      <td>000042bf85aa498cd78e</td>\n",
       "      <td>How did Otto von Guericke used the Magdeburg h...</td>\n",
       "      <td>0</td>\n",
       "    </tr>\n",
       "    <tr>\n",
       "      <th>4</th>\n",
       "      <td>0000455dfa3e01eae3af</td>\n",
       "      <td>Can I convert montra helicon D to a mountain b...</td>\n",
       "      <td>0</td>\n",
       "    </tr>\n",
       "  </tbody>\n",
       "</table>\n",
       "</div>"
      ],
      "text/plain": [
       "                    qid                                      question_text  \\\n",
       "0  00002165364db923c7e6  How did Quebec nationalists see their province...   \n",
       "1  000032939017120e6e44  Do you have an adopted dog, how would you enco...   \n",
       "2  0000412ca6e4628ce2cf  Why does velocity affect time? Does velocity a...   \n",
       "3  000042bf85aa498cd78e  How did Otto von Guericke used the Magdeburg h...   \n",
       "4  0000455dfa3e01eae3af  Can I convert montra helicon D to a mountain b...   \n",
       "\n",
       "   target  \n",
       "0       0  \n",
       "1       0  \n",
       "2       0  \n",
       "3       0  \n",
       "4       0  "
      ]
     },
     "execution_count": 3,
     "metadata": {},
     "output_type": "execute_result"
    }
   ],
   "source": [
    "data=pd.read_csv(\"./Data/train.csv\")\n",
    "data.head()"
   ]
  },
  {
   "cell_type": "code",
   "execution_count": 4,
   "metadata": {
    "execution": {
     "iopub.execute_input": "2022-08-29T16:59:52.007494Z",
     "iopub.status.busy": "2022-08-29T16:59:52.007203Z",
     "iopub.status.idle": "2022-08-29T16:59:52.048503Z",
     "shell.execute_reply": "2022-08-29T16:59:52.047479Z",
     "shell.execute_reply.started": "2022-08-29T16:59:52.007470Z"
    }
   },
   "outputs": [],
   "source": [
    "data=data.drop(\"qid\",axis=1)"
   ]
  },
  {
   "cell_type": "code",
   "execution_count": 5,
   "metadata": {
    "execution": {
     "iopub.execute_input": "2022-08-29T16:59:52.051585Z",
     "iopub.status.busy": "2022-08-29T16:59:52.051295Z",
     "iopub.status.idle": "2022-08-29T16:59:52.059661Z",
     "shell.execute_reply": "2022-08-29T16:59:52.058578Z",
     "shell.execute_reply.started": "2022-08-29T16:59:52.051561Z"
    }
   },
   "outputs": [],
   "source": [
    "x=data[\"question_text\"]\n",
    "y=data[\"target\"]"
   ]
  },
  {
   "cell_type": "code",
   "execution_count": 14,
   "metadata": {
    "execution": {
     "iopub.execute_input": "2022-08-29T17:00:08.536873Z",
     "iopub.status.busy": "2022-08-29T17:00:08.536202Z",
     "iopub.status.idle": "2022-08-29T17:00:08.544098Z",
     "shell.execute_reply": "2022-08-29T17:00:08.543101Z",
     "shell.execute_reply.started": "2022-08-29T17:00:08.536839Z"
    }
   },
   "outputs": [],
   "source": [
    "def lemmatize(df):\n",
    "    res=[]\n",
    "    count=df.shape[0]\n",
    "    \n",
    "    for row in df:\n",
    "        doc=nlp(row)\n",
    "        row=\" \".join([w.lemma_ for w in nlp(row)])\n",
    "        res.append(row)\n",
    "        count=count-1\n",
    "        \n",
    "        if(count%5000==0):\n",
    "            print(\"Remaining no. of rows= \",count)\n",
    "            \n",
    "    res=pd.Series(res)\n",
    "    return res"
   ]
  },
  {
   "cell_type": "code",
   "execution_count": 7,
   "metadata": {
    "execution": {
     "iopub.execute_input": "2022-08-29T17:00:08.546062Z",
     "iopub.status.busy": "2022-08-29T17:00:08.545519Z",
     "iopub.status.idle": "2022-08-29T17:00:08.565228Z",
     "shell.execute_reply": "2022-08-29T17:00:08.563930Z",
     "shell.execute_reply.started": "2022-08-29T17:00:08.546007Z"
    }
   },
   "outputs": [
    {
     "data": {
      "text/html": [
       "<div>\n",
       "<style scoped>\n",
       "    .dataframe tbody tr th:only-of-type {\n",
       "        vertical-align: middle;\n",
       "    }\n",
       "\n",
       "    .dataframe tbody tr th {\n",
       "        vertical-align: top;\n",
       "    }\n",
       "\n",
       "    .dataframe thead th {\n",
       "        text-align: right;\n",
       "    }\n",
       "</style>\n",
       "<table border=\"1\" class=\"dataframe\">\n",
       "  <thead>\n",
       "    <tr style=\"text-align: right;\">\n",
       "      <th></th>\n",
       "      <th>col1</th>\n",
       "    </tr>\n",
       "  </thead>\n",
       "  <tbody>\n",
       "    <tr>\n",
       "      <th>0</th>\n",
       "      <td>this is spacy lemmatization testing.</td>\n",
       "    </tr>\n",
       "    <tr>\n",
       "      <th>1</th>\n",
       "      <td>some programming books are better than others</td>\n",
       "    </tr>\n",
       "    <tr>\n",
       "      <th>2</th>\n",
       "      <td>sounds like a quote from the Smiths</td>\n",
       "    </tr>\n",
       "  </tbody>\n",
       "</table>\n",
       "</div>"
      ],
      "text/plain": [
       "                                            col1\n",
       "0           this is spacy lemmatization testing.\n",
       "1  some programming books are better than others\n",
       "2            sounds like a quote from the Smiths"
      ]
     },
     "execution_count": 7,
     "metadata": {},
     "output_type": "execute_result"
    }
   ],
   "source": [
    "example = pd.DataFrame({\"col1\":[\"this is spacy lemmatization testing.\",\n",
    "                                \"some programming books are better than others\",\n",
    "                                \"sounds like a quote from the Smiths\"]})\n",
    "example"
   ]
  },
  {
   "cell_type": "code",
   "execution_count": 8,
   "metadata": {
    "execution": {
     "iopub.execute_input": "2022-08-29T17:00:08.568159Z",
     "iopub.status.busy": "2022-08-29T17:00:08.566960Z",
     "iopub.status.idle": "2022-08-29T17:00:08.636767Z",
     "shell.execute_reply": "2022-08-29T17:00:08.635513Z",
     "shell.execute_reply.started": "2022-08-29T17:00:08.568119Z"
    }
   },
   "outputs": [
    {
     "name": "stdout",
     "output_type": "stream",
     "text": [
      "remaining =  0\n"
     ]
    },
    {
     "data": {
      "text/plain": [
       "0       this be spacy lemmatization testing .\n",
       "1    some programming book be well than other\n",
       "2           sound like a quote from the smith\n",
       "dtype: object"
      ]
     },
     "execution_count": 8,
     "metadata": {},
     "output_type": "execute_result"
    }
   ],
   "source": [
    "a=lemmatize(example.col1)\n",
    "a"
   ]
  },
  {
   "cell_type": "code",
   "execution_count": 15,
   "metadata": {
    "execution": {
     "iopub.execute_input": "2022-08-29T17:00:16.154767Z",
     "iopub.status.busy": "2022-08-29T17:00:16.154072Z",
     "iopub.status.idle": "2022-08-29T17:00:16.158466Z",
     "shell.execute_reply": "2022-08-29T17:00:16.157515Z",
     "shell.execute_reply.started": "2022-08-29T17:00:16.154740Z"
    }
   },
   "outputs": [
    {
     "name": "stdout",
     "output_type": "stream",
     "text": [
      "Remaining no. of rows=  1305000\n",
      "Remaining no. of rows=  1300000\n",
      "Remaining no. of rows=  1295000\n",
      "Remaining no. of rows=  1290000\n",
      "Remaining no. of rows=  1285000\n",
      "Remaining no. of rows=  1280000\n",
      "Remaining no. of rows=  1275000\n",
      "Remaining no. of rows=  1270000\n",
      "Remaining no. of rows=  1265000\n",
      "Remaining no. of rows=  1260000\n",
      "Remaining no. of rows=  1255000\n",
      "Remaining no. of rows=  1250000\n",
      "Remaining no. of rows=  1245000\n",
      "Remaining no. of rows=  1240000\n",
      "Remaining no. of rows=  1235000\n",
      "Remaining no. of rows=  1230000\n",
      "Remaining no. of rows=  1225000\n",
      "Remaining no. of rows=  1220000\n",
      "Remaining no. of rows=  1215000\n",
      "Remaining no. of rows=  1210000\n",
      "Remaining no. of rows=  1205000\n",
      "Remaining no. of rows=  1200000\n",
      "Remaining no. of rows=  1195000\n",
      "Remaining no. of rows=  1190000\n",
      "Remaining no. of rows=  1185000\n",
      "Remaining no. of rows=  1180000\n",
      "Remaining no. of rows=  1175000\n",
      "Remaining no. of rows=  1170000\n",
      "Remaining no. of rows=  1165000\n",
      "Remaining no. of rows=  1160000\n",
      "Remaining no. of rows=  1155000\n",
      "Remaining no. of rows=  1150000\n",
      "Remaining no. of rows=  1145000\n",
      "Remaining no. of rows=  1140000\n",
      "Remaining no. of rows=  1135000\n",
      "Remaining no. of rows=  1130000\n",
      "Remaining no. of rows=  1125000\n",
      "Remaining no. of rows=  1120000\n",
      "Remaining no. of rows=  1115000\n",
      "Remaining no. of rows=  1110000\n",
      "Remaining no. of rows=  1105000\n",
      "Remaining no. of rows=  1100000\n",
      "Remaining no. of rows=  1095000\n",
      "Remaining no. of rows=  1090000\n",
      "Remaining no. of rows=  1085000\n",
      "Remaining no. of rows=  1080000\n",
      "Remaining no. of rows=  1075000\n",
      "Remaining no. of rows=  1070000\n",
      "Remaining no. of rows=  1065000\n",
      "Remaining no. of rows=  1060000\n",
      "Remaining no. of rows=  1055000\n",
      "Remaining no. of rows=  1050000\n",
      "Remaining no. of rows=  1045000\n",
      "Remaining no. of rows=  1040000\n",
      "Remaining no. of rows=  1035000\n",
      "Remaining no. of rows=  1030000\n",
      "Remaining no. of rows=  1025000\n",
      "Remaining no. of rows=  1020000\n",
      "Remaining no. of rows=  1015000\n",
      "Remaining no. of rows=  1010000\n",
      "Remaining no. of rows=  1005000\n",
      "Remaining no. of rows=  1000000\n",
      "Remaining no. of rows=  995000\n",
      "Remaining no. of rows=  990000\n",
      "Remaining no. of rows=  985000\n",
      "Remaining no. of rows=  980000\n",
      "Remaining no. of rows=  975000\n",
      "Remaining no. of rows=  970000\n",
      "Remaining no. of rows=  965000\n",
      "Remaining no. of rows=  960000\n",
      "Remaining no. of rows=  955000\n",
      "Remaining no. of rows=  950000\n",
      "Remaining no. of rows=  945000\n",
      "Remaining no. of rows=  940000\n",
      "Remaining no. of rows=  935000\n",
      "Remaining no. of rows=  930000\n",
      "Remaining no. of rows=  925000\n",
      "Remaining no. of rows=  920000\n",
      "Remaining no. of rows=  915000\n",
      "Remaining no. of rows=  910000\n",
      "Remaining no. of rows=  905000\n",
      "Remaining no. of rows=  900000\n",
      "Remaining no. of rows=  895000\n",
      "Remaining no. of rows=  890000\n",
      "Remaining no. of rows=  885000\n",
      "Remaining no. of rows=  880000\n",
      "Remaining no. of rows=  875000\n",
      "Remaining no. of rows=  870000\n",
      "Remaining no. of rows=  865000\n",
      "Remaining no. of rows=  860000\n",
      "Remaining no. of rows=  855000\n",
      "Remaining no. of rows=  850000\n",
      "Remaining no. of rows=  845000\n",
      "Remaining no. of rows=  840000\n",
      "Remaining no. of rows=  835000\n",
      "Remaining no. of rows=  830000\n",
      "Remaining no. of rows=  825000\n",
      "Remaining no. of rows=  820000\n",
      "Remaining no. of rows=  815000\n",
      "Remaining no. of rows=  810000\n",
      "Remaining no. of rows=  805000\n",
      "Remaining no. of rows=  800000\n",
      "Remaining no. of rows=  795000\n",
      "Remaining no. of rows=  790000\n",
      "Remaining no. of rows=  785000\n",
      "Remaining no. of rows=  780000\n",
      "Remaining no. of rows=  775000\n",
      "Remaining no. of rows=  770000\n",
      "Remaining no. of rows=  765000\n",
      "Remaining no. of rows=  760000\n",
      "Remaining no. of rows=  755000\n",
      "Remaining no. of rows=  750000\n",
      "Remaining no. of rows=  745000\n",
      "Remaining no. of rows=  740000\n",
      "Remaining no. of rows=  735000\n",
      "Remaining no. of rows=  730000\n",
      "Remaining no. of rows=  725000\n",
      "Remaining no. of rows=  720000\n",
      "Remaining no. of rows=  715000\n",
      "Remaining no. of rows=  710000\n",
      "Remaining no. of rows=  705000\n",
      "Remaining no. of rows=  700000\n",
      "Remaining no. of rows=  695000\n",
      "Remaining no. of rows=  690000\n",
      "Remaining no. of rows=  685000\n",
      "Remaining no. of rows=  680000\n",
      "Remaining no. of rows=  675000\n",
      "Remaining no. of rows=  670000\n",
      "Remaining no. of rows=  665000\n",
      "Remaining no. of rows=  660000\n",
      "Remaining no. of rows=  655000\n",
      "Remaining no. of rows=  650000\n",
      "Remaining no. of rows=  645000\n",
      "Remaining no. of rows=  640000\n",
      "Remaining no. of rows=  635000\n",
      "Remaining no. of rows=  630000\n",
      "Remaining no. of rows=  625000\n",
      "Remaining no. of rows=  620000\n",
      "Remaining no. of rows=  615000\n",
      "Remaining no. of rows=  610000\n",
      "Remaining no. of rows=  605000\n",
      "Remaining no. of rows=  600000\n",
      "Remaining no. of rows=  595000\n",
      "Remaining no. of rows=  590000\n",
      "Remaining no. of rows=  585000\n",
      "Remaining no. of rows=  580000\n",
      "Remaining no. of rows=  575000\n",
      "Remaining no. of rows=  570000\n",
      "Remaining no. of rows=  565000\n",
      "Remaining no. of rows=  560000\n",
      "Remaining no. of rows=  555000\n",
      "Remaining no. of rows=  550000\n",
      "Remaining no. of rows=  545000\n",
      "Remaining no. of rows=  540000\n",
      "Remaining no. of rows=  535000\n",
      "Remaining no. of rows=  530000\n",
      "Remaining no. of rows=  525000\n",
      "Remaining no. of rows=  520000\n",
      "Remaining no. of rows=  515000\n",
      "Remaining no. of rows=  510000\n",
      "Remaining no. of rows=  505000\n",
      "Remaining no. of rows=  500000\n",
      "Remaining no. of rows=  495000\n",
      "Remaining no. of rows=  490000\n",
      "Remaining no. of rows=  485000\n",
      "Remaining no. of rows=  480000\n",
      "Remaining no. of rows=  475000\n",
      "Remaining no. of rows=  470000\n",
      "Remaining no. of rows=  465000\n",
      "Remaining no. of rows=  460000\n",
      "Remaining no. of rows=  455000\n",
      "Remaining no. of rows=  450000\n",
      "Remaining no. of rows=  445000\n",
      "Remaining no. of rows=  440000\n",
      "Remaining no. of rows=  435000\n",
      "Remaining no. of rows=  430000\n",
      "Remaining no. of rows=  425000\n",
      "Remaining no. of rows=  420000\n",
      "Remaining no. of rows=  415000\n",
      "Remaining no. of rows=  410000\n",
      "Remaining no. of rows=  405000\n",
      "Remaining no. of rows=  400000\n",
      "Remaining no. of rows=  395000\n",
      "Remaining no. of rows=  390000\n",
      "Remaining no. of rows=  385000\n",
      "Remaining no. of rows=  380000\n",
      "Remaining no. of rows=  375000\n",
      "Remaining no. of rows=  370000\n",
      "Remaining no. of rows=  365000\n",
      "Remaining no. of rows=  360000\n",
      "Remaining no. of rows=  355000\n",
      "Remaining no. of rows=  350000\n",
      "Remaining no. of rows=  345000\n",
      "Remaining no. of rows=  340000\n",
      "Remaining no. of rows=  335000\n",
      "Remaining no. of rows=  330000\n",
      "Remaining no. of rows=  325000\n",
      "Remaining no. of rows=  320000\n",
      "Remaining no. of rows=  315000\n",
      "Remaining no. of rows=  310000\n",
      "Remaining no. of rows=  305000\n",
      "Remaining no. of rows=  300000\n",
      "Remaining no. of rows=  295000\n",
      "Remaining no. of rows=  290000\n",
      "Remaining no. of rows=  285000\n",
      "Remaining no. of rows=  280000\n",
      "Remaining no. of rows=  275000\n",
      "Remaining no. of rows=  270000\n",
      "Remaining no. of rows=  265000\n",
      "Remaining no. of rows=  260000\n",
      "Remaining no. of rows=  255000\n",
      "Remaining no. of rows=  250000\n",
      "Remaining no. of rows=  245000\n",
      "Remaining no. of rows=  240000\n",
      "Remaining no. of rows=  235000\n",
      "Remaining no. of rows=  230000\n",
      "Remaining no. of rows=  225000\n",
      "Remaining no. of rows=  220000\n",
      "Remaining no. of rows=  215000\n",
      "Remaining no. of rows=  210000\n",
      "Remaining no. of rows=  205000\n",
      "Remaining no. of rows=  200000\n",
      "Remaining no. of rows=  195000\n",
      "Remaining no. of rows=  190000\n",
      "Remaining no. of rows=  185000\n",
      "Remaining no. of rows=  180000\n",
      "Remaining no. of rows=  175000\n",
      "Remaining no. of rows=  170000\n",
      "Remaining no. of rows=  165000\n",
      "Remaining no. of rows=  160000\n",
      "Remaining no. of rows=  155000\n",
      "Remaining no. of rows=  150000\n",
      "Remaining no. of rows=  145000\n",
      "Remaining no. of rows=  140000\n",
      "Remaining no. of rows=  135000\n",
      "Remaining no. of rows=  130000\n",
      "Remaining no. of rows=  125000\n",
      "Remaining no. of rows=  120000\n",
      "Remaining no. of rows=  115000\n",
      "Remaining no. of rows=  110000\n",
      "Remaining no. of rows=  105000\n",
      "Remaining no. of rows=  100000\n",
      "Remaining no. of rows=  95000\n",
      "Remaining no. of rows=  90000\n",
      "Remaining no. of rows=  85000\n",
      "Remaining no. of rows=  80000\n",
      "Remaining no. of rows=  75000\n",
      "Remaining no. of rows=  70000\n",
      "Remaining no. of rows=  65000\n",
      "Remaining no. of rows=  60000\n",
      "Remaining no. of rows=  55000\n",
      "Remaining no. of rows=  50000\n",
      "Remaining no. of rows=  45000\n",
      "Remaining no. of rows=  40000\n",
      "Remaining no. of rows=  35000\n",
      "Remaining no. of rows=  30000\n",
      "Remaining no. of rows=  25000\n",
      "Remaining no. of rows=  20000\n",
      "Remaining no. of rows=  15000\n",
      "Remaining no. of rows=  10000\n",
      "Remaining no. of rows=  5000\n",
      "Remaining no. of rows=  0\n"
     ]
    }
   ],
   "source": [
    "lemmatized_x=lemmatize(x)"
   ]
  },
  {
   "cell_type": "code",
   "execution_count": 16,
   "metadata": {
    "execution": {
     "iopub.execute_input": "2022-08-29T17:00:19.902559Z",
     "iopub.status.busy": "2022-08-29T17:00:19.902223Z",
     "iopub.status.idle": "2022-08-29T17:00:19.911445Z",
     "shell.execute_reply": "2022-08-29T17:00:19.910168Z",
     "shell.execute_reply.started": "2022-08-29T17:00:19.902534Z"
    }
   },
   "outputs": [],
   "source": [
    "lemmatized_x.to_csv(\"lemma_fulldataset.csv\",index=False)"
   ]
  },
  {
   "cell_type": "markdown",
   "metadata": {},
   "source": [
    "# #Data cleaning (removing ?.!@#%_+}{ etc..)"
   ]
  },
  {
   "cell_type": "code",
   "execution_count": 17,
   "metadata": {},
   "outputs": [],
   "source": [
    "import re\n",
    "\n",
    "def clean_text(series):\n",
    "    res=[]\n",
    "    for row in series:\n",
    "        text = re.sub(r'[^(a-zA-Z)\\s]','', row)\n",
    "        res.append(text)\n",
    "    res=pd.Series(res)\n",
    "    return res"
   ]
  },
  {
   "cell_type": "code",
   "execution_count": 19,
   "metadata": {},
   "outputs": [
    {
     "data": {
      "text/plain": [
       "0          how do Quebec nationalist see their province a...\n",
       "1          do you have an adopted dog , how would you enc...\n",
       "2          why do velocity affect time ? do velocity affe...\n",
       "3          how do Otto von Guericke use the Magdeburg hem...\n",
       "4          can I convert montra helicon d to a mountain b...\n",
       "                                 ...                        \n",
       "1306117    what other technical skill do you need as a co...\n",
       "1306118    do MS in ECE have good job prospect in USA or ...\n",
       "1306119                           be foam insulation toxic ?\n",
       "1306120    how can one start a research project base on b...\n",
       "1306121    who win in a battle between a Wolverine and a ...\n",
       "Length: 1306122, dtype: object"
      ]
     },
     "execution_count": 19,
     "metadata": {},
     "output_type": "execute_result"
    }
   ],
   "source": [
    "lemmatized_x"
   ]
  },
  {
   "cell_type": "code",
   "execution_count": 20,
   "metadata": {},
   "outputs": [],
   "source": [
    "cleaned_x=clean_text(lemmatized_x)"
   ]
  },
  {
   "cell_type": "code",
   "execution_count": 32,
   "metadata": {},
   "outputs": [],
   "source": [
    "sinc=y.value_counts()[0]\n",
    "insin=y.value_counts()[1]"
   ]
  },
  {
   "cell_type": "code",
   "execution_count": 39,
   "metadata": {},
   "outputs": [
    {
     "data": {
      "image/png": "[encoded data removed]",
      "text/plain": [
       "<Figure size 432x288 with 1 Axes>"
      ]
     },
     "metadata": {
      "needs_background": "light"
     },
     "output_type": "display_data"
    }
   ],
   "source": [
    "x=np.array([\"Sincere\",\"Insincere\"])\n",
    "y=np.array([sinc,insin])\n",
    "\n",
    "plt.bar(x,y,color=[\"#55ff00\",\"#ff0000\"])\n",
    "plt.ylabel(\"Number of Questions\")\n",
    "plt.xlabel(\"Label\")\n",
    "plt.title(\"Data imbalance\")\n",
    "plt.show()"
   ]
  },
  {
   "cell_type": "markdown",
   "metadata": {},
   "source": [
    "***Its now clear that we have Imbalance in our data. From this I have came to a conclusion that i can't relay on accuracy itself for model validation. so i have to consider other validation metrics such as PRECISION, RECALL and F1 SCORE.*** "
   ]
  },
  {
   "cell_type": "code",
   "execution_count": 22,
   "metadata": {},
   "outputs": [
    {
     "data": {
      "text/html": [
       "<div>\n",
       "<style scoped>\n",
       "    .dataframe tbody tr th:only-of-type {\n",
       "        vertical-align: middle;\n",
       "    }\n",
       "\n",
       "    .dataframe tbody tr th {\n",
       "        vertical-align: top;\n",
       "    }\n",
       "\n",
       "    .dataframe thead th {\n",
       "        text-align: right;\n",
       "    }\n",
       "</style>\n",
       "<table border=\"1\" class=\"dataframe\">\n",
       "  <thead>\n",
       "    <tr style=\"text-align: right;\">\n",
       "      <th></th>\n",
       "      <th>0</th>\n",
       "      <th>target</th>\n",
       "    </tr>\n",
       "  </thead>\n",
       "  <tbody>\n",
       "    <tr>\n",
       "      <th>0</th>\n",
       "      <td>how do Quebec nationalist see their province a...</td>\n",
       "      <td>0</td>\n",
       "    </tr>\n",
       "    <tr>\n",
       "      <th>1</th>\n",
       "      <td>do you have an adopted dog  how would you enco...</td>\n",
       "      <td>0</td>\n",
       "    </tr>\n",
       "    <tr>\n",
       "      <th>2</th>\n",
       "      <td>why do velocity affect time  do velocity affec...</td>\n",
       "      <td>0</td>\n",
       "    </tr>\n",
       "    <tr>\n",
       "      <th>3</th>\n",
       "      <td>how do Otto von Guericke use the Magdeburg hem...</td>\n",
       "      <td>0</td>\n",
       "    </tr>\n",
       "    <tr>\n",
       "      <th>4</th>\n",
       "      <td>can I convert montra helicon d to a mountain b...</td>\n",
       "      <td>0</td>\n",
       "    </tr>\n",
       "    <tr>\n",
       "      <th>...</th>\n",
       "      <td>...</td>\n",
       "      <td>...</td>\n",
       "    </tr>\n",
       "    <tr>\n",
       "      <th>1306117</th>\n",
       "      <td>what other technical skill do you need as a co...</td>\n",
       "      <td>0</td>\n",
       "    </tr>\n",
       "    <tr>\n",
       "      <th>1306118</th>\n",
       "      <td>do MS in ECE have good job prospect in USA or ...</td>\n",
       "      <td>0</td>\n",
       "    </tr>\n",
       "    <tr>\n",
       "      <th>1306119</th>\n",
       "      <td>be foam insulation toxic</td>\n",
       "      <td>0</td>\n",
       "    </tr>\n",
       "    <tr>\n",
       "      <th>1306120</th>\n",
       "      <td>how can one start a research project base on b...</td>\n",
       "      <td>0</td>\n",
       "    </tr>\n",
       "    <tr>\n",
       "      <th>1306121</th>\n",
       "      <td>who win in a battle between a Wolverine and a ...</td>\n",
       "      <td>0</td>\n",
       "    </tr>\n",
       "  </tbody>\n",
       "</table>\n",
       "<p>1306122 rows × 2 columns</p>\n",
       "</div>"
      ],
      "text/plain": [
       "                                                         0  target\n",
       "0        how do Quebec nationalist see their province a...       0\n",
       "1        do you have an adopted dog  how would you enco...       0\n",
       "2        why do velocity affect time  do velocity affec...       0\n",
       "3        how do Otto von Guericke use the Magdeburg hem...       0\n",
       "4        can I convert montra helicon d to a mountain b...       0\n",
       "...                                                    ...     ...\n",
       "1306117  what other technical skill do you need as a co...       0\n",
       "1306118  do MS in ECE have good job prospect in USA or ...       0\n",
       "1306119                          be foam insulation toxic        0\n",
       "1306120  how can one start a research project base on b...       0\n",
       "1306121  who win in a battle between a Wolverine and a ...       0\n",
       "\n",
       "[1306122 rows x 2 columns]"
      ]
     },
     "execution_count": 22,
     "metadata": {},
     "output_type": "execute_result"
    }
   ],
   "source": [
    "df=pd.concat([cleaned_x,y],axis=1)\n",
    "df"
   ]
  },
  {
   "cell_type": "markdown",
   "metadata": {},
   "source": [
    "***Saving our cleaned dataset for future experiments***"
   ]
  },
  {
   "cell_type": "code",
   "execution_count": null,
   "metadata": {},
   "outputs": [],
   "source": [
    "df.to_csv(\"final-cleaned-dataset.csv\",index=Fals)"
   ]
  }
 ],
 "metadata": {
  "kernelspec": {
   "display_name": "Python 3 (ipykernel)",
   "language": "python",
   "name": "python3"
  },
  "language_info": {
   "codemirror_mode": {
    "name": "ipython",
    "version": 3
   },
   "file_extension": ".py",
   "mimetype": "text/x-python",
   "name": "python",
   "nbconvert_exporter": "python",
   "pygments_lexer": "ipython3",
   "version": "3.9.12"
  }
 },
 "nbformat": 4,
 "nbformat_minor": 4
}
