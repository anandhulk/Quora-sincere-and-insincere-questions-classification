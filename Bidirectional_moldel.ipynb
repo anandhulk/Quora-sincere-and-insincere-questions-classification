{
  "cells": [
    {
      "cell_type": "markdown",
      "metadata": {
        "id": "view-in-github",
        "colab_type": "text"
      },
      "source": [
        "<a href=\"https://colab.research.google.com/github/anandhulk/Quora-sincere-and-insincere-questions-classification/blob/main/Bidirectional_moldel.ipynb\" target=\"_parent\"><img src=\"https://colab.research.google.com/assets/colab-badge.svg\" alt=\"Open In Colab\"/></a>"
      ]
    },
    {
      "cell_type": "code",
      "execution_count": 1,
      "id": "81e177b6",
      "metadata": {
        "_cell_guid": "b1076dfc-b9ad-4769-8c92-a6c4dae69d19",
        "_uuid": "8f2839f25d086af736a60e9eeb907d3b93b6e0e5",
        "execution": {
          "iopub.execute_input": "2022-08-29T08:58:16.408199Z",
          "iopub.status.busy": "2022-08-29T08:58:16.407058Z",
          "iopub.status.idle": "2022-08-29T08:58:16.424710Z",
          "shell.execute_reply": "2022-08-29T08:58:16.423608Z"
        },
        "papermill": {
          "duration": 0.029449,
          "end_time": "2022-08-29T08:58:16.426844",
          "exception": false,
          "start_time": "2022-08-29T08:58:16.397395",
          "status": "completed"
        },
        "tags": [],
        "id": "81e177b6"
      },
      "outputs": [],
      "source": [
        "import numpy as np \n",
        "import pandas as pd "
      ]
    },
    {
      "cell_type": "code",
      "execution_count": 2,
      "id": "68fbf11e",
      "metadata": {
        "execution": {
          "iopub.execute_input": "2022-08-29T08:58:16.439335Z",
          "iopub.status.busy": "2022-08-29T08:58:16.439046Z",
          "iopub.status.idle": "2022-08-29T08:58:16.444592Z",
          "shell.execute_reply": "2022-08-29T08:58:16.443722Z"
        },
        "papermill": {
          "duration": 0.013894,
          "end_time": "2022-08-29T08:58:16.446459",
          "exception": false,
          "start_time": "2022-08-29T08:58:16.432565",
          "status": "completed"
        },
        "tags": [],
        "id": "68fbf11e"
      },
      "outputs": [],
      "source": [
        "import warnings\n",
        "\n",
        "def fxn():\n",
        "    warnings.warn(\"deprecated\", DeprecationWarning)\n",
        "\n",
        "with warnings.catch_warnings():\n",
        "    warnings.simplefilter(\"ignore\")\n",
        "    fxn()"
      ]
    },
    {
      "cell_type": "code",
      "source": [
        "from google.colab import drive\n",
        "drive.mount('/content/drive')"
      ],
      "metadata": {
        "colab": {
          "base_uri": "https://localhost:8080/"
        },
        "id": "hGHQj9OQy5cN",
        "outputId": "37ac9a41-d62e-4dd8-cf2c-5c0fb9009ddc"
      },
      "id": "hGHQj9OQy5cN",
      "execution_count": 3,
      "outputs": [
        {
          "output_type": "stream",
          "name": "stdout",
          "text": [
            "Mounted at /content/drive\n"
          ]
        }
      ]
    },
    {
      "cell_type": "code",
      "execution_count": 64,
      "id": "5426a7c0",
      "metadata": {
        "execution": {
          "iopub.execute_input": "2022-08-29T08:58:16.459778Z",
          "iopub.status.busy": "2022-08-29T08:58:16.458204Z",
          "iopub.status.idle": "2022-08-29T08:58:16.800009Z",
          "shell.execute_reply": "2022-08-29T08:58:16.798965Z"
        },
        "papermill": {
          "duration": 0.350278,
          "end_time": "2022-08-29T08:58:16.802151",
          "exception": false,
          "start_time": "2022-08-29T08:58:16.451873",
          "status": "completed"
        },
        "tags": [],
        "colab": {
          "base_uri": "https://localhost:8080/",
          "height": 424
        },
        "id": "5426a7c0",
        "outputId": "8ad0dd28-3eb9-4760-ded6-b1dfee4a4dd1"
      },
      "outputs": [
        {
          "output_type": "execute_result",
          "data": {
            "text/plain": [
              "                                                        0  target\n",
              "0       have the United States become the large dictat...       1\n",
              "1       which baby be more sweeter to their parent  da...       1\n",
              "2       if black support school choice and mandatory s...       1\n",
              "3       I be gay boy and I love my cousin ( boy )  he ...       1\n",
              "4                        which race have the small penis        1\n",
              "...                                                   ...     ...\n",
              "161614  will you be offend if you give someone a birth...       0\n",
              "161615  what should I study to design levitating vehic...       0\n",
              "161616                be a five year love affair serious        0\n",
              "161617  what can be do to keep Republicans from replac...       0\n",
              "161618  be it true that so many writer be leave Quora ...       0\n",
              "\n",
              "[161619 rows x 2 columns]"
            ],
            "text/html": [
              "\n",
              "  <div id=\"df-4ea0aed9-e33c-448e-9c76-a76c9c6ea830\">\n",
              "    <div class=\"colab-df-container\">\n",
              "      <div>\n",
              "<style scoped>\n",
              "    .dataframe tbody tr th:only-of-type {\n",
              "        vertical-align: middle;\n",
              "    }\n",
              "\n",
              "    .dataframe tbody tr th {\n",
              "        vertical-align: top;\n",
              "    }\n",
              "\n",
              "    .dataframe thead th {\n",
              "        text-align: right;\n",
              "    }\n",
              "</style>\n",
              "<table border=\"1\" class=\"dataframe\">\n",
              "  <thead>\n",
              "    <tr style=\"text-align: right;\">\n",
              "      <th></th>\n",
              "      <th>0</th>\n",
              "      <th>target</th>\n",
              "    </tr>\n",
              "  </thead>\n",
              "  <tbody>\n",
              "    <tr>\n",
              "      <th>0</th>\n",
              "      <td>have the United States become the large dictat...</td>\n",
              "      <td>1</td>\n",
              "    </tr>\n",
              "    <tr>\n",
              "      <th>1</th>\n",
              "      <td>which baby be more sweeter to their parent  da...</td>\n",
              "      <td>1</td>\n",
              "    </tr>\n",
              "    <tr>\n",
              "      <th>2</th>\n",
              "      <td>if black support school choice and mandatory s...</td>\n",
              "      <td>1</td>\n",
              "    </tr>\n",
              "    <tr>\n",
              "      <th>3</th>\n",
              "      <td>I be gay boy and I love my cousin ( boy )  he ...</td>\n",
              "      <td>1</td>\n",
              "    </tr>\n",
              "    <tr>\n",
              "      <th>4</th>\n",
              "      <td>which race have the small penis</td>\n",
              "      <td>1</td>\n",
              "    </tr>\n",
              "    <tr>\n",
              "      <th>...</th>\n",
              "      <td>...</td>\n",
              "      <td>...</td>\n",
              "    </tr>\n",
              "    <tr>\n",
              "      <th>161614</th>\n",
              "      <td>will you be offend if you give someone a birth...</td>\n",
              "      <td>0</td>\n",
              "    </tr>\n",
              "    <tr>\n",
              "      <th>161615</th>\n",
              "      <td>what should I study to design levitating vehic...</td>\n",
              "      <td>0</td>\n",
              "    </tr>\n",
              "    <tr>\n",
              "      <th>161616</th>\n",
              "      <td>be a five year love affair serious</td>\n",
              "      <td>0</td>\n",
              "    </tr>\n",
              "    <tr>\n",
              "      <th>161617</th>\n",
              "      <td>what can be do to keep Republicans from replac...</td>\n",
              "      <td>0</td>\n",
              "    </tr>\n",
              "    <tr>\n",
              "      <th>161618</th>\n",
              "      <td>be it true that so many writer be leave Quora ...</td>\n",
              "      <td>0</td>\n",
              "    </tr>\n",
              "  </tbody>\n",
              "</table>\n",
              "<p>161619 rows × 2 columns</p>\n",
              "</div>\n",
              "      <button class=\"colab-df-convert\" onclick=\"convertToInteractive('df-4ea0aed9-e33c-448e-9c76-a76c9c6ea830')\"\n",
              "              title=\"Convert this dataframe to an interactive table.\"\n",
              "              style=\"display:none;\">\n",
              "        \n",
              "  <svg xmlns=\"http://www.w3.org/2000/svg\" height=\"24px\"viewBox=\"0 0 24 24\"\n",
              "       width=\"24px\">\n",
              "    <path d=\"M0 0h24v24H0V0z\" fill=\"none\"/>\n",
              "    <path d=\"M18.56 5.44l.94 2.06.94-2.06 2.06-.94-2.06-.94-.94-2.06-.94 2.06-2.06.94zm-11 1L8.5 8.5l.94-2.06 2.06-.94-2.06-.94L8.5 2.5l-.94 2.06-2.06.94zm10 10l.94 2.06.94-2.06 2.06-.94-2.06-.94-.94-2.06-.94 2.06-2.06.94z\"/><path d=\"M17.41 7.96l-1.37-1.37c-.4-.4-.92-.59-1.43-.59-.52 0-1.04.2-1.43.59L10.3 9.45l-7.72 7.72c-.78.78-.78 2.05 0 2.83L4 21.41c.39.39.9.59 1.41.59.51 0 1.02-.2 1.41-.59l7.78-7.78 2.81-2.81c.8-.78.8-2.07 0-2.86zM5.41 20L4 18.59l7.72-7.72 1.47 1.35L5.41 20z\"/>\n",
              "  </svg>\n",
              "      </button>\n",
              "      \n",
              "  <style>\n",
              "    .colab-df-container {\n",
              "      display:flex;\n",
              "      flex-wrap:wrap;\n",
              "      gap: 12px;\n",
              "    }\n",
              "\n",
              "    .colab-df-convert {\n",
              "      background-color: #E8F0FE;\n",
              "      border: none;\n",
              "      border-radius: 50%;\n",
              "      cursor: pointer;\n",
              "      display: none;\n",
              "      fill: #1967D2;\n",
              "      height: 32px;\n",
              "      padding: 0 0 0 0;\n",
              "      width: 32px;\n",
              "    }\n",
              "\n",
              "    .colab-df-convert:hover {\n",
              "      background-color: #E2EBFA;\n",
              "      box-shadow: 0px 1px 2px rgba(60, 64, 67, 0.3), 0px 1px 3px 1px rgba(60, 64, 67, 0.15);\n",
              "      fill: #174EA6;\n",
              "    }\n",
              "\n",
              "    [theme=dark] .colab-df-convert {\n",
              "      background-color: #3B4455;\n",
              "      fill: #D2E3FC;\n",
              "    }\n",
              "\n",
              "    [theme=dark] .colab-df-convert:hover {\n",
              "      background-color: #434B5C;\n",
              "      box-shadow: 0px 1px 3px 1px rgba(0, 0, 0, 0.15);\n",
              "      filter: drop-shadow(0px 1px 2px rgba(0, 0, 0, 0.3));\n",
              "      fill: #FFFFFF;\n",
              "    }\n",
              "  </style>\n",
              "\n",
              "      <script>\n",
              "        const buttonEl =\n",
              "          document.querySelector('#df-4ea0aed9-e33c-448e-9c76-a76c9c6ea830 button.colab-df-convert');\n",
              "        buttonEl.style.display =\n",
              "          google.colab.kernel.accessAllowed ? 'block' : 'none';\n",
              "\n",
              "        async function convertToInteractive(key) {\n",
              "          const element = document.querySelector('#df-4ea0aed9-e33c-448e-9c76-a76c9c6ea830');\n",
              "          const dataTable =\n",
              "            await google.colab.kernel.invokeFunction('convertToInteractive',\n",
              "                                                     [key], {});\n",
              "          if (!dataTable) return;\n",
              "\n",
              "          const docLinkHtml = 'Like what you see? Visit the ' +\n",
              "            '<a target=\"_blank\" href=https://colab.research.google.com/notebooks/data_table.ipynb>data table notebook</a>'\n",
              "            + ' to learn more about interactive tables.';\n",
              "          element.innerHTML = '';\n",
              "          dataTable['output_type'] = 'display_data';\n",
              "          await google.colab.output.renderOutput(dataTable, element);\n",
              "          const docLink = document.createElement('div');\n",
              "          docLink.innerHTML = docLinkHtml;\n",
              "          element.appendChild(docLink);\n",
              "        }\n",
              "      </script>\n",
              "    </div>\n",
              "  </div>\n",
              "  "
            ]
          },
          "metadata": {},
          "execution_count": 64
        }
      ],
      "source": [
        "data=pd.read_csv('/content/drive/MyDrive/dataset-quora/balanced.csv') #THIS IS THE LEMMATIZED DATA\n",
        "data\n"
      ]
    },
    {
      "cell_type": "code",
      "execution_count": 5,
      "id": "0be34b80",
      "metadata": {
        "execution": {
          "iopub.execute_input": "2022-08-29T08:58:16.816152Z",
          "iopub.status.busy": "2022-08-29T08:58:16.815825Z",
          "iopub.status.idle": "2022-08-29T08:58:16.853984Z",
          "shell.execute_reply": "2022-08-29T08:58:16.852889Z"
        },
        "papermill": {
          "duration": 0.04794,
          "end_time": "2022-08-29T08:58:16.856497",
          "exception": false,
          "start_time": "2022-08-29T08:58:16.808557",
          "status": "completed"
        },
        "tags": [],
        "colab": {
          "base_uri": "https://localhost:8080/",
          "height": 424
        },
        "id": "0be34b80",
        "outputId": "fe0e6933-7a58-4f4e-bbbf-853022da9562"
      },
      "outputs": [
        {
          "output_type": "execute_result",
          "data": {
            "text/plain": [
              "                                                        0  target\n",
              "0                    how can I get a deal with the devil        1\n",
              "1       will add more illegal migrant to the USA incre...       1\n",
              "2       be it true that white people disrespect nature...       1\n",
              "3                    how be a depth perception test like        0\n",
              "4       if I  a Christian  we to write ( PBUH ) after ...       0\n",
              "...                                                   ...     ...\n",
              "161614  what be the interior trend I can easily add to...       0\n",
              "161615  do you agree with the way Trump be respond to ...       0\n",
              "161616  what do she study in college  do she participa...       0\n",
              "161617  why be Quora so politicaly bias  even when the...       1\n",
              "161618              what be the mechanism behund bitcoin        0\n",
              "\n",
              "[161619 rows x 2 columns]"
            ],
            "text/html": [
              "\n",
              "  <div id=\"df-2b660ba3-8adf-43e4-b293-0821b81dd77a\">\n",
              "    <div class=\"colab-df-container\">\n",
              "      <div>\n",
              "<style scoped>\n",
              "    .dataframe tbody tr th:only-of-type {\n",
              "        vertical-align: middle;\n",
              "    }\n",
              "\n",
              "    .dataframe tbody tr th {\n",
              "        vertical-align: top;\n",
              "    }\n",
              "\n",
              "    .dataframe thead th {\n",
              "        text-align: right;\n",
              "    }\n",
              "</style>\n",
              "<table border=\"1\" class=\"dataframe\">\n",
              "  <thead>\n",
              "    <tr style=\"text-align: right;\">\n",
              "      <th></th>\n",
              "      <th>0</th>\n",
              "      <th>target</th>\n",
              "    </tr>\n",
              "  </thead>\n",
              "  <tbody>\n",
              "    <tr>\n",
              "      <th>0</th>\n",
              "      <td>how can I get a deal with the devil</td>\n",
              "      <td>1</td>\n",
              "    </tr>\n",
              "    <tr>\n",
              "      <th>1</th>\n",
              "      <td>will add more illegal migrant to the USA incre...</td>\n",
              "      <td>1</td>\n",
              "    </tr>\n",
              "    <tr>\n",
              "      <th>2</th>\n",
              "      <td>be it true that white people disrespect nature...</td>\n",
              "      <td>1</td>\n",
              "    </tr>\n",
              "    <tr>\n",
              "      <th>3</th>\n",
              "      <td>how be a depth perception test like</td>\n",
              "      <td>0</td>\n",
              "    </tr>\n",
              "    <tr>\n",
              "      <th>4</th>\n",
              "      <td>if I  a Christian  we to write ( PBUH ) after ...</td>\n",
              "      <td>0</td>\n",
              "    </tr>\n",
              "    <tr>\n",
              "      <th>...</th>\n",
              "      <td>...</td>\n",
              "      <td>...</td>\n",
              "    </tr>\n",
              "    <tr>\n",
              "      <th>161614</th>\n",
              "      <td>what be the interior trend I can easily add to...</td>\n",
              "      <td>0</td>\n",
              "    </tr>\n",
              "    <tr>\n",
              "      <th>161615</th>\n",
              "      <td>do you agree with the way Trump be respond to ...</td>\n",
              "      <td>0</td>\n",
              "    </tr>\n",
              "    <tr>\n",
              "      <th>161616</th>\n",
              "      <td>what do she study in college  do she participa...</td>\n",
              "      <td>0</td>\n",
              "    </tr>\n",
              "    <tr>\n",
              "      <th>161617</th>\n",
              "      <td>why be Quora so politicaly bias  even when the...</td>\n",
              "      <td>1</td>\n",
              "    </tr>\n",
              "    <tr>\n",
              "      <th>161618</th>\n",
              "      <td>what be the mechanism behund bitcoin</td>\n",
              "      <td>0</td>\n",
              "    </tr>\n",
              "  </tbody>\n",
              "</table>\n",
              "<p>161619 rows × 2 columns</p>\n",
              "</div>\n",
              "      <button class=\"colab-df-convert\" onclick=\"convertToInteractive('df-2b660ba3-8adf-43e4-b293-0821b81dd77a')\"\n",
              "              title=\"Convert this dataframe to an interactive table.\"\n",
              "              style=\"display:none;\">\n",
              "        \n",
              "  <svg xmlns=\"http://www.w3.org/2000/svg\" height=\"24px\"viewBox=\"0 0 24 24\"\n",
              "       width=\"24px\">\n",
              "    <path d=\"M0 0h24v24H0V0z\" fill=\"none\"/>\n",
              "    <path d=\"M18.56 5.44l.94 2.06.94-2.06 2.06-.94-2.06-.94-.94-2.06-.94 2.06-2.06.94zm-11 1L8.5 8.5l.94-2.06 2.06-.94-2.06-.94L8.5 2.5l-.94 2.06-2.06.94zm10 10l.94 2.06.94-2.06 2.06-.94-2.06-.94-.94-2.06-.94 2.06-2.06.94z\"/><path d=\"M17.41 7.96l-1.37-1.37c-.4-.4-.92-.59-1.43-.59-.52 0-1.04.2-1.43.59L10.3 9.45l-7.72 7.72c-.78.78-.78 2.05 0 2.83L4 21.41c.39.39.9.59 1.41.59.51 0 1.02-.2 1.41-.59l7.78-7.78 2.81-2.81c.8-.78.8-2.07 0-2.86zM5.41 20L4 18.59l7.72-7.72 1.47 1.35L5.41 20z\"/>\n",
              "  </svg>\n",
              "      </button>\n",
              "      \n",
              "  <style>\n",
              "    .colab-df-container {\n",
              "      display:flex;\n",
              "      flex-wrap:wrap;\n",
              "      gap: 12px;\n",
              "    }\n",
              "\n",
              "    .colab-df-convert {\n",
              "      background-color: #E8F0FE;\n",
              "      border: none;\n",
              "      border-radius: 50%;\n",
              "      cursor: pointer;\n",
              "      display: none;\n",
              "      fill: #1967D2;\n",
              "      height: 32px;\n",
              "      padding: 0 0 0 0;\n",
              "      width: 32px;\n",
              "    }\n",
              "\n",
              "    .colab-df-convert:hover {\n",
              "      background-color: #E2EBFA;\n",
              "      box-shadow: 0px 1px 2px rgba(60, 64, 67, 0.3), 0px 1px 3px 1px rgba(60, 64, 67, 0.15);\n",
              "      fill: #174EA6;\n",
              "    }\n",
              "\n",
              "    [theme=dark] .colab-df-convert {\n",
              "      background-color: #3B4455;\n",
              "      fill: #D2E3FC;\n",
              "    }\n",
              "\n",
              "    [theme=dark] .colab-df-convert:hover {\n",
              "      background-color: #434B5C;\n",
              "      box-shadow: 0px 1px 3px 1px rgba(0, 0, 0, 0.15);\n",
              "      filter: drop-shadow(0px 1px 2px rgba(0, 0, 0, 0.3));\n",
              "      fill: #FFFFFF;\n",
              "    }\n",
              "  </style>\n",
              "\n",
              "      <script>\n",
              "        const buttonEl =\n",
              "          document.querySelector('#df-2b660ba3-8adf-43e4-b293-0821b81dd77a button.colab-df-convert');\n",
              "        buttonEl.style.display =\n",
              "          google.colab.kernel.accessAllowed ? 'block' : 'none';\n",
              "\n",
              "        async function convertToInteractive(key) {\n",
              "          const element = document.querySelector('#df-2b660ba3-8adf-43e4-b293-0821b81dd77a');\n",
              "          const dataTable =\n",
              "            await google.colab.kernel.invokeFunction('convertToInteractive',\n",
              "                                                     [key], {});\n",
              "          if (!dataTable) return;\n",
              "\n",
              "          const docLinkHtml = 'Like what you see? Visit the ' +\n",
              "            '<a target=\"_blank\" href=https://colab.research.google.com/notebooks/data_table.ipynb>data table notebook</a>'\n",
              "            + ' to learn more about interactive tables.';\n",
              "          element.innerHTML = '';\n",
              "          dataTable['output_type'] = 'display_data';\n",
              "          await google.colab.output.renderOutput(dataTable, element);\n",
              "          const docLink = document.createElement('div');\n",
              "          docLink.innerHTML = docLinkHtml;\n",
              "          element.appendChild(docLink);\n",
              "        }\n",
              "      </script>\n",
              "    </div>\n",
              "  </div>\n",
              "  "
            ]
          },
          "metadata": {},
          "execution_count": 5
        }
      ],
      "source": [
        "data=data.sample(frac=1).reset_index(drop=True)\n",
        "data"
      ]
    },
    {
      "cell_type": "code",
      "execution_count": null,
      "id": "828b6b17",
      "metadata": {
        "execution": {
          "iopub.execute_input": "2022-08-29T08:58:16.870800Z",
          "iopub.status.busy": "2022-08-29T08:58:16.869750Z",
          "iopub.status.idle": "2022-08-29T08:58:16.874723Z",
          "shell.execute_reply": "2022-08-29T08:58:16.873677Z"
        },
        "papermill": {
          "duration": 0.014553,
          "end_time": "2022-08-29T08:58:16.877083",
          "exception": false,
          "start_time": "2022-08-29T08:58:16.862530",
          "status": "completed"
        },
        "tags": [],
        "id": "828b6b17"
      },
      "outputs": [],
      "source": [
        "#data.to_csv(\"questions_shuffled_lemmatized.csv\",index=False)"
      ]
    },
    {
      "cell_type": "code",
      "source": [
        "data=data.dropna()"
      ],
      "metadata": {
        "id": "cD3DGzxbzb86"
      },
      "id": "cD3DGzxbzb86",
      "execution_count": 6,
      "outputs": []
    },
    {
      "cell_type": "markdown",
      "id": "7d578c5d",
      "metadata": {
        "papermill": {
          "duration": 0.005747,
          "end_time": "2022-08-29T08:58:16.888686",
          "exception": false,
          "start_time": "2022-08-29T08:58:16.882939",
          "status": "completed"
        },
        "tags": [],
        "id": "7d578c5d"
      },
      "source": [
        "# Data cleaning(removing ?.!*@#%*_+}{ etc..)"
      ]
    },
    {
      "cell_type": "code",
      "execution_count": 7,
      "id": "790e5972",
      "metadata": {
        "execution": {
          "iopub.execute_input": "2022-08-29T08:58:16.902408Z",
          "iopub.status.busy": "2022-08-29T08:58:16.901725Z",
          "iopub.status.idle": "2022-08-29T08:58:16.907506Z",
          "shell.execute_reply": "2022-08-29T08:58:16.906653Z"
        },
        "papermill": {
          "duration": 0.014724,
          "end_time": "2022-08-29T08:58:16.909499",
          "exception": false,
          "start_time": "2022-08-29T08:58:16.894775",
          "status": "completed"
        },
        "tags": [],
        "id": "790e5972"
      },
      "outputs": [],
      "source": [
        "import re\n",
        "\n",
        "def clean_text(series):\n",
        "    res=[]\n",
        "    for row in series:\n",
        "        text = re.sub(r'[^(a-zA-Z)\\s]','', row)\n",
        "        res.append(text)\n",
        "    res=pd.Series(res)\n",
        "    return res"
      ]
    },
    {
      "cell_type": "code",
      "execution_count": 8,
      "id": "feb566e4",
      "metadata": {
        "execution": {
          "iopub.execute_input": "2022-08-29T08:58:16.924655Z",
          "iopub.status.busy": "2022-08-29T08:58:16.923699Z",
          "iopub.status.idle": "2022-08-29T08:58:17.341438Z",
          "shell.execute_reply": "2022-08-29T08:58:17.340397Z"
        },
        "papermill": {
          "duration": 0.428151,
          "end_time": "2022-08-29T08:58:17.343824",
          "exception": false,
          "start_time": "2022-08-29T08:58:16.915673",
          "status": "completed"
        },
        "tags": [],
        "id": "feb566e4"
      },
      "outputs": [],
      "source": [
        "cleaned_x=clean_text(data[\"0\"])"
      ]
    },
    {
      "cell_type": "code",
      "execution_count": 9,
      "id": "705f599a",
      "metadata": {
        "execution": {
          "iopub.execute_input": "2022-08-29T08:58:17.359864Z",
          "iopub.status.busy": "2022-08-29T08:58:17.357921Z",
          "iopub.status.idle": "2022-08-29T08:58:17.368479Z",
          "shell.execute_reply": "2022-08-29T08:58:17.367361Z"
        },
        "papermill": {
          "duration": 0.020803,
          "end_time": "2022-08-29T08:58:17.371330",
          "exception": false,
          "start_time": "2022-08-29T08:58:17.350527",
          "status": "completed"
        },
        "tags": [],
        "colab": {
          "base_uri": "https://localhost:8080/"
        },
        "id": "705f599a",
        "outputId": "25186db9-ad35-4db1-a8f5-5ebb20fbf7f5"
      },
      "outputs": [
        {
          "output_type": "execute_result",
          "data": {
            "text/plain": [
              "0                      how can I get a deal with the devil \n",
              "1         will add more illegal migrant to the USA incre...\n",
              "2         be it true that white people disrespect nature...\n",
              "3                      how be a depth perception test like \n",
              "4         if I  a Christian  we to write ( PBUH ) after ...\n",
              "                                ...                        \n",
              "161614    what be the interior trend I can easily add to...\n",
              "161615    do you agree with the way Trump be respond to ...\n",
              "161616    what do she study in college  do she participa...\n",
              "161617    why be Quora so politicaly bias  even when the...\n",
              "161618                what be the mechanism behund bitcoin \n",
              "Length: 161619, dtype: object"
            ]
          },
          "metadata": {},
          "execution_count": 9
        }
      ],
      "source": [
        "cleaned_x"
      ]
    },
    {
      "cell_type": "code",
      "execution_count": 10,
      "id": "5baad04b",
      "metadata": {
        "execution": {
          "iopub.execute_input": "2022-08-29T08:58:17.386394Z",
          "iopub.status.busy": "2022-08-29T08:58:17.385365Z",
          "iopub.status.idle": "2022-08-29T08:58:17.393766Z",
          "shell.execute_reply": "2022-08-29T08:58:17.392629Z"
        },
        "papermill": {
          "duration": 0.018569,
          "end_time": "2022-08-29T08:58:17.396437",
          "exception": false,
          "start_time": "2022-08-29T08:58:17.377868",
          "status": "completed"
        },
        "tags": [],
        "colab": {
          "base_uri": "https://localhost:8080/"
        },
        "id": "5baad04b",
        "outputId": "494e6bc3-674e-4ad2-c967-d88d2c3f3e89"
      },
      "outputs": [
        {
          "output_type": "execute_result",
          "data": {
            "text/plain": [
              "0         1\n",
              "1         1\n",
              "2         1\n",
              "3         0\n",
              "4         0\n",
              "         ..\n",
              "161614    0\n",
              "161615    0\n",
              "161616    0\n",
              "161617    1\n",
              "161618    0\n",
              "Name: target, Length: 161619, dtype: int64"
            ]
          },
          "metadata": {},
          "execution_count": 10
        }
      ],
      "source": [
        "y=data[\"target\"]\n",
        "y"
      ]
    },
    {
      "cell_type": "code",
      "execution_count": 11,
      "id": "00fbc540",
      "metadata": {
        "execution": {
          "iopub.execute_input": "2022-08-29T08:58:17.410630Z",
          "iopub.status.busy": "2022-08-29T08:58:17.410324Z",
          "iopub.status.idle": "2022-08-29T08:58:22.867416Z",
          "shell.execute_reply": "2022-08-29T08:58:22.864400Z"
        },
        "papermill": {
          "duration": 5.468115,
          "end_time": "2022-08-29T08:58:22.870967",
          "exception": false,
          "start_time": "2022-08-29T08:58:17.402852",
          "status": "completed"
        },
        "tags": [],
        "id": "00fbc540"
      },
      "outputs": [],
      "source": [
        "import tensorflow as tf\n",
        "from tensorflow.keras.preprocessing.text import one_hot\n",
        "from tensorflow.keras.preprocessing.sequence import pad_sequences\n",
        "from tensorflow.keras.models import Sequential\n",
        "from tensorflow.keras.layers import Dense\n",
        "from tensorflow.keras.layers import Flatten,Dropout\n",
        "from tensorflow.keras.layers import Embedding,Bidirectional,LSTM,GRU"
      ]
    },
    {
      "cell_type": "markdown",
      "id": "0f0445dc",
      "metadata": {
        "papermill": {
          "duration": 0.007175,
          "end_time": "2022-08-29T08:58:22.893451",
          "exception": false,
          "start_time": "2022-08-29T08:58:22.886276",
          "status": "completed"
        },
        "tags": [],
        "id": "0f0445dc"
      },
      "source": [
        "# **One Hot encoding**"
      ]
    },
    {
      "cell_type": "code",
      "execution_count": 12,
      "id": "92394e6d",
      "metadata": {
        "execution": {
          "iopub.execute_input": "2022-08-29T08:58:22.923514Z",
          "iopub.status.busy": "2022-08-29T08:58:22.922738Z",
          "iopub.status.idle": "2022-08-29T08:58:26.103135Z",
          "shell.execute_reply": "2022-08-29T08:58:26.102078Z"
        },
        "papermill": {
          "duration": 3.197885,
          "end_time": "2022-08-29T08:58:26.105614",
          "exception": false,
          "start_time": "2022-08-29T08:58:22.907729",
          "status": "completed"
        },
        "tags": [],
        "id": "92394e6d"
      },
      "outputs": [],
      "source": [
        "vocab_size=10000\n",
        "encoded_x = [one_hot(row, vocab_size) for row in cleaned_x]\n",
        "encoded_x=pd.Series(encoded_x)"
      ]
    },
    {
      "cell_type": "code",
      "execution_count": 13,
      "id": "ea36a5e1",
      "metadata": {
        "execution": {
          "iopub.execute_input": "2022-08-29T08:58:26.121224Z",
          "iopub.status.busy": "2022-08-29T08:58:26.119526Z",
          "iopub.status.idle": "2022-08-29T08:58:26.128887Z",
          "shell.execute_reply": "2022-08-29T08:58:26.128017Z"
        },
        "papermill": {
          "duration": 0.018935,
          "end_time": "2022-08-29T08:58:26.131122",
          "exception": false,
          "start_time": "2022-08-29T08:58:26.112187",
          "status": "completed"
        },
        "tags": [],
        "colab": {
          "base_uri": "https://localhost:8080/"
        },
        "id": "ea36a5e1",
        "outputId": "06a55130-d777-4037-d48e-af3a5afd49a5"
      },
      "outputs": [
        {
          "output_type": "execute_result",
          "data": {
            "text/plain": [
              "0                 how can I get a deal with the devil \n",
              "1    will add more illegal migrant to the USA incre...\n",
              "2    be it true that white people disrespect nature...\n",
              "3                 how be a depth perception test like \n",
              "4    if I  a Christian  we to write ( PBUH ) after ...\n",
              "dtype: object"
            ]
          },
          "metadata": {},
          "execution_count": 13
        }
      ],
      "source": [
        "cleaned_x[:5]"
      ]
    },
    {
      "cell_type": "code",
      "execution_count": 14,
      "id": "63349265",
      "metadata": {
        "execution": {
          "iopub.execute_input": "2022-08-29T08:58:26.144638Z",
          "iopub.status.busy": "2022-08-29T08:58:26.144352Z",
          "iopub.status.idle": "2022-08-29T08:58:26.153485Z",
          "shell.execute_reply": "2022-08-29T08:58:26.152488Z"
        },
        "papermill": {
          "duration": 0.018412,
          "end_time": "2022-08-29T08:58:26.155619",
          "exception": false,
          "start_time": "2022-08-29T08:58:26.137207",
          "status": "completed"
        },
        "tags": [],
        "colab": {
          "base_uri": "https://localhost:8080/"
        },
        "id": "63349265",
        "outputId": "486082de-ab33-40cb-a360-00acd29f04f7"
      },
      "outputs": [
        {
          "output_type": "execute_result",
          "data": {
            "text/plain": [
              "0    [2770, 7532, 3930, 4249, 3765, 2287, 758, 6017...\n",
              "1    [6230, 4361, 610, 9520, 9686, 4236, 6017, 2988...\n",
              "2    [3741, 3147, 3308, 3130, 6869, 3956, 7791, 472...\n",
              "3            [2770, 3741, 3765, 1261, 224, 7888, 4794]\n",
              "4    [688, 3930, 3765, 6966, 8005, 4236, 9539, 1885...\n",
              "dtype: object"
            ]
          },
          "metadata": {},
          "execution_count": 14
        }
      ],
      "source": [
        "encoded_x[:5]"
      ]
    },
    {
      "cell_type": "markdown",
      "id": "b31c19b4",
      "metadata": {
        "papermill": {
          "duration": 0.006005,
          "end_time": "2022-08-29T08:58:26.167792",
          "exception": false,
          "start_time": "2022-08-29T08:58:26.161787",
          "status": "completed"
        },
        "tags": [],
        "id": "b31c19b4"
      },
      "source": [
        "# **Padding the Sequence**"
      ]
    },
    {
      "cell_type": "code",
      "execution_count": 15,
      "id": "070738c1",
      "metadata": {
        "execution": {
          "iopub.execute_input": "2022-08-29T08:58:26.181843Z",
          "iopub.status.busy": "2022-08-29T08:58:26.181043Z",
          "iopub.status.idle": "2022-08-29T08:58:26.663530Z",
          "shell.execute_reply": "2022-08-29T08:58:26.662516Z"
        },
        "papermill": {
          "duration": 0.492094,
          "end_time": "2022-08-29T08:58:26.665979",
          "exception": false,
          "start_time": "2022-08-29T08:58:26.173885",
          "status": "completed"
        },
        "tags": [],
        "id": "070738c1"
      },
      "outputs": [],
      "source": [
        "maximum_length=100\n",
        "padded_x=pad_sequences(encoded_x,maxlen=maximum_length,padding='pre')"
      ]
    },
    {
      "cell_type": "code",
      "execution_count": 16,
      "id": "39c1b2f0",
      "metadata": {
        "execution": {
          "iopub.execute_input": "2022-08-29T08:58:26.680702Z",
          "iopub.status.busy": "2022-08-29T08:58:26.679845Z",
          "iopub.status.idle": "2022-08-29T08:58:26.689179Z",
          "shell.execute_reply": "2022-08-29T08:58:26.688273Z"
        },
        "papermill": {
          "duration": 0.018603,
          "end_time": "2022-08-29T08:58:26.691180",
          "exception": false,
          "start_time": "2022-08-29T08:58:26.672577",
          "status": "completed"
        },
        "tags": [],
        "colab": {
          "base_uri": "https://localhost:8080/"
        },
        "id": "39c1b2f0",
        "outputId": "e3ac9f53-bbd4-44ed-e4c1-ebd6616b2fe5"
      },
      "outputs": [
        {
          "output_type": "execute_result",
          "data": {
            "text/plain": [
              "array([[   0,    0,    0, ...,  758, 6017, 9253],\n",
              "       [   0,    0,    0, ..., 6653, 2044, 4727],\n",
              "       [   0,    0,    0, ..., 6017, 2312, 2928],\n",
              "       ...,\n",
              "       [   0,    0,    0, ..., 9964, 3765,  426],\n",
              "       [   0,    0,    0, ..., 6653, 9800, 3053],\n",
              "       [   0,    0,    0, ..., 1374, 9585, 9554]], dtype=int32)"
            ]
          },
          "metadata": {},
          "execution_count": 16
        }
      ],
      "source": [
        "padded_x"
      ]
    },
    {
      "cell_type": "code",
      "execution_count": 17,
      "id": "bd01efdb",
      "metadata": {
        "execution": {
          "iopub.execute_input": "2022-08-29T08:58:26.705630Z",
          "iopub.status.busy": "2022-08-29T08:58:26.704675Z",
          "iopub.status.idle": "2022-08-29T08:58:27.312576Z",
          "shell.execute_reply": "2022-08-29T08:58:27.311439Z"
        },
        "papermill": {
          "duration": 0.618821,
          "end_time": "2022-08-29T08:58:27.316151",
          "exception": false,
          "start_time": "2022-08-29T08:58:26.697330",
          "status": "completed"
        },
        "tags": [],
        "colab": {
          "base_uri": "https://localhost:8080/"
        },
        "id": "bd01efdb",
        "outputId": "c0b9ccab-e369-451b-a54d-0ad2cc6e7fed"
      },
      "outputs": [
        {
          "output_type": "execute_result",
          "data": {
            "text/plain": [
              "((121214, 100), (121214,))"
            ]
          },
          "metadata": {},
          "execution_count": 17
        }
      ],
      "source": [
        "from sklearn.model_selection import train_test_split\n",
        "xtrain,xtest,ytrain,ytest=train_test_split(padded_x,y,random_state=42)\n",
        "xtrain.shape,ytrain.shape"
      ]
    },
    {
      "cell_type": "markdown",
      "id": "32c7f61b",
      "metadata": {
        "papermill": {
          "duration": 0.006714,
          "end_time": "2022-08-29T08:58:27.333731",
          "exception": false,
          "start_time": "2022-08-29T08:58:27.327017",
          "status": "completed"
        },
        "tags": [],
        "id": "32c7f61b"
      },
      "source": [
        "# **BIDIRECTIONAL LSTM MODEL**"
      ]
    },
    {
      "cell_type": "code",
      "execution_count": 24,
      "id": "d952fc6d",
      "metadata": {
        "execution": {
          "iopub.execute_input": "2022-08-29T08:58:27.347837Z",
          "iopub.status.busy": "2022-08-29T08:58:27.347520Z",
          "iopub.status.idle": "2022-08-29T08:58:30.809773Z",
          "shell.execute_reply": "2022-08-29T08:58:30.808672Z"
        },
        "papermill": {
          "duration": 3.472062,
          "end_time": "2022-08-29T08:58:30.812330",
          "exception": false,
          "start_time": "2022-08-29T08:58:27.340268",
          "status": "completed"
        },
        "tags": [],
        "id": "d952fc6d"
      },
      "outputs": [],
      "source": [
        "model=Sequential([\n",
        "    Embedding(vocab_size,50,input_length=maximum_length),\n",
        "    Bidirectional(LSTM(128,return_sequences=True)),\n",
        "    Dropout(0.2),\n",
        "    Bidirectional(LSTM(64,return_sequences=True)),\n",
        "    Dropout(0.2),\n",
        "    Bidirectional(LSTM(32)),\n",
        "    Dense(50,activation=\"tanh\"),\n",
        "    Dropout(0.2),\n",
        "    Dense(10,activation=\"relu\"),\n",
        "    Dropout(0.2),\n",
        "    Dense(1,activation=\"sigmoid\")\n",
        "])"
      ]
    },
    {
      "cell_type": "code",
      "source": [
        "METRICS = [\n",
        "      tf.keras.metrics.BinaryAccuracy(name='accuracy'),\n",
        "      tf.keras.metrics.Precision(name='precision'),\n",
        "      tf.keras.metrics.Recall(name='recall')\n",
        "]\n",
        "\n",
        "model.compile(optimizer=\"adam\",\n",
        "             loss=\"binary_crossentropy\",\n",
        "             metrics=METRICS)\n",
        "\n",
        "\n",
        "model.summary()"
      ],
      "metadata": {
        "colab": {
          "base_uri": "https://localhost:8080/"
        },
        "id": "3pbSXxeq0Y4P",
        "outputId": "02bf69bb-7fe4-4965-aa38-2c3a35b65fdd"
      },
      "id": "3pbSXxeq0Y4P",
      "execution_count": 25,
      "outputs": [
        {
          "output_type": "stream",
          "name": "stdout",
          "text": [
            "Model: \"sequential_3\"\n",
            "_________________________________________________________________\n",
            " Layer (type)                Output Shape              Param #   \n",
            "=================================================================\n",
            " embedding_3 (Embedding)     (None, 100, 50)           500000    \n",
            "                                                                 \n",
            " bidirectional_8 (Bidirectio  (None, 100, 256)         183296    \n",
            " nal)                                                            \n",
            "                                                                 \n",
            " dropout_9 (Dropout)         (None, 100, 256)          0         \n",
            "                                                                 \n",
            " bidirectional_9 (Bidirectio  (None, 100, 128)         164352    \n",
            " nal)                                                            \n",
            "                                                                 \n",
            " dropout_10 (Dropout)        (None, 100, 128)          0         \n",
            "                                                                 \n",
            " bidirectional_10 (Bidirecti  (None, 64)               41216     \n",
            " onal)                                                           \n",
            "                                                                 \n",
            " dense_6 (Dense)             (None, 50)                3250      \n",
            "                                                                 \n",
            " dropout_11 (Dropout)        (None, 50)                0         \n",
            "                                                                 \n",
            " dense_7 (Dense)             (None, 10)                510       \n",
            "                                                                 \n",
            " dropout_12 (Dropout)        (None, 10)                0         \n",
            "                                                                 \n",
            " dense_8 (Dense)             (None, 1)                 11        \n",
            "                                                                 \n",
            "=================================================================\n",
            "Total params: 892,635\n",
            "Trainable params: 892,635\n",
            "Non-trainable params: 0\n",
            "_________________________________________________________________\n"
          ]
        }
      ]
    },
    {
      "cell_type": "code",
      "execution_count": 26,
      "id": "680d9dea",
      "metadata": {
        "execution": {
          "iopub.execute_input": "2022-08-29T08:58:30.827634Z",
          "iopub.status.busy": "2022-08-29T08:58:30.827332Z",
          "iopub.status.idle": "2022-08-29T09:05:42.841951Z",
          "shell.execute_reply": "2022-08-29T09:05:42.840977Z"
        },
        "papermill": {
          "duration": 432.360401,
          "end_time": "2022-08-29T09:05:43.179563",
          "exception": false,
          "start_time": "2022-08-29T08:58:30.819162",
          "status": "completed"
        },
        "tags": [],
        "colab": {
          "base_uri": "https://localhost:8080/"
        },
        "id": "680d9dea",
        "outputId": "c2e4f952-93d7-4f72-c15c-eef6cb139797"
      },
      "outputs": [
        {
          "output_type": "stream",
          "name": "stdout",
          "text": [
            "Epoch 1/5\n",
            "3788/3788 [==============================] - 156s 39ms/step - loss: 0.3466 - accuracy: 0.8616 - precision: 0.8531 - recall: 0.8737 - val_loss: 0.3061 - val_accuracy: 0.8788 - val_precision: 0.8656 - val_recall: 0.8970\n",
            "Epoch 2/5\n",
            "3788/3788 [==============================] - 146s 39ms/step - loss: 0.2911 - accuracy: 0.8886 - precision: 0.8769 - recall: 0.9041 - val_loss: 0.3086 - val_accuracy: 0.8772 - val_precision: 0.8564 - val_recall: 0.9066\n",
            "Epoch 3/5\n",
            "3788/3788 [==============================] - 144s 38ms/step - loss: 0.2622 - accuracy: 0.8996 - precision: 0.8864 - recall: 0.9166 - val_loss: 0.3487 - val_accuracy: 0.8721 - val_precision: 0.8910 - val_recall: 0.8480\n",
            "Epoch 4/5\n",
            "3788/3788 [==============================] - 142s 38ms/step - loss: 0.2332 - accuracy: 0.9109 - precision: 0.8986 - recall: 0.9264 - val_loss: 0.3278 - val_accuracy: 0.8761 - val_precision: 0.8710 - val_recall: 0.8831\n",
            "Epoch 5/5\n",
            "3788/3788 [==============================] - 142s 37ms/step - loss: 0.2049 - accuracy: 0.9221 - precision: 0.9103 - recall: 0.9365 - val_loss: 0.3648 - val_accuracy: 0.8716 - val_precision: 0.8552 - val_recall: 0.8948\n"
          ]
        },
        {
          "output_type": "execute_result",
          "data": {
            "text/plain": [
              "<keras.callbacks.History at 0x7f5a21aad410>"
            ]
          },
          "metadata": {},
          "execution_count": 26
        }
      ],
      "source": [
        "model.fit(xtrain,ytrain,epochs=5,validation_data=(xtest,ytest))"
      ]
    },
    {
      "cell_type": "code",
      "execution_count": 27,
      "id": "b24c3418",
      "metadata": {
        "execution": {
          "iopub.execute_input": "2022-08-29T09:05:43.858525Z",
          "iopub.status.busy": "2022-08-29T09:05:43.858173Z",
          "iopub.status.idle": "2022-08-29T09:05:55.050006Z",
          "shell.execute_reply": "2022-08-29T09:05:55.049125Z"
        },
        "papermill": {
          "duration": 11.534433,
          "end_time": "2022-08-29T09:05:55.052094",
          "exception": false,
          "start_time": "2022-08-29T09:05:43.517661",
          "status": "completed"
        },
        "tags": [],
        "colab": {
          "base_uri": "https://localhost:8080/"
        },
        "id": "b24c3418",
        "outputId": "35290c48-885c-4f27-817f-ea2357a206a5"
      },
      "outputs": [
        {
          "output_type": "stream",
          "name": "stdout",
          "text": [
            "1263/1263 [==============================] - 20s 16ms/step - loss: 0.3648 - accuracy: 0.8716 - precision: 0.8552 - recall: 0.8948\n"
          ]
        },
        {
          "output_type": "execute_result",
          "data": {
            "text/plain": [
              "[0.36476069688796997,\n",
              " 0.8715752959251404,\n",
              " 0.8552109003067017,\n",
              " 0.8947706818580627]"
            ]
          },
          "metadata": {},
          "execution_count": 27
        }
      ],
      "source": [
        "model.evaluate(xtest,ytest)"
      ]
    },
    {
      "cell_type": "code",
      "execution_count": null,
      "id": "238f8804",
      "metadata": {
        "execution": {
          "iopub.execute_input": "2022-08-29T09:05:55.795478Z",
          "iopub.status.busy": "2022-08-29T09:05:55.794930Z",
          "iopub.status.idle": "2022-08-29T09:06:16.747414Z",
          "shell.execute_reply": "2022-08-29T09:06:16.746400Z"
        },
        "papermill": {
          "duration": 21.359824,
          "end_time": "2022-08-29T09:06:16.759874",
          "exception": false,
          "start_time": "2022-08-29T09:05:55.400050",
          "status": "completed"
        },
        "tags": [],
        "id": "238f8804"
      },
      "outputs": [],
      "source": [
        "model.save(\"/content/drive/MyDrive/dataset-quora/BidirectionalLSTM/\")"
      ]
    },
    {
      "cell_type": "markdown",
      "id": "153b989b",
      "metadata": {
        "papermill": {
          "duration": 0.35737,
          "end_time": "2022-08-29T09:06:17.464112",
          "exception": false,
          "start_time": "2022-08-29T09:06:17.106742",
          "status": "completed"
        },
        "tags": [],
        "id": "153b989b"
      },
      "source": [
        "<a href=\"./BidirectionalLSTM\"> Download File </a>"
      ]
    },
    {
      "cell_type": "markdown",
      "source": [
        "# **EVALUATION**"
      ],
      "metadata": {
        "id": "XE3IKjy_-FhG"
      },
      "id": "XE3IKjy_-FhG"
    },
    {
      "cell_type": "code",
      "source": [
        "from sklearn.metrics import confusion_matrix,classification_report\n",
        "import seaborn as sns\n",
        "import matplotlib.pyplot as plt"
      ],
      "metadata": {
        "id": "1OYmmi-C7G06"
      },
      "id": "1OYmmi-C7G06",
      "execution_count": 53,
      "outputs": []
    },
    {
      "cell_type": "code",
      "source": [
        "y_pred=model.predict(xtest)"
      ],
      "metadata": {
        "id": "3GGxpXCs9Opy"
      },
      "id": "3GGxpXCs9Opy",
      "execution_count": 56,
      "outputs": []
    },
    {
      "cell_type": "code",
      "source": [
        "y_p=[]\n",
        "for i in y_pred:\n",
        "    if(i>=0.5):\n",
        "        y_p.append(1)\n",
        "    else:\n",
        "        y_p.append(0)"
      ],
      "metadata": {
        "id": "a3gp6GMD9SwS"
      },
      "id": "a3gp6GMD9SwS",
      "execution_count": 57,
      "outputs": []
    },
    {
      "cell_type": "code",
      "source": [
        "confusion=confusion_matrix(ytest,y_p)"
      ],
      "metadata": {
        "id": "jq4cOk4Z9c2K"
      },
      "id": "jq4cOk4Z9c2K",
      "execution_count": 59,
      "outputs": []
    },
    {
      "cell_type": "markdown",
      "source": [
        "# **CONFUSION MATRIX**"
      ],
      "metadata": {
        "id": "mL6UxwHw-V4h"
      },
      "id": "mL6UxwHw-V4h"
    },
    {
      "cell_type": "code",
      "source": [
        "plt.figure(figsize = (10,7))\n",
        "sns.heatmap(confusion, annot=True,fmt='g',cmap='Blues')\n",
        "plt.ylabel(\"actual\")\n",
        "plt.xlabel('predicted');"
      ],
      "metadata": {
        "colab": {
          "base_uri": "https://localhost:8080/",
          "height": 444
        },
        "id": "qvTpc8j09f4i",
        "outputId": "c46ba79d-6b5a-44fb-ae92-ae7324b2d8b6"
      },
      "id": "qvTpc8j09f4i",
      "execution_count": 60,
      "outputs": [
        {
          "output_type": "display_data",
          "data": {
            "text/plain": [
              "<Figure size 720x504 with 2 Axes>"
            ],
            "image/png": "[encoded data removed]"
          },
          "metadata": {
            "needs_background": "light"
          }
        }
      ]
    },
    {
      "cell_type": "code",
      "source": [
        "print(\"     Classification report of Word2vec + LSTM model\\n\")\n",
        "print(classification_report(ytest,y_p))"
      ],
      "metadata": {
        "colab": {
          "base_uri": "https://localhost:8080/"
        },
        "id": "wAX79Xn-9l3S",
        "outputId": "399d7df3-2b79-4709-d185-b611cf1deb13"
      },
      "id": "wAX79Xn-9l3S",
      "execution_count": 62,
      "outputs": [
        {
          "output_type": "stream",
          "name": "stdout",
          "text": [
            "     Classification report of Word2vec + LSTM model\n",
            "\n",
            "              precision    recall  f1-score   support\n",
            "\n",
            "           0       0.89      0.85      0.87     20192\n",
            "           1       0.86      0.89      0.87     20213\n",
            "\n",
            "    accuracy                           0.87     40405\n",
            "   macro avg       0.87      0.87      0.87     40405\n",
            "weighted avg       0.87      0.87      0.87     40405\n",
            "\n"
          ]
        }
      ]
    },
    {
      "cell_type": "markdown",
      "source": [
        "# **PREDICTION FUNCTION**"
      ],
      "metadata": {
        "id": "6wRvdZ0Q-bjs"
      },
      "id": "6wRvdZ0Q-bjs"
    },
    {
      "cell_type": "code",
      "source": [
        "def Predict(stre):\n",
        "  stre=one_hot(stre,vocab_size)\n",
        "  X=[]\n",
        "  X.append(stre)\n",
        "  stre=pad_sequences(X,100)\n",
        "  y=model.predict(stre)\n",
        "  if y >= .5:\n",
        "      print(\"insincere\")\n",
        "  else:\n",
        "      print(\"sincere\")\n",
        "  print(y)"
      ],
      "metadata": {
        "id": "jO2CIj559thc"
      },
      "id": "jO2CIj559thc",
      "execution_count": 63,
      "outputs": []
    },
    {
      "cell_type": "code",
      "source": [
        "q=input(\"Enter your Question :\")\n",
        "Predict(q)"
      ],
      "metadata": {
        "id": "32W-_-pr97E6"
      },
      "id": "32W-_-pr97E6",
      "execution_count": null,
      "outputs": []
    }
  ],
  "metadata": {
    "kernelspec": {
      "display_name": "Python 3",
      "language": "python",
      "name": "python3"
    },
    "language_info": {
      "codemirror_mode": {
        "name": "ipython",
        "version": 3
      },
      "file_extension": ".py",
      "mimetype": "text/x-python",
      "name": "python",
      "nbconvert_exporter": "python",
      "pygments_lexer": "ipython3",
      "version": "3.7.12"
    },
    "papermill": {
      "default_parameters": {},
      "duration": 496.653244,
      "end_time": "2022-08-29T09:06:25.251844",
      "environment_variables": {},
      "exception": null,
      "input_path": "__notebook__.ipynb",
      "output_path": "__notebook__.ipynb",
      "parameters": {},
      "start_time": "2022-08-29T08:58:08.598600",
      "version": "2.3.4"
    },
    "colab": {
      "provenance": [],
      "include_colab_link": true
    },
    "accelerator": "GPU",
    "gpuClass": "standard"
  },
  "nbformat": 4,
  "nbformat_minor": 5
}