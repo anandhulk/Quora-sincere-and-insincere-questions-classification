{
  "cells": [
    {
      "cell_type": "markdown",
      "metadata": {
        "id": "view-in-github",
        "colab_type": "text"
      },
      "source": [
        "<a href=\"https://colab.research.google.com/github/anandhulk/Quora-sincere-and-insincere-questions-classification/blob/main/Bidirectional_moldel.ipynb\" target=\"_parent\"><img src=\"https://colab.research.google.com/assets/colab-badge.svg\" alt=\"Open In Colab\"/></a>"
      ]
    },
    {
      "cell_type": "code",
      "execution_count": 1,
      "id": "81e177b6",
      "metadata": {
        "_cell_guid": "b1076dfc-b9ad-4769-8c92-a6c4dae69d19",
        "_uuid": "8f2839f25d086af736a60e9eeb907d3b93b6e0e5",
        "execution": {
          "iopub.execute_input": "2022-08-29T08:58:16.408199Z",
          "iopub.status.busy": "2022-08-29T08:58:16.407058Z",
          "iopub.status.idle": "2022-08-29T08:58:16.424710Z",
          "shell.execute_reply": "2022-08-29T08:58:16.423608Z"
        },
        "papermill": {
          "duration": 0.029449,
          "end_time": "2022-08-29T08:58:16.426844",
          "exception": false,
          "start_time": "2022-08-29T08:58:16.397395",
          "status": "completed"
        },
        "tags": [],
        "id": "81e177b6"
      },
      "outputs": [],
      "source": [
        "import numpy as np \n",
        "import pandas as pd \n",
        "from sklearn.utils import shuffle\n",
        "import spacy\n",
        "nlp = spacy.load(\"en_core_web_sm\")\n",
        "import pickle\n"
      ]
    },
    {
      "cell_type": "code",
      "execution_count": 2,
      "id": "68fbf11e",
      "metadata": {
        "execution": {
          "iopub.execute_input": "2022-08-29T08:58:16.439335Z",
          "iopub.status.busy": "2022-08-29T08:58:16.439046Z",
          "iopub.status.idle": "2022-08-29T08:58:16.444592Z",
          "shell.execute_reply": "2022-08-29T08:58:16.443722Z"
        },
        "papermill": {
          "duration": 0.013894,
          "end_time": "2022-08-29T08:58:16.446459",
          "exception": false,
          "start_time": "2022-08-29T08:58:16.432565",
          "status": "completed"
        },
        "tags": [],
        "id": "68fbf11e"
      },
      "outputs": [],
      "source": [
        "import warnings\n",
        "\n",
        "def fxn():\n",
        "    warnings.warn(\"deprecated\", DeprecationWarning)\n",
        "\n",
        "with warnings.catch_warnings():\n",
        "    warnings.simplefilter(\"ignore\")\n",
        "    fxn()"
      ]
    },
    {
      "cell_type": "code",
      "source": [
        "from google.colab import drive\n",
        "drive.mount('/content/drive')"
      ],
      "metadata": {
        "colab": {
          "base_uri": "https://localhost:8080/"
        },
        "id": "hGHQj9OQy5cN",
        "outputId": "78b8d10e-52b5-459c-991e-a388dfafc5d2"
      },
      "id": "hGHQj9OQy5cN",
      "execution_count": 3,
      "outputs": [
        {
          "output_type": "stream",
          "name": "stdout",
          "text": [
            "Mounted at /content/drive\n"
          ]
        }
      ]
    },
    {
      "cell_type": "code",
      "execution_count": 4,
      "id": "5426a7c0",
      "metadata": {
        "execution": {
          "iopub.execute_input": "2022-08-29T08:58:16.459778Z",
          "iopub.status.busy": "2022-08-29T08:58:16.458204Z",
          "iopub.status.idle": "2022-08-29T08:58:16.800009Z",
          "shell.execute_reply": "2022-08-29T08:58:16.798965Z"
        },
        "papermill": {
          "duration": 0.350278,
          "end_time": "2022-08-29T08:58:16.802151",
          "exception": false,
          "start_time": "2022-08-29T08:58:16.451873",
          "status": "completed"
        },
        "tags": [],
        "colab": {
          "base_uri": "https://localhost:8080/",
          "height": 424
        },
        "id": "5426a7c0",
        "outputId": "2ecbb56d-7c17-4eff-c65a-0c47c13537cf"
      },
      "outputs": [
        {
          "output_type": "execute_result",
          "data": {
            "text/plain": [
              "                         qid  \\\n",
              "0       15da7c4e27ac869f4aa7   \n",
              "1       77d18c4e4cb6daa80a8b   \n",
              "2       07bff8b96d97de055509   \n",
              "3       cad3d16d35695a8fcea5   \n",
              "4       a7938e05bdbb8e3e3caa   \n",
              "...                      ...   \n",
              "181515  fffeba722d9b371bd1b9   \n",
              "181516  fffee269360dd0d3947a   \n",
              "181517  ffff0e4ea1bb6e16feec   \n",
              "181518  ffff3f0a2449ffe4b9ff   \n",
              "181519  ffffa5b0fa76431c063f   \n",
              "\n",
              "                                            question_text  target  \n",
              "0       Is GRE necessary for McGill Univ (MS Data Scie...       0  \n",
              "1       My friend has been being hit and has been rape...       0  \n",
              "2       Which one is better software engineering or IT...       0  \n",
              "3                    What does the U symbol on food mean?       0  \n",
              "4       Which book should read for general engineering...       0  \n",
              "...                                                   ...     ...  \n",
              "181515  How is it to have intimate relation with your ...       1  \n",
              "181516  Why is it when singers have lyrics about voice...       1  \n",
              "181517                  Do pakis smell of curry and shit?       1  \n",
              "181518  Isn't Trump right after all? Why should the US...       1  \n",
              "181519                Are you ashamed of being an Indian?       1  \n",
              "\n",
              "[181520 rows x 3 columns]"
            ],
            "text/html": [
              "\n",
              "  <div id=\"df-d2fe21a9-d165-4b3d-9286-3b7a36e1820e\">\n",
              "    <div class=\"colab-df-container\">\n",
              "      <div>\n",
              "<style scoped>\n",
              "    .dataframe tbody tr th:only-of-type {\n",
              "        vertical-align: middle;\n",
              "    }\n",
              "\n",
              "    .dataframe tbody tr th {\n",
              "        vertical-align: top;\n",
              "    }\n",
              "\n",
              "    .dataframe thead th {\n",
              "        text-align: right;\n",
              "    }\n",
              "</style>\n",
              "<table border=\"1\" class=\"dataframe\">\n",
              "  <thead>\n",
              "    <tr style=\"text-align: right;\">\n",
              "      <th></th>\n",
              "      <th>qid</th>\n",
              "      <th>question_text</th>\n",
              "      <th>target</th>\n",
              "    </tr>\n",
              "  </thead>\n",
              "  <tbody>\n",
              "    <tr>\n",
              "      <th>0</th>\n",
              "      <td>15da7c4e27ac869f4aa7</td>\n",
              "      <td>Is GRE necessary for McGill Univ (MS Data Scie...</td>\n",
              "      <td>0</td>\n",
              "    </tr>\n",
              "    <tr>\n",
              "      <th>1</th>\n",
              "      <td>77d18c4e4cb6daa80a8b</td>\n",
              "      <td>My friend has been being hit and has been rape...</td>\n",
              "      <td>0</td>\n",
              "    </tr>\n",
              "    <tr>\n",
              "      <th>2</th>\n",
              "      <td>07bff8b96d97de055509</td>\n",
              "      <td>Which one is better software engineering or IT...</td>\n",
              "      <td>0</td>\n",
              "    </tr>\n",
              "    <tr>\n",
              "      <th>3</th>\n",
              "      <td>cad3d16d35695a8fcea5</td>\n",
              "      <td>What does the U symbol on food mean?</td>\n",
              "      <td>0</td>\n",
              "    </tr>\n",
              "    <tr>\n",
              "      <th>4</th>\n",
              "      <td>a7938e05bdbb8e3e3caa</td>\n",
              "      <td>Which book should read for general engineering...</td>\n",
              "      <td>0</td>\n",
              "    </tr>\n",
              "    <tr>\n",
              "      <th>...</th>\n",
              "      <td>...</td>\n",
              "      <td>...</td>\n",
              "      <td>...</td>\n",
              "    </tr>\n",
              "    <tr>\n",
              "      <th>181515</th>\n",
              "      <td>fffeba722d9b371bd1b9</td>\n",
              "      <td>How is it to have intimate relation with your ...</td>\n",
              "      <td>1</td>\n",
              "    </tr>\n",
              "    <tr>\n",
              "      <th>181516</th>\n",
              "      <td>fffee269360dd0d3947a</td>\n",
              "      <td>Why is it when singers have lyrics about voice...</td>\n",
              "      <td>1</td>\n",
              "    </tr>\n",
              "    <tr>\n",
              "      <th>181517</th>\n",
              "      <td>ffff0e4ea1bb6e16feec</td>\n",
              "      <td>Do pakis smell of curry and shit?</td>\n",
              "      <td>1</td>\n",
              "    </tr>\n",
              "    <tr>\n",
              "      <th>181518</th>\n",
              "      <td>ffff3f0a2449ffe4b9ff</td>\n",
              "      <td>Isn't Trump right after all? Why should the US...</td>\n",
              "      <td>1</td>\n",
              "    </tr>\n",
              "    <tr>\n",
              "      <th>181519</th>\n",
              "      <td>ffffa5b0fa76431c063f</td>\n",
              "      <td>Are you ashamed of being an Indian?</td>\n",
              "      <td>1</td>\n",
              "    </tr>\n",
              "  </tbody>\n",
              "</table>\n",
              "<p>181520 rows × 3 columns</p>\n",
              "</div>\n",
              "      <button class=\"colab-df-convert\" onclick=\"convertToInteractive('df-d2fe21a9-d165-4b3d-9286-3b7a36e1820e')\"\n",
              "              title=\"Convert this dataframe to an interactive table.\"\n",
              "              style=\"display:none;\">\n",
              "        \n",
              "  <svg xmlns=\"http://www.w3.org/2000/svg\" height=\"24px\"viewBox=\"0 0 24 24\"\n",
              "       width=\"24px\">\n",
              "    <path d=\"M0 0h24v24H0V0z\" fill=\"none\"/>\n",
              "    <path d=\"M18.56 5.44l.94 2.06.94-2.06 2.06-.94-2.06-.94-.94-2.06-.94 2.06-2.06.94zm-11 1L8.5 8.5l.94-2.06 2.06-.94-2.06-.94L8.5 2.5l-.94 2.06-2.06.94zm10 10l.94 2.06.94-2.06 2.06-.94-2.06-.94-.94-2.06-.94 2.06-2.06.94z\"/><path d=\"M17.41 7.96l-1.37-1.37c-.4-.4-.92-.59-1.43-.59-.52 0-1.04.2-1.43.59L10.3 9.45l-7.72 7.72c-.78.78-.78 2.05 0 2.83L4 21.41c.39.39.9.59 1.41.59.51 0 1.02-.2 1.41-.59l7.78-7.78 2.81-2.81c.8-.78.8-2.07 0-2.86zM5.41 20L4 18.59l7.72-7.72 1.47 1.35L5.41 20z\"/>\n",
              "  </svg>\n",
              "      </button>\n",
              "      \n",
              "  <style>\n",
              "    .colab-df-container {\n",
              "      display:flex;\n",
              "      flex-wrap:wrap;\n",
              "      gap: 12px;\n",
              "    }\n",
              "\n",
              "    .colab-df-convert {\n",
              "      background-color: #E8F0FE;\n",
              "      border: none;\n",
              "      border-radius: 50%;\n",
              "      cursor: pointer;\n",
              "      display: none;\n",
              "      fill: #1967D2;\n",
              "      height: 32px;\n",
              "      padding: 0 0 0 0;\n",
              "      width: 32px;\n",
              "    }\n",
              "\n",
              "    .colab-df-convert:hover {\n",
              "      background-color: #E2EBFA;\n",
              "      box-shadow: 0px 1px 2px rgba(60, 64, 67, 0.3), 0px 1px 3px 1px rgba(60, 64, 67, 0.15);\n",
              "      fill: #174EA6;\n",
              "    }\n",
              "\n",
              "    [theme=dark] .colab-df-convert {\n",
              "      background-color: #3B4455;\n",
              "      fill: #D2E3FC;\n",
              "    }\n",
              "\n",
              "    [theme=dark] .colab-df-convert:hover {\n",
              "      background-color: #434B5C;\n",
              "      box-shadow: 0px 1px 3px 1px rgba(0, 0, 0, 0.15);\n",
              "      filter: drop-shadow(0px 1px 2px rgba(0, 0, 0, 0.3));\n",
              "      fill: #FFFFFF;\n",
              "    }\n",
              "  </style>\n",
              "\n",
              "      <script>\n",
              "        const buttonEl =\n",
              "          document.querySelector('#df-d2fe21a9-d165-4b3d-9286-3b7a36e1820e button.colab-df-convert');\n",
              "        buttonEl.style.display =\n",
              "          google.colab.kernel.accessAllowed ? 'block' : 'none';\n",
              "\n",
              "        async function convertToInteractive(key) {\n",
              "          const element = document.querySelector('#df-d2fe21a9-d165-4b3d-9286-3b7a36e1820e');\n",
              "          const dataTable =\n",
              "            await google.colab.kernel.invokeFunction('convertToInteractive',\n",
              "                                                     [key], {});\n",
              "          if (!dataTable) return;\n",
              "\n",
              "          const docLinkHtml = 'Like what you see? Visit the ' +\n",
              "            '<a target=\"_blank\" href=https://colab.research.google.com/notebooks/data_table.ipynb>data table notebook</a>'\n",
              "            + ' to learn more about interactive tables.';\n",
              "          element.innerHTML = '';\n",
              "          dataTable['output_type'] = 'display_data';\n",
              "          await google.colab.output.renderOutput(dataTable, element);\n",
              "          const docLink = document.createElement('div');\n",
              "          docLink.innerHTML = docLinkHtml;\n",
              "          element.appendChild(docLink);\n",
              "        }\n",
              "      </script>\n",
              "    </div>\n",
              "  </div>\n",
              "  "
            ]
          },
          "metadata": {},
          "execution_count": 4
        }
      ],
      "source": [
        "data=pd.read_csv('/content/drive/MyDrive/dataset-quora/quora-insincere-questions-classification.csv') #THIS IS THE LEMMATIZED DATA\n",
        "data"
      ]
    },
    {
      "cell_type": "code",
      "source": [
        "data=data.dropna()"
      ],
      "metadata": {
        "id": "cD3DGzxbzb86"
      },
      "id": "cD3DGzxbzb86",
      "execution_count": 5,
      "outputs": []
    },
    {
      "cell_type": "code",
      "source": [
        "data.target.value_counts()"
      ],
      "metadata": {
        "colab": {
          "base_uri": "https://localhost:8080/"
        },
        "id": "UeHVjhQVgkN1",
        "outputId": "f2b960a7-39ee-46df-e520-a7d518d38dba"
      },
      "id": "UeHVjhQVgkN1",
      "execution_count": 6,
      "outputs": [
        {
          "output_type": "execute_result",
          "data": {
            "text/plain": [
              "0    100710\n",
              "1     80810\n",
              "Name: target, dtype: int64"
            ]
          },
          "metadata": {},
          "execution_count": 6
        }
      ]
    },
    {
      "cell_type": "markdown",
      "source": [
        "# **Lemmatization**"
      ],
      "metadata": {
        "id": "QoyXo11ek-4b"
      },
      "id": "QoyXo11ek-4b"
    },
    {
      "cell_type": "code",
      "source": [
        "def lemmatize(df):\n",
        "    res=[]\n",
        "    count=df.shape[0]\n",
        "    \n",
        "    for row in df:\n",
        "        doc=nlp(row)\n",
        "        row=\" \".join([w.lemma_ for w in nlp(row)])\n",
        "        res.append(row)\n",
        "        count=count-1\n",
        "        \n",
        "        if(count%5000==0):\n",
        "            print(\"Remaining no. of rows= \",count)\n",
        "            \n",
        "    res=pd.Series(res)\n",
        "    return res"
      ],
      "metadata": {
        "id": "vBRiMyNEk2Qo"
      },
      "id": "vBRiMyNEk2Qo",
      "execution_count": 7,
      "outputs": []
    },
    {
      "cell_type": "code",
      "source": [
        "lemmatized_x=lemmatize(data['question_text'])"
      ],
      "metadata": {
        "colab": {
          "base_uri": "https://localhost:8080/"
        },
        "id": "Zo77HO4ylEnX",
        "outputId": "66440d3a-f555-4c0e-be9f-e21dd880081d"
      },
      "id": "Zo77HO4ylEnX",
      "execution_count": 8,
      "outputs": [
        {
          "output_type": "stream",
          "name": "stdout",
          "text": [
            "Remaining no. of rows=  180000\n",
            "Remaining no. of rows=  175000\n",
            "Remaining no. of rows=  170000\n",
            "Remaining no. of rows=  165000\n",
            "Remaining no. of rows=  160000\n",
            "Remaining no. of rows=  155000\n",
            "Remaining no. of rows=  150000\n",
            "Remaining no. of rows=  145000\n",
            "Remaining no. of rows=  140000\n",
            "Remaining no. of rows=  135000\n",
            "Remaining no. of rows=  130000\n",
            "Remaining no. of rows=  125000\n",
            "Remaining no. of rows=  120000\n",
            "Remaining no. of rows=  115000\n",
            "Remaining no. of rows=  110000\n",
            "Remaining no. of rows=  105000\n",
            "Remaining no. of rows=  100000\n",
            "Remaining no. of rows=  95000\n",
            "Remaining no. of rows=  90000\n",
            "Remaining no. of rows=  85000\n",
            "Remaining no. of rows=  80000\n",
            "Remaining no. of rows=  75000\n",
            "Remaining no. of rows=  70000\n",
            "Remaining no. of rows=  65000\n",
            "Remaining no. of rows=  60000\n",
            "Remaining no. of rows=  55000\n",
            "Remaining no. of rows=  50000\n",
            "Remaining no. of rows=  45000\n",
            "Remaining no. of rows=  40000\n",
            "Remaining no. of rows=  35000\n",
            "Remaining no. of rows=  30000\n",
            "Remaining no. of rows=  25000\n",
            "Remaining no. of rows=  20000\n",
            "Remaining no. of rows=  15000\n",
            "Remaining no. of rows=  10000\n",
            "Remaining no. of rows=  5000\n",
            "Remaining no. of rows=  0\n"
          ]
        }
      ]
    },
    {
      "cell_type": "code",
      "source": [
        "lemma=pd.DataFrame({'questions':lemmatized_x})"
      ],
      "metadata": {
        "id": "CEEJmPL8jbU2"
      },
      "id": "CEEJmPL8jbU2",
      "execution_count": 9,
      "outputs": []
    },
    {
      "cell_type": "code",
      "source": [
        "lemma.to_csv(\"/content/drive/MyDrive/dataset-quora/lemma.csv\",index=False)"
      ],
      "metadata": {
        "id": "YnLVmVkBtKhF"
      },
      "id": "YnLVmVkBtKhF",
      "execution_count": 11,
      "outputs": []
    },
    {
      "cell_type": "markdown",
      "id": "7d578c5d",
      "metadata": {
        "papermill": {
          "duration": 0.005747,
          "end_time": "2022-08-29T08:58:16.888686",
          "exception": false,
          "start_time": "2022-08-29T08:58:16.882939",
          "status": "completed"
        },
        "tags": [],
        "id": "7d578c5d"
      },
      "source": [
        "# Data cleaning(removing ?.!*@#%*_+}{ etc..)"
      ]
    },
    {
      "cell_type": "code",
      "execution_count": 12,
      "id": "790e5972",
      "metadata": {
        "execution": {
          "iopub.execute_input": "2022-08-29T08:58:16.902408Z",
          "iopub.status.busy": "2022-08-29T08:58:16.901725Z",
          "iopub.status.idle": "2022-08-29T08:58:16.907506Z",
          "shell.execute_reply": "2022-08-29T08:58:16.906653Z"
        },
        "papermill": {
          "duration": 0.014724,
          "end_time": "2022-08-29T08:58:16.909499",
          "exception": false,
          "start_time": "2022-08-29T08:58:16.894775",
          "status": "completed"
        },
        "tags": [],
        "id": "790e5972"
      },
      "outputs": [],
      "source": [
        "import re\n",
        "\n",
        "def clean_text(series):\n",
        "    res=[]\n",
        "    for row in series:\n",
        "        text = re.sub(r'[^(a-zA-Z)\\s]','', row)\n",
        "        res.append(text)\n",
        "    res=pd.Series(res)\n",
        "    return res"
      ]
    },
    {
      "cell_type": "code",
      "execution_count": 13,
      "id": "feb566e4",
      "metadata": {
        "execution": {
          "iopub.execute_input": "2022-08-29T08:58:16.924655Z",
          "iopub.status.busy": "2022-08-29T08:58:16.923699Z",
          "iopub.status.idle": "2022-08-29T08:58:17.341438Z",
          "shell.execute_reply": "2022-08-29T08:58:17.340397Z"
        },
        "papermill": {
          "duration": 0.428151,
          "end_time": "2022-08-29T08:58:17.343824",
          "exception": false,
          "start_time": "2022-08-29T08:58:16.915673",
          "status": "completed"
        },
        "tags": [],
        "id": "feb566e4"
      },
      "outputs": [],
      "source": [
        "cleaned_x=clean_text(lemmatized_x)"
      ]
    },
    {
      "cell_type": "code",
      "execution_count": 14,
      "id": "705f599a",
      "metadata": {
        "execution": {
          "iopub.execute_input": "2022-08-29T08:58:17.359864Z",
          "iopub.status.busy": "2022-08-29T08:58:17.357921Z",
          "iopub.status.idle": "2022-08-29T08:58:17.368479Z",
          "shell.execute_reply": "2022-08-29T08:58:17.367361Z"
        },
        "papermill": {
          "duration": 0.020803,
          "end_time": "2022-08-29T08:58:17.371330",
          "exception": false,
          "start_time": "2022-08-29T08:58:17.350527",
          "status": "completed"
        },
        "tags": [],
        "colab": {
          "base_uri": "https://localhost:8080/"
        },
        "id": "705f599a",
        "outputId": "680960e4-3266-4e68-fb3b-2c1c5fd16350"
      },
      "outputs": [
        {
          "output_type": "execute_result",
          "data": {
            "text/plain": [
              "0         be GRE necessary for McGill Univ ( MS Data Sci...\n",
              "1         my friend have be be hit and have be rape by h...\n",
              "2         which one be well software engineering or it e...\n",
              "3                        what do the U symbol on food mean \n",
              "4         which book should read for general engineering...\n",
              "                                ...                        \n",
              "181515    how be it to have intimate relation with your ...\n",
              "181516    why be it when singer have lyric about voice i...\n",
              "181517                     do paki smell of curry and shit \n",
              "181518    be not trump right after all  why should the U...\n",
              "181519                      be you ashamed of be an indian \n",
              "Length: 181520, dtype: object"
            ]
          },
          "metadata": {},
          "execution_count": 14
        }
      ],
      "source": [
        "cleaned_x"
      ]
    },
    {
      "cell_type": "code",
      "execution_count": 15,
      "id": "5baad04b",
      "metadata": {
        "execution": {
          "iopub.execute_input": "2022-08-29T08:58:17.386394Z",
          "iopub.status.busy": "2022-08-29T08:58:17.385365Z",
          "iopub.status.idle": "2022-08-29T08:58:17.393766Z",
          "shell.execute_reply": "2022-08-29T08:58:17.392629Z"
        },
        "papermill": {
          "duration": 0.018569,
          "end_time": "2022-08-29T08:58:17.396437",
          "exception": false,
          "start_time": "2022-08-29T08:58:17.377868",
          "status": "completed"
        },
        "tags": [],
        "colab": {
          "base_uri": "https://localhost:8080/"
        },
        "id": "5baad04b",
        "outputId": "c02d560e-fb21-4467-e898-cdd7beb9eaef"
      },
      "outputs": [
        {
          "output_type": "execute_result",
          "data": {
            "text/plain": [
              "0         0\n",
              "1         0\n",
              "2         0\n",
              "3         0\n",
              "4         0\n",
              "         ..\n",
              "181515    1\n",
              "181516    1\n",
              "181517    1\n",
              "181518    1\n",
              "181519    1\n",
              "Name: target, Length: 181520, dtype: int64"
            ]
          },
          "metadata": {},
          "execution_count": 15
        }
      ],
      "source": [
        "y=data[\"target\"]\n",
        "y"
      ]
    },
    {
      "cell_type": "code",
      "execution_count": 16,
      "id": "00fbc540",
      "metadata": {
        "execution": {
          "iopub.execute_input": "2022-08-29T08:58:17.410630Z",
          "iopub.status.busy": "2022-08-29T08:58:17.410324Z",
          "iopub.status.idle": "2022-08-29T08:58:22.867416Z",
          "shell.execute_reply": "2022-08-29T08:58:22.864400Z"
        },
        "papermill": {
          "duration": 5.468115,
          "end_time": "2022-08-29T08:58:22.870967",
          "exception": false,
          "start_time": "2022-08-29T08:58:17.402852",
          "status": "completed"
        },
        "tags": [],
        "id": "00fbc540"
      },
      "outputs": [],
      "source": [
        "import tensorflow as tf\n",
        "from tensorflow.keras.preprocessing.text import Tokenizer\n",
        "from tensorflow.keras.preprocessing.sequence import pad_sequences\n",
        "from tensorflow.keras.models import Sequential\n",
        "from tensorflow.keras.layers import Dense\n",
        "from tensorflow.keras.layers import Flatten,Dropout\n",
        "from tensorflow.keras.layers import Embedding,Bidirectional,LSTM,GRU,GlobalMaxPool1D"
      ]
    },
    {
      "cell_type": "markdown",
      "id": "0f0445dc",
      "metadata": {
        "papermill": {
          "duration": 0.007175,
          "end_time": "2022-08-29T08:58:22.893451",
          "exception": false,
          "start_time": "2022-08-29T08:58:22.886276",
          "status": "completed"
        },
        "tags": [],
        "id": "0f0445dc"
      },
      "source": [
        "# **Tokenizing**"
      ]
    },
    {
      "cell_type": "code",
      "execution_count": 17,
      "id": "92394e6d",
      "metadata": {
        "execution": {
          "iopub.execute_input": "2022-08-29T08:58:22.923514Z",
          "iopub.status.busy": "2022-08-29T08:58:22.922738Z",
          "iopub.status.idle": "2022-08-29T08:58:26.103135Z",
          "shell.execute_reply": "2022-08-29T08:58:26.102078Z"
        },
        "papermill": {
          "duration": 3.197885,
          "end_time": "2022-08-29T08:58:26.105614",
          "exception": false,
          "start_time": "2022-08-29T08:58:22.907729",
          "status": "completed"
        },
        "tags": [],
        "id": "92394e6d"
      },
      "outputs": [],
      "source": [
        "vocab_size=50000\n",
        "max_len=100\n",
        "tokenizer=Tokenizer(num_words=vocab_size)\n",
        "fit_text=list(cleaned_x)"
      ]
    },
    {
      "cell_type": "code",
      "source": [
        "tokenizer.fit_on_texts(fit_text)\n",
        "text=tokenizer.texts_to_sequences(cleaned_x)"
      ],
      "metadata": {
        "id": "4yJZ4aQO2738"
      },
      "id": "4yJZ4aQO2738",
      "execution_count": 18,
      "outputs": []
    },
    {
      "cell_type": "code",
      "source": [
        "print(len(tokenizer.word_index))"
      ],
      "metadata": {
        "colab": {
          "base_uri": "https://localhost:8080/"
        },
        "id": "mfMfvJhk37-x",
        "outputId": "a7c6c532-0f72-4611-e71e-032b92daadc1"
      },
      "id": "mfMfvJhk37-x",
      "execution_count": 19,
      "outputs": [
        {
          "output_type": "stream",
          "name": "stdout",
          "text": [
            "55536\n"
          ]
        }
      ]
    },
    {
      "cell_type": "code",
      "execution_count": 22,
      "id": "ea36a5e1",
      "metadata": {
        "execution": {
          "iopub.execute_input": "2022-08-29T08:58:26.121224Z",
          "iopub.status.busy": "2022-08-29T08:58:26.119526Z",
          "iopub.status.idle": "2022-08-29T08:58:26.128887Z",
          "shell.execute_reply": "2022-08-29T08:58:26.128017Z"
        },
        "papermill": {
          "duration": 0.018935,
          "end_time": "2022-08-29T08:58:26.131122",
          "exception": false,
          "start_time": "2022-08-29T08:58:26.112187",
          "status": "completed"
        },
        "tags": [],
        "colab": {
          "base_uri": "https://localhost:8080/",
          "height": 35
        },
        "id": "ea36a5e1",
        "outputId": "297bfb91-684d-4325-e4ca-e68e892cf23c"
      },
      "outputs": [
        {
          "output_type": "execute_result",
          "data": {
            "text/plain": [
              "'which one be well software engineering or it engineering for programming app and website '"
            ],
            "application/vnd.google.colaboratory.intrinsic+json": {
              "type": "string"
            }
          },
          "metadata": {},
          "execution_count": 22
        }
      ],
      "source": [
        "cleaned_x[2]"
      ]
    },
    {
      "cell_type": "code",
      "execution_count": 23,
      "id": "63349265",
      "metadata": {
        "execution": {
          "iopub.execute_input": "2022-08-29T08:58:26.144638Z",
          "iopub.status.busy": "2022-08-29T08:58:26.144352Z",
          "iopub.status.idle": "2022-08-29T08:58:26.153485Z",
          "shell.execute_reply": "2022-08-29T08:58:26.152488Z"
        },
        "papermill": {
          "duration": 0.018412,
          "end_time": "2022-08-29T08:58:26.155619",
          "exception": false,
          "start_time": "2022-08-29T08:58:26.137207",
          "status": "completed"
        },
        "tags": [],
        "colab": {
          "base_uri": "https://localhost:8080/"
        },
        "id": "63349265",
        "outputId": "9a5ffd4c-14b6-4089-ee6b-7e65ebdd5c35"
      },
      "outputs": [
        {
          "output_type": "execute_result",
          "data": {
            "text/plain": [
              "[50, 66, 1, 91, 533, 329, 25, 16, 329, 13, 912, 423, 8, 356]"
            ]
          },
          "metadata": {},
          "execution_count": 23
        }
      ],
      "source": [
        "text[2]"
      ]
    },
    {
      "cell_type": "markdown",
      "id": "b31c19b4",
      "metadata": {
        "papermill": {
          "duration": 0.006005,
          "end_time": "2022-08-29T08:58:26.167792",
          "exception": false,
          "start_time": "2022-08-29T08:58:26.161787",
          "status": "completed"
        },
        "tags": [],
        "id": "b31c19b4"
      },
      "source": [
        "# **Padding the Sequence**"
      ]
    },
    {
      "cell_type": "code",
      "execution_count": 24,
      "id": "070738c1",
      "metadata": {
        "execution": {
          "iopub.execute_input": "2022-08-29T08:58:26.181843Z",
          "iopub.status.busy": "2022-08-29T08:58:26.181043Z",
          "iopub.status.idle": "2022-08-29T08:58:26.663530Z",
          "shell.execute_reply": "2022-08-29T08:58:26.662516Z"
        },
        "papermill": {
          "duration": 0.492094,
          "end_time": "2022-08-29T08:58:26.665979",
          "exception": false,
          "start_time": "2022-08-29T08:58:26.173885",
          "status": "completed"
        },
        "tags": [],
        "id": "070738c1"
      },
      "outputs": [],
      "source": [
        "padded_x=pad_sequences(text,maxlen=max_len,padding='pre')"
      ]
    },
    {
      "cell_type": "code",
      "execution_count": 25,
      "id": "39c1b2f0",
      "metadata": {
        "execution": {
          "iopub.execute_input": "2022-08-29T08:58:26.680702Z",
          "iopub.status.busy": "2022-08-29T08:58:26.679845Z",
          "iopub.status.idle": "2022-08-29T08:58:26.689179Z",
          "shell.execute_reply": "2022-08-29T08:58:26.688273Z"
        },
        "papermill": {
          "duration": 0.018603,
          "end_time": "2022-08-29T08:58:26.691180",
          "exception": false,
          "start_time": "2022-08-29T08:58:26.672577",
          "status": "completed"
        },
        "tags": [],
        "colab": {
          "base_uri": "https://localhost:8080/"
        },
        "id": "39c1b2f0",
        "outputId": "9f45339b-d754-4a67-8182-ddf156252ba8"
      },
      "outputs": [
        {
          "output_type": "execute_result",
          "data": {
            "text/plain": [
              "array([[   0,    0,    0, ..., 1248, 1225,  331],\n",
              "       [   0,    0,    0, ...,    4,    2,  451],\n",
              "       [   0,    0,    0, ...,  423,    8,  356],\n",
              "       ...,\n",
              "       [   0,    0,    0, ..., 6183,    8,  864],\n",
              "       [   0,    0,    0, ...,   83,   39, 3741],\n",
              "       [   0,    0,    0, ...,    1,   39,   77]], dtype=int32)"
            ]
          },
          "metadata": {},
          "execution_count": 25
        }
      ],
      "source": [
        "padded_x"
      ]
    },
    {
      "cell_type": "code",
      "execution_count": 26,
      "id": "bd01efdb",
      "metadata": {
        "execution": {
          "iopub.execute_input": "2022-08-29T08:58:26.705630Z",
          "iopub.status.busy": "2022-08-29T08:58:26.704675Z",
          "iopub.status.idle": "2022-08-29T08:58:27.312576Z",
          "shell.execute_reply": "2022-08-29T08:58:27.311439Z"
        },
        "papermill": {
          "duration": 0.618821,
          "end_time": "2022-08-29T08:58:27.316151",
          "exception": false,
          "start_time": "2022-08-29T08:58:26.697330",
          "status": "completed"
        },
        "tags": [],
        "colab": {
          "base_uri": "https://localhost:8080/"
        },
        "id": "bd01efdb",
        "outputId": "b8710af5-2e75-493a-c623-9174ced33526"
      },
      "outputs": [
        {
          "output_type": "execute_result",
          "data": {
            "text/plain": [
              "((145216, 100), (145216,))"
            ]
          },
          "metadata": {},
          "execution_count": 26
        }
      ],
      "source": [
        "from sklearn.model_selection import train_test_split\n",
        "xtrain,xtest,ytrain,ytest=train_test_split(padded_x,y,random_state=42,test_size=0.2)\n",
        "xtrain.shape,ytrain.shape"
      ]
    },
    {
      "cell_type": "markdown",
      "id": "32c7f61b",
      "metadata": {
        "papermill": {
          "duration": 0.006714,
          "end_time": "2022-08-29T08:58:27.333731",
          "exception": false,
          "start_time": "2022-08-29T08:58:27.327017",
          "status": "completed"
        },
        "tags": [],
        "id": "32c7f61b"
      },
      "source": [
        "# **BIDIRECTIONAL LSTM MODEL**"
      ]
    },
    {
      "cell_type": "code",
      "execution_count": 32,
      "id": "d952fc6d",
      "metadata": {
        "execution": {
          "iopub.execute_input": "2022-08-29T08:58:27.347837Z",
          "iopub.status.busy": "2022-08-29T08:58:27.347520Z",
          "iopub.status.idle": "2022-08-29T08:58:30.809773Z",
          "shell.execute_reply": "2022-08-29T08:58:30.808672Z"
        },
        "papermill": {
          "duration": 3.472062,
          "end_time": "2022-08-29T08:58:30.812330",
          "exception": false,
          "start_time": "2022-08-29T08:58:27.340268",
          "status": "completed"
        },
        "tags": [],
        "id": "d952fc6d"
      },
      "outputs": [],
      "source": [
        "model=Sequential([\n",
        "    Embedding(vocab_size,360,input_length=max_len),\n",
        "    Bidirectional(LSTM(128,return_sequences=True)),\n",
        "    Dropout(0.4),\n",
        "    Bidirectional(LSTM(64,return_sequences=True)),\n",
        "    Dropout(0.4),\n",
        "    Bidirectional(LSTM(32,return_sequences=True)),\n",
        "    GlobalMaxPool1D(),\n",
        "    Dense(10,activation=\"relu\"),\n",
        "    Dropout(0.2),\n",
        "    Dense(1,activation=\"sigmoid\")\n",
        "])"
      ]
    },
    {
      "cell_type": "code",
      "source": [
        "METRICS = [\n",
        "      tf.keras.metrics.BinaryAccuracy(name='accuracy'),\n",
        "      tf.keras.metrics.Precision(name='precision'),\n",
        "      tf.keras.metrics.Recall(name='recall')\n",
        "]\n",
        "\n",
        "model.compile(optimizer=\"adam\",\n",
        "             loss=\"binary_crossentropy\",\n",
        "             metrics=METRICS)\n",
        "\n",
        "\n",
        "model.summary()"
      ],
      "metadata": {
        "colab": {
          "base_uri": "https://localhost:8080/"
        },
        "id": "3pbSXxeq0Y4P",
        "outputId": "b6ad2f84-815b-4097-d037-d4938f6eea85"
      },
      "id": "3pbSXxeq0Y4P",
      "execution_count": 33,
      "outputs": [
        {
          "output_type": "stream",
          "name": "stdout",
          "text": [
            "Model: \"sequential_1\"\n",
            "_________________________________________________________________\n",
            " Layer (type)                Output Shape              Param #   \n",
            "=================================================================\n",
            " embedding_1 (Embedding)     (None, 100, 360)          18000000  \n",
            "                                                                 \n",
            " bidirectional_3 (Bidirectio  (None, 100, 256)         500736    \n",
            " nal)                                                            \n",
            "                                                                 \n",
            " dropout_3 (Dropout)         (None, 100, 256)          0         \n",
            "                                                                 \n",
            " bidirectional_4 (Bidirectio  (None, 100, 128)         164352    \n",
            " nal)                                                            \n",
            "                                                                 \n",
            " dropout_4 (Dropout)         (None, 100, 128)          0         \n",
            "                                                                 \n",
            " bidirectional_5 (Bidirectio  (None, 100, 64)          41216     \n",
            " nal)                                                            \n",
            "                                                                 \n",
            " global_max_pooling1d_1 (Glo  (None, 64)               0         \n",
            " balMaxPooling1D)                                                \n",
            "                                                                 \n",
            " dense_2 (Dense)             (None, 10)                650       \n",
            "                                                                 \n",
            " dropout_5 (Dropout)         (None, 10)                0         \n",
            "                                                                 \n",
            " dense_3 (Dense)             (None, 1)                 11        \n",
            "                                                                 \n",
            "=================================================================\n",
            "Total params: 18,706,965\n",
            "Trainable params: 18,706,965\n",
            "Non-trainable params: 0\n",
            "_________________________________________________________________\n"
          ]
        }
      ]
    },
    {
      "cell_type": "code",
      "execution_count": 34,
      "id": "680d9dea",
      "metadata": {
        "execution": {
          "iopub.execute_input": "2022-08-29T08:58:30.827634Z",
          "iopub.status.busy": "2022-08-29T08:58:30.827332Z",
          "iopub.status.idle": "2022-08-29T09:05:42.841951Z",
          "shell.execute_reply": "2022-08-29T09:05:42.840977Z"
        },
        "papermill": {
          "duration": 432.360401,
          "end_time": "2022-08-29T09:05:43.179563",
          "exception": false,
          "start_time": "2022-08-29T08:58:30.819162",
          "status": "completed"
        },
        "tags": [],
        "colab": {
          "base_uri": "https://localhost:8080/"
        },
        "id": "680d9dea",
        "outputId": "c5beaaab-32f1-4953-84ad-53d76cd84392"
      },
      "outputs": [
        {
          "output_type": "stream",
          "name": "stdout",
          "text": [
            "Epoch 1/2\n",
            "4538/4538 [==============================] - 205s 44ms/step - loss: 0.3241 - accuracy: 0.8774 - precision: 0.8548 - recall: 0.8724 - val_loss: 0.2825 - val_accuracy: 0.8853 - val_precision: 0.8251 - val_recall: 0.9435\n",
            "Epoch 2/2\n",
            "4538/4538 [==============================] - 196s 43ms/step - loss: 0.2465 - accuracy: 0.9089 - precision: 0.8814 - recall: 0.9189 - val_loss: 0.2703 - val_accuracy: 0.8963 - val_precision: 0.8787 - val_recall: 0.8912\n"
          ]
        },
        {
          "output_type": "execute_result",
          "data": {
            "text/plain": [
              "<keras.callbacks.History at 0x7fed971a7b50>"
            ]
          },
          "metadata": {},
          "execution_count": 34
        }
      ],
      "source": [
        "model.fit(xtrain,ytrain,epochs=2,validation_data=(xtest,ytest))"
      ]
    },
    {
      "cell_type": "code",
      "execution_count": 35,
      "id": "b24c3418",
      "metadata": {
        "execution": {
          "iopub.execute_input": "2022-08-29T09:05:43.858525Z",
          "iopub.status.busy": "2022-08-29T09:05:43.858173Z",
          "iopub.status.idle": "2022-08-29T09:05:55.050006Z",
          "shell.execute_reply": "2022-08-29T09:05:55.049125Z"
        },
        "papermill": {
          "duration": 11.534433,
          "end_time": "2022-08-29T09:05:55.052094",
          "exception": false,
          "start_time": "2022-08-29T09:05:43.517661",
          "status": "completed"
        },
        "tags": [],
        "colab": {
          "base_uri": "https://localhost:8080/"
        },
        "id": "b24c3418",
        "outputId": "4f6d05f8-d5b9-486a-f82e-f7351aee3e39"
      },
      "outputs": [
        {
          "output_type": "stream",
          "name": "stdout",
          "text": [
            "1135/1135 [==============================] - 18s 16ms/step - loss: 0.2703 - accuracy: 0.8963 - precision: 0.8787 - recall: 0.8912\n"
          ]
        },
        {
          "output_type": "execute_result",
          "data": {
            "text/plain": [
              "[0.2703104317188263,\n",
              " 0.8963199853897095,\n",
              " 0.8786664009094238,\n",
              " 0.8912226557731628]"
            ]
          },
          "metadata": {},
          "execution_count": 35
        }
      ],
      "source": [
        "model.evaluate(xtest,ytest)"
      ]
    },
    {
      "cell_type": "code",
      "execution_count": null,
      "id": "238f8804",
      "metadata": {
        "execution": {
          "iopub.execute_input": "2022-08-29T09:05:55.795478Z",
          "iopub.status.busy": "2022-08-29T09:05:55.794930Z",
          "iopub.status.idle": "2022-08-29T09:06:16.747414Z",
          "shell.execute_reply": "2022-08-29T09:06:16.746400Z"
        },
        "papermill": {
          "duration": 21.359824,
          "end_time": "2022-08-29T09:06:16.759874",
          "exception": false,
          "start_time": "2022-08-29T09:05:55.400050",
          "status": "completed"
        },
        "tags": [],
        "id": "238f8804"
      },
      "outputs": [],
      "source": [
        "model.save(\"/content/drive/MyDrive/dataset-quora/Bidirectional_lstm_Model\")"
      ]
    },
    {
      "cell_type": "markdown",
      "id": "153b989b",
      "metadata": {
        "papermill": {
          "duration": 0.35737,
          "end_time": "2022-08-29T09:06:17.464112",
          "exception": false,
          "start_time": "2022-08-29T09:06:17.106742",
          "status": "completed"
        },
        "tags": [],
        "id": "153b989b"
      },
      "source": [
        "<a href=\"./BidirectionalLSTM\"> Download File </a>"
      ]
    },
    {
      "cell_type": "code",
      "source": [],
      "metadata": {
        "id": "eFcofIS_QMbt"
      },
      "id": "eFcofIS_QMbt",
      "execution_count": null,
      "outputs": []
    },
    {
      "cell_type": "code",
      "source": [
        "# saving\n",
        "with open('/content/drive/MyDrive/dataset-quora/tokenizer.pickle', 'wb') as handle:\n",
        "    pickle.dump(tokenizer, handle, protocol=pickle.HIGHEST_PROTOCOL)"
      ],
      "metadata": {
        "id": "lmovW1QCHUWe"
      },
      "id": "lmovW1QCHUWe",
      "execution_count": 37,
      "outputs": []
    },
    {
      "cell_type": "code",
      "source": [
        "# loading\n",
        "with open('tokenizer.pickle', 'rb') as handle:\n",
        "    tokenizer = pickle.load(handle)"
      ],
      "metadata": {
        "id": "EHqOhRqsHtKx"
      },
      "id": "EHqOhRqsHtKx",
      "execution_count": null,
      "outputs": []
    },
    {
      "cell_type": "markdown",
      "source": [
        "# **EVALUATION**"
      ],
      "metadata": {
        "id": "XE3IKjy_-FhG"
      },
      "id": "XE3IKjy_-FhG"
    },
    {
      "cell_type": "code",
      "source": [
        "from sklearn.metrics import confusion_matrix,classification_report\n",
        "import seaborn as sns\n",
        "import matplotlib.pyplot as plt"
      ],
      "metadata": {
        "id": "1OYmmi-C7G06"
      },
      "id": "1OYmmi-C7G06",
      "execution_count": 38,
      "outputs": []
    },
    {
      "cell_type": "code",
      "source": [
        "y_pred=model.predict(xtest)"
      ],
      "metadata": {
        "id": "3GGxpXCs9Opy"
      },
      "id": "3GGxpXCs9Opy",
      "execution_count": 39,
      "outputs": []
    },
    {
      "cell_type": "code",
      "source": [
        "y_p=[]\n",
        "for i in y_pred:\n",
        "    if(i>=0.5):\n",
        "        y_p.append(1)\n",
        "    else:\n",
        "        y_p.append(0)"
      ],
      "metadata": {
        "id": "a3gp6GMD9SwS"
      },
      "id": "a3gp6GMD9SwS",
      "execution_count": 40,
      "outputs": []
    },
    {
      "cell_type": "code",
      "source": [
        "confusion=confusion_matrix(ytest,y_p)"
      ],
      "metadata": {
        "id": "jq4cOk4Z9c2K"
      },
      "id": "jq4cOk4Z9c2K",
      "execution_count": 41,
      "outputs": []
    },
    {
      "cell_type": "markdown",
      "source": [
        "# **CONFUSION MATRIX**"
      ],
      "metadata": {
        "id": "mL6UxwHw-V4h"
      },
      "id": "mL6UxwHw-V4h"
    },
    {
      "cell_type": "code",
      "source": [
        "plt.figure(figsize = (10,7))\n",
        "sns.heatmap(confusion, annot=True,fmt='g',cmap='Blues')\n",
        "plt.ylabel(\"actual\")\n",
        "plt.xlabel('predicted');"
      ],
      "metadata": {
        "colab": {
          "base_uri": "https://localhost:8080/",
          "height": 445
        },
        "id": "qvTpc8j09f4i",
        "outputId": "38cb9585-d96e-4d8b-8207-37138516e97c"
      },
      "id": "qvTpc8j09f4i",
      "execution_count": 42,
      "outputs": [
        {
          "output_type": "display_data",
          "data": {
            "text/plain": [
              "<Figure size 720x504 with 2 Axes>"
            ],
            "image/png": "[encoded data removed]"
          },
          "metadata": {
            "needs_background": "light"
          }
        }
      ]
    },
    {
      "cell_type": "code",
      "source": [
        "print(\"     Classification report of LSTM model\\n\")\n",
        "print(classification_report(ytest,y_p))"
      ],
      "metadata": {
        "colab": {
          "base_uri": "https://localhost:8080/"
        },
        "id": "wAX79Xn-9l3S",
        "outputId": "6cd33d7b-0850-43e4-ece5-b519d56f61c0"
      },
      "id": "wAX79Xn-9l3S",
      "execution_count": 44,
      "outputs": [
        {
          "output_type": "stream",
          "name": "stdout",
          "text": [
            "     Classification report of LSTM model\n",
            "\n",
            "              precision    recall  f1-score   support\n",
            "\n",
            "           0       0.91      0.90      0.91     20069\n",
            "           1       0.88      0.89      0.88     16235\n",
            "\n",
            "    accuracy                           0.90     36304\n",
            "   macro avg       0.89      0.90      0.90     36304\n",
            "weighted avg       0.90      0.90      0.90     36304\n",
            "\n"
          ]
        }
      ]
    },
    {
      "cell_type": "markdown",
      "source": [
        "# **PREDICTION FUNCTION**"
      ],
      "metadata": {
        "id": "6wRvdZ0Q-bjs"
      },
      "id": "6wRvdZ0Q-bjs"
    },
    {
      "cell_type": "code",
      "source": [
        "def Predict(stre):\n",
        "  stre=nlp(stre)\n",
        "  stre=\" \".join([w.lemma_ for w in nlp(stre)])\n",
        "  listt=[]\n",
        "  listt.append(stre)\n",
        "  listt=tokenizer.texts_to_sequences(listt)\n",
        "  listt=pad_sequences(listt,maxlen=max_len,padding='pre')\n",
        "  pred=model.predict(listt)\n",
        "  \"\"\"\n",
        "  if(pred>=0.5):\n",
        "    print('InSincere')\n",
        "    print(pred[0][0])\n",
        "  else:\n",
        "    print('Sincere')\n",
        "    print(pred[0][0])\n",
        "    \"\"\"\n",
        "  print(\"{0:.2f}\".format(pred[0][0]*100),\"% InSincere\")"
      ],
      "metadata": {
        "id": "jO2CIj559thc"
      },
      "id": "jO2CIj559thc",
      "execution_count": 45,
      "outputs": []
    },
    {
      "cell_type": "code",
      "source": [
        "q=input(\"Enter your Question :\")\n",
        "Predict(q)"
      ],
      "metadata": {
        "id": "32W-_-pr97E6",
        "colab": {
          "base_uri": "https://localhost:8080/"
        },
        "outputId": "f9c76138-6525-429a-b4c9-8e1b1658abf5"
      },
      "id": "32W-_-pr97E6",
      "execution_count": 48,
      "outputs": [
        {
          "output_type": "stream",
          "name": "stdout",
          "text": [
            "Enter your Question :how to get to a product based company after by graduation\n",
            "0.15 % InSincere\n"
          ]
        }
      ]
    },
    {
      "cell_type": "code",
      "source": [],
      "metadata": {
        "id": "blpS3xpGBQOE"
      },
      "id": "blpS3xpGBQOE",
      "execution_count": null,
      "outputs": []
    }
  ],
  "metadata": {
    "kernelspec": {
      "display_name": "Python 3",
      "language": "python",
      "name": "python3"
    },
    "language_info": {
      "codemirror_mode": {
        "name": "ipython",
        "version": 3
      },
      "file_extension": ".py",
      "mimetype": "text/x-python",
      "name": "python",
      "nbconvert_exporter": "python",
      "pygments_lexer": "ipython3",
      "version": "3.7.12"
    },
    "papermill": {
      "default_parameters": {},
      "duration": 496.653244,
      "end_time": "2022-08-29T09:06:25.251844",
      "environment_variables": {},
      "exception": null,
      "input_path": "__notebook__.ipynb",
      "output_path": "__notebook__.ipynb",
      "parameters": {},
      "start_time": "2022-08-29T08:58:08.598600",
      "version": "2.3.4"
    },
    "colab": {
      "provenance": [],
      "include_colab_link": true
    },
    "accelerator": "GPU",
    "gpuClass": "standard"
  },
  "nbformat": 4,
  "nbformat_minor": 5
}