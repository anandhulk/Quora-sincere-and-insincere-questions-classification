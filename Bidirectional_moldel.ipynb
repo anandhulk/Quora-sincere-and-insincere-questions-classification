{
  "cells": [
    {
      "cell_type": "markdown",
      "metadata": {
        "id": "view-in-github",
        "colab_type": "text"
      },
      "source": [
        "<a href=\"https://colab.research.google.com/github/anandhulk/Quora-sincere-and-insincere-questions-classification/blob/main/Bidirectional_moldel.ipynb\" target=\"_parent\"><img src=\"https://colab.research.google.com/assets/colab-badge.svg\" alt=\"Open In Colab\"/></a>"
      ]
    },
    {
      "cell_type": "code",
      "execution_count": 66,
      "id": "81e177b6",
      "metadata": {
        "_cell_guid": "b1076dfc-b9ad-4769-8c92-a6c4dae69d19",
        "_uuid": "8f2839f25d086af736a60e9eeb907d3b93b6e0e5",
        "execution": {
          "iopub.execute_input": "2022-08-29T08:58:16.408199Z",
          "iopub.status.busy": "2022-08-29T08:58:16.407058Z",
          "iopub.status.idle": "2022-08-29T08:58:16.424710Z",
          "shell.execute_reply": "2022-08-29T08:58:16.423608Z"
        },
        "papermill": {
          "duration": 0.029449,
          "end_time": "2022-08-29T08:58:16.426844",
          "exception": false,
          "start_time": "2022-08-29T08:58:16.397395",
          "status": "completed"
        },
        "tags": [],
        "id": "81e177b6"
      },
      "outputs": [],
      "source": [
        "import numpy as np \n",
        "import pandas as pd \n",
        "from sklearn.utils import shuffle\n",
        "import spacy\n",
        "nlp = spacy.load(\"en_core_web_sm\")\n",
        "import pickle"
      ]
    },
    {
      "cell_type": "code",
      "execution_count": 2,
      "id": "68fbf11e",
      "metadata": {
        "execution": {
          "iopub.execute_input": "2022-08-29T08:58:16.439335Z",
          "iopub.status.busy": "2022-08-29T08:58:16.439046Z",
          "iopub.status.idle": "2022-08-29T08:58:16.444592Z",
          "shell.execute_reply": "2022-08-29T08:58:16.443722Z"
        },
        "papermill": {
          "duration": 0.013894,
          "end_time": "2022-08-29T08:58:16.446459",
          "exception": false,
          "start_time": "2022-08-29T08:58:16.432565",
          "status": "completed"
        },
        "tags": [],
        "id": "68fbf11e"
      },
      "outputs": [],
      "source": [
        "import warnings\n",
        "\n",
        "def fxn():\n",
        "    warnings.warn(\"deprecated\", DeprecationWarning)\n",
        "\n",
        "with warnings.catch_warnings():\n",
        "    warnings.simplefilter(\"ignore\")\n",
        "    fxn()"
      ]
    },
    {
      "cell_type": "code",
      "source": [
        "from google.colab import drive\n",
        "drive.mount('/content/drive')"
      ],
      "metadata": {
        "colab": {
          "base_uri": "https://localhost:8080/"
        },
        "id": "hGHQj9OQy5cN",
        "outputId": "e3e694e6-099e-4e91-99c3-b4e22866cf8c"
      },
      "id": "hGHQj9OQy5cN",
      "execution_count": 3,
      "outputs": [
        {
          "output_type": "stream",
          "name": "stdout",
          "text": [
            "Mounted at /content/drive\n"
          ]
        }
      ]
    },
    {
      "cell_type": "code",
      "execution_count": 4,
      "id": "5426a7c0",
      "metadata": {
        "execution": {
          "iopub.execute_input": "2022-08-29T08:58:16.459778Z",
          "iopub.status.busy": "2022-08-29T08:58:16.458204Z",
          "iopub.status.idle": "2022-08-29T08:58:16.800009Z",
          "shell.execute_reply": "2022-08-29T08:58:16.798965Z"
        },
        "papermill": {
          "duration": 0.350278,
          "end_time": "2022-08-29T08:58:16.802151",
          "exception": false,
          "start_time": "2022-08-29T08:58:16.451873",
          "status": "completed"
        },
        "tags": [],
        "colab": {
          "base_uri": "https://localhost:8080/",
          "height": 424
        },
        "id": "5426a7c0",
        "outputId": "9faad0af-a038-4835-bcd3-3642e52ac200"
      },
      "outputs": [
        {
          "output_type": "execute_result",
          "data": {
            "text/plain": [
              "                                                        0  target\n",
              "0                    how long be taiwanese people behind        1\n",
              "1            what be some computer store in Dayton  Ohio        0\n",
              "2       why do so many people think Japanese be superi...       1\n",
              "3                       how do I start to invest Bitcoin        0\n",
              "4       be get   in th CBSE humanity good  will I scor...       0\n",
              "...                                                   ...     ...\n",
              "161614  what should I do now have only  day leave for ...       0\n",
              "161615  what be the requirement in an invoice under GS...       0\n",
              "161616  what would the USA be like today if Obama have...       1\n",
              "161617  which Indian  author book  novel have drive yo...       1\n",
              "161618  why be it that Samsung and iPhone screen break...       1\n",
              "\n",
              "[161619 rows x 2 columns]"
            ],
            "text/html": [
              "\n",
              "  <div id=\"df-157b898b-ae62-4273-b340-dd22a0bc161a\">\n",
              "    <div class=\"colab-df-container\">\n",
              "      <div>\n",
              "<style scoped>\n",
              "    .dataframe tbody tr th:only-of-type {\n",
              "        vertical-align: middle;\n",
              "    }\n",
              "\n",
              "    .dataframe tbody tr th {\n",
              "        vertical-align: top;\n",
              "    }\n",
              "\n",
              "    .dataframe thead th {\n",
              "        text-align: right;\n",
              "    }\n",
              "</style>\n",
              "<table border=\"1\" class=\"dataframe\">\n",
              "  <thead>\n",
              "    <tr style=\"text-align: right;\">\n",
              "      <th></th>\n",
              "      <th>0</th>\n",
              "      <th>target</th>\n",
              "    </tr>\n",
              "  </thead>\n",
              "  <tbody>\n",
              "    <tr>\n",
              "      <th>0</th>\n",
              "      <td>how long be taiwanese people behind</td>\n",
              "      <td>1</td>\n",
              "    </tr>\n",
              "    <tr>\n",
              "      <th>1</th>\n",
              "      <td>what be some computer store in Dayton  Ohio</td>\n",
              "      <td>0</td>\n",
              "    </tr>\n",
              "    <tr>\n",
              "      <th>2</th>\n",
              "      <td>why do so many people think Japanese be superi...</td>\n",
              "      <td>1</td>\n",
              "    </tr>\n",
              "    <tr>\n",
              "      <th>3</th>\n",
              "      <td>how do I start to invest Bitcoin</td>\n",
              "      <td>0</td>\n",
              "    </tr>\n",
              "    <tr>\n",
              "      <th>4</th>\n",
              "      <td>be get   in th CBSE humanity good  will I scor...</td>\n",
              "      <td>0</td>\n",
              "    </tr>\n",
              "    <tr>\n",
              "      <th>...</th>\n",
              "      <td>...</td>\n",
              "      <td>...</td>\n",
              "    </tr>\n",
              "    <tr>\n",
              "      <th>161614</th>\n",
              "      <td>what should I do now have only  day leave for ...</td>\n",
              "      <td>0</td>\n",
              "    </tr>\n",
              "    <tr>\n",
              "      <th>161615</th>\n",
              "      <td>what be the requirement in an invoice under GS...</td>\n",
              "      <td>0</td>\n",
              "    </tr>\n",
              "    <tr>\n",
              "      <th>161616</th>\n",
              "      <td>what would the USA be like today if Obama have...</td>\n",
              "      <td>1</td>\n",
              "    </tr>\n",
              "    <tr>\n",
              "      <th>161617</th>\n",
              "      <td>which Indian  author book  novel have drive yo...</td>\n",
              "      <td>1</td>\n",
              "    </tr>\n",
              "    <tr>\n",
              "      <th>161618</th>\n",
              "      <td>why be it that Samsung and iPhone screen break...</td>\n",
              "      <td>1</td>\n",
              "    </tr>\n",
              "  </tbody>\n",
              "</table>\n",
              "<p>161619 rows × 2 columns</p>\n",
              "</div>\n",
              "      <button class=\"colab-df-convert\" onclick=\"convertToInteractive('df-157b898b-ae62-4273-b340-dd22a0bc161a')\"\n",
              "              title=\"Convert this dataframe to an interactive table.\"\n",
              "              style=\"display:none;\">\n",
              "        \n",
              "  <svg xmlns=\"http://www.w3.org/2000/svg\" height=\"24px\"viewBox=\"0 0 24 24\"\n",
              "       width=\"24px\">\n",
              "    <path d=\"M0 0h24v24H0V0z\" fill=\"none\"/>\n",
              "    <path d=\"M18.56 5.44l.94 2.06.94-2.06 2.06-.94-2.06-.94-.94-2.06-.94 2.06-2.06.94zm-11 1L8.5 8.5l.94-2.06 2.06-.94-2.06-.94L8.5 2.5l-.94 2.06-2.06.94zm10 10l.94 2.06.94-2.06 2.06-.94-2.06-.94-.94-2.06-.94 2.06-2.06.94z\"/><path d=\"M17.41 7.96l-1.37-1.37c-.4-.4-.92-.59-1.43-.59-.52 0-1.04.2-1.43.59L10.3 9.45l-7.72 7.72c-.78.78-.78 2.05 0 2.83L4 21.41c.39.39.9.59 1.41.59.51 0 1.02-.2 1.41-.59l7.78-7.78 2.81-2.81c.8-.78.8-2.07 0-2.86zM5.41 20L4 18.59l7.72-7.72 1.47 1.35L5.41 20z\"/>\n",
              "  </svg>\n",
              "      </button>\n",
              "      \n",
              "  <style>\n",
              "    .colab-df-container {\n",
              "      display:flex;\n",
              "      flex-wrap:wrap;\n",
              "      gap: 12px;\n",
              "    }\n",
              "\n",
              "    .colab-df-convert {\n",
              "      background-color: #E8F0FE;\n",
              "      border: none;\n",
              "      border-radius: 50%;\n",
              "      cursor: pointer;\n",
              "      display: none;\n",
              "      fill: #1967D2;\n",
              "      height: 32px;\n",
              "      padding: 0 0 0 0;\n",
              "      width: 32px;\n",
              "    }\n",
              "\n",
              "    .colab-df-convert:hover {\n",
              "      background-color: #E2EBFA;\n",
              "      box-shadow: 0px 1px 2px rgba(60, 64, 67, 0.3), 0px 1px 3px 1px rgba(60, 64, 67, 0.15);\n",
              "      fill: #174EA6;\n",
              "    }\n",
              "\n",
              "    [theme=dark] .colab-df-convert {\n",
              "      background-color: #3B4455;\n",
              "      fill: #D2E3FC;\n",
              "    }\n",
              "\n",
              "    [theme=dark] .colab-df-convert:hover {\n",
              "      background-color: #434B5C;\n",
              "      box-shadow: 0px 1px 3px 1px rgba(0, 0, 0, 0.15);\n",
              "      filter: drop-shadow(0px 1px 2px rgba(0, 0, 0, 0.3));\n",
              "      fill: #FFFFFF;\n",
              "    }\n",
              "  </style>\n",
              "\n",
              "      <script>\n",
              "        const buttonEl =\n",
              "          document.querySelector('#df-157b898b-ae62-4273-b340-dd22a0bc161a button.colab-df-convert');\n",
              "        buttonEl.style.display =\n",
              "          google.colab.kernel.accessAllowed ? 'block' : 'none';\n",
              "\n",
              "        async function convertToInteractive(key) {\n",
              "          const element = document.querySelector('#df-157b898b-ae62-4273-b340-dd22a0bc161a');\n",
              "          const dataTable =\n",
              "            await google.colab.kernel.invokeFunction('convertToInteractive',\n",
              "                                                     [key], {});\n",
              "          if (!dataTable) return;\n",
              "\n",
              "          const docLinkHtml = 'Like what you see? Visit the ' +\n",
              "            '<a target=\"_blank\" href=https://colab.research.google.com/notebooks/data_table.ipynb>data table notebook</a>'\n",
              "            + ' to learn more about interactive tables.';\n",
              "          element.innerHTML = '';\n",
              "          dataTable['output_type'] = 'display_data';\n",
              "          await google.colab.output.renderOutput(dataTable, element);\n",
              "          const docLink = document.createElement('div');\n",
              "          docLink.innerHTML = docLinkHtml;\n",
              "          element.appendChild(docLink);\n",
              "        }\n",
              "      </script>\n",
              "    </div>\n",
              "  </div>\n",
              "  "
            ]
          },
          "metadata": {},
          "execution_count": 4
        }
      ],
      "source": [
        "data=pd.read_csv('/content/drive/MyDrive/dataset-quora/primaryDataset.csv') #THIS IS THE LEMMATIZED DATA\n",
        "data"
      ]
    },
    {
      "cell_type": "code",
      "source": [
        "data=data.dropna()"
      ],
      "metadata": {
        "id": "cD3DGzxbzb86"
      },
      "id": "cD3DGzxbzb86",
      "execution_count": 5,
      "outputs": []
    },
    {
      "cell_type": "markdown",
      "id": "7d578c5d",
      "metadata": {
        "papermill": {
          "duration": 0.005747,
          "end_time": "2022-08-29T08:58:16.888686",
          "exception": false,
          "start_time": "2022-08-29T08:58:16.882939",
          "status": "completed"
        },
        "tags": [],
        "id": "7d578c5d"
      },
      "source": [
        "# Data cleaning(removing ?.!*@#%*_+}{ etc..)"
      ]
    },
    {
      "cell_type": "code",
      "execution_count": 6,
      "id": "790e5972",
      "metadata": {
        "execution": {
          "iopub.execute_input": "2022-08-29T08:58:16.902408Z",
          "iopub.status.busy": "2022-08-29T08:58:16.901725Z",
          "iopub.status.idle": "2022-08-29T08:58:16.907506Z",
          "shell.execute_reply": "2022-08-29T08:58:16.906653Z"
        },
        "papermill": {
          "duration": 0.014724,
          "end_time": "2022-08-29T08:58:16.909499",
          "exception": false,
          "start_time": "2022-08-29T08:58:16.894775",
          "status": "completed"
        },
        "tags": [],
        "id": "790e5972"
      },
      "outputs": [],
      "source": [
        "import re\n",
        "\n",
        "def clean_text(series):\n",
        "    res=[]\n",
        "    for row in series:\n",
        "        text = re.sub(r'[^(a-zA-Z)\\s]','', row)\n",
        "        res.append(text)\n",
        "    res=pd.Series(res)\n",
        "    return res"
      ]
    },
    {
      "cell_type": "code",
      "execution_count": 7,
      "id": "feb566e4",
      "metadata": {
        "execution": {
          "iopub.execute_input": "2022-08-29T08:58:16.924655Z",
          "iopub.status.busy": "2022-08-29T08:58:16.923699Z",
          "iopub.status.idle": "2022-08-29T08:58:17.341438Z",
          "shell.execute_reply": "2022-08-29T08:58:17.340397Z"
        },
        "papermill": {
          "duration": 0.428151,
          "end_time": "2022-08-29T08:58:17.343824",
          "exception": false,
          "start_time": "2022-08-29T08:58:16.915673",
          "status": "completed"
        },
        "tags": [],
        "id": "feb566e4"
      },
      "outputs": [],
      "source": [
        "cleaned_x=clean_text(data[\"0\"])"
      ]
    },
    {
      "cell_type": "code",
      "execution_count": 8,
      "id": "705f599a",
      "metadata": {
        "execution": {
          "iopub.execute_input": "2022-08-29T08:58:17.359864Z",
          "iopub.status.busy": "2022-08-29T08:58:17.357921Z",
          "iopub.status.idle": "2022-08-29T08:58:17.368479Z",
          "shell.execute_reply": "2022-08-29T08:58:17.367361Z"
        },
        "papermill": {
          "duration": 0.020803,
          "end_time": "2022-08-29T08:58:17.371330",
          "exception": false,
          "start_time": "2022-08-29T08:58:17.350527",
          "status": "completed"
        },
        "tags": [],
        "colab": {
          "base_uri": "https://localhost:8080/"
        },
        "id": "705f599a",
        "outputId": "2d647c2d-6bcf-4712-cf87-be3d98eca405"
      },
      "outputs": [
        {
          "output_type": "execute_result",
          "data": {
            "text/plain": [
              "0                      how long be taiwanese people behind \n",
              "1              what be some computer store in Dayton  Ohio \n",
              "2         why do so many people think Japanese be superi...\n",
              "3                         how do I start to invest Bitcoin \n",
              "4         be get   in th CBSE humanity good  will I scor...\n",
              "                                ...                        \n",
              "161614    what should I do now have only  day leave for ...\n",
              "161615    what be the requirement in an invoice under GS...\n",
              "161616    what would the USA be like today if Obama have...\n",
              "161617    which Indian  author book  novel have drive yo...\n",
              "161618    why be it that Samsung and iPhone screen break...\n",
              "Length: 161619, dtype: object"
            ]
          },
          "metadata": {},
          "execution_count": 8
        }
      ],
      "source": [
        "cleaned_x"
      ]
    },
    {
      "cell_type": "code",
      "execution_count": 9,
      "id": "5baad04b",
      "metadata": {
        "execution": {
          "iopub.execute_input": "2022-08-29T08:58:17.386394Z",
          "iopub.status.busy": "2022-08-29T08:58:17.385365Z",
          "iopub.status.idle": "2022-08-29T08:58:17.393766Z",
          "shell.execute_reply": "2022-08-29T08:58:17.392629Z"
        },
        "papermill": {
          "duration": 0.018569,
          "end_time": "2022-08-29T08:58:17.396437",
          "exception": false,
          "start_time": "2022-08-29T08:58:17.377868",
          "status": "completed"
        },
        "tags": [],
        "colab": {
          "base_uri": "https://localhost:8080/"
        },
        "id": "5baad04b",
        "outputId": "89ff16fd-fb32-4744-8585-d1bf83575da8"
      },
      "outputs": [
        {
          "output_type": "execute_result",
          "data": {
            "text/plain": [
              "0         1\n",
              "1         0\n",
              "2         1\n",
              "3         0\n",
              "4         0\n",
              "         ..\n",
              "161614    0\n",
              "161615    0\n",
              "161616    1\n",
              "161617    1\n",
              "161618    1\n",
              "Name: target, Length: 161619, dtype: int64"
            ]
          },
          "metadata": {},
          "execution_count": 9
        }
      ],
      "source": [
        "y=data[\"target\"]\n",
        "y"
      ]
    },
    {
      "cell_type": "code",
      "execution_count": 39,
      "id": "00fbc540",
      "metadata": {
        "execution": {
          "iopub.execute_input": "2022-08-29T08:58:17.410630Z",
          "iopub.status.busy": "2022-08-29T08:58:17.410324Z",
          "iopub.status.idle": "2022-08-29T08:58:22.867416Z",
          "shell.execute_reply": "2022-08-29T08:58:22.864400Z"
        },
        "papermill": {
          "duration": 5.468115,
          "end_time": "2022-08-29T08:58:22.870967",
          "exception": false,
          "start_time": "2022-08-29T08:58:17.402852",
          "status": "completed"
        },
        "tags": [],
        "id": "00fbc540"
      },
      "outputs": [],
      "source": [
        "import tensorflow as tf\n",
        "from tensorflow.keras.preprocessing.text import Tokenizer\n",
        "from tensorflow.keras.preprocessing.sequence import pad_sequences\n",
        "from tensorflow.keras.models import Sequential\n",
        "from tensorflow.keras.layers import Dense\n",
        "from tensorflow.keras.layers import Flatten,Dropout\n",
        "from tensorflow.keras.layers import Embedding,Bidirectional,LSTM,GRU,GlobalMaxPool1D"
      ]
    },
    {
      "cell_type": "markdown",
      "id": "0f0445dc",
      "metadata": {
        "papermill": {
          "duration": 0.007175,
          "end_time": "2022-08-29T08:58:22.893451",
          "exception": false,
          "start_time": "2022-08-29T08:58:22.886276",
          "status": "completed"
        },
        "tags": [],
        "id": "0f0445dc"
      },
      "source": [
        "# **One Hot encoding**"
      ]
    },
    {
      "cell_type": "code",
      "execution_count": 11,
      "id": "92394e6d",
      "metadata": {
        "execution": {
          "iopub.execute_input": "2022-08-29T08:58:22.923514Z",
          "iopub.status.busy": "2022-08-29T08:58:22.922738Z",
          "iopub.status.idle": "2022-08-29T08:58:26.103135Z",
          "shell.execute_reply": "2022-08-29T08:58:26.102078Z"
        },
        "papermill": {
          "duration": 3.197885,
          "end_time": "2022-08-29T08:58:26.105614",
          "exception": false,
          "start_time": "2022-08-29T08:58:22.907729",
          "status": "completed"
        },
        "tags": [],
        "id": "92394e6d"
      },
      "outputs": [],
      "source": [
        "vocab_size=50000\n",
        "max_len=100\n",
        "tokenizer=Tokenizer(num_words=vocab_size)\n",
        "fit_text=list(cleaned_x)"
      ]
    },
    {
      "cell_type": "code",
      "source": [
        "tokenizer.fit_on_texts(fit_text)\n",
        "text=tokenizer.texts_to_sequences(cleaned_x)"
      ],
      "metadata": {
        "id": "4yJZ4aQO2738"
      },
      "id": "4yJZ4aQO2738",
      "execution_count": 18,
      "outputs": []
    },
    {
      "cell_type": "code",
      "source": [
        "print(len(tokenizer.word_index))"
      ],
      "metadata": {
        "colab": {
          "base_uri": "https://localhost:8080/"
        },
        "id": "mfMfvJhk37-x",
        "outputId": "1c21bf67-f4c6-412f-c7b8-b40c362c48e4"
      },
      "id": "mfMfvJhk37-x",
      "execution_count": 20,
      "outputs": [
        {
          "output_type": "stream",
          "name": "stdout",
          "text": [
            "51781\n"
          ]
        }
      ]
    },
    {
      "cell_type": "code",
      "execution_count": 31,
      "id": "ea36a5e1",
      "metadata": {
        "execution": {
          "iopub.execute_input": "2022-08-29T08:58:26.121224Z",
          "iopub.status.busy": "2022-08-29T08:58:26.119526Z",
          "iopub.status.idle": "2022-08-29T08:58:26.128887Z",
          "shell.execute_reply": "2022-08-29T08:58:26.128017Z"
        },
        "papermill": {
          "duration": 0.018935,
          "end_time": "2022-08-29T08:58:26.131122",
          "exception": false,
          "start_time": "2022-08-29T08:58:26.112187",
          "status": "completed"
        },
        "tags": [],
        "colab": {
          "base_uri": "https://localhost:8080/",
          "height": 35
        },
        "id": "ea36a5e1",
        "outputId": "9ba2a1f1-6cdf-4869-ce86-66bbab466da2"
      },
      "outputs": [
        {
          "output_type": "execute_result",
          "data": {
            "text/plain": [
              "'what be some computer store in Dayton  Ohio '"
            ],
            "application/vnd.google.colaboratory.intrinsic+json": {
              "type": "string"
            }
          },
          "metadata": {},
          "execution_count": 31
        }
      ],
      "source": [
        "cleaned_x[1]"
      ]
    },
    {
      "cell_type": "code",
      "execution_count": 32,
      "id": "63349265",
      "metadata": {
        "execution": {
          "iopub.execute_input": "2022-08-29T08:58:26.144638Z",
          "iopub.status.busy": "2022-08-29T08:58:26.144352Z",
          "iopub.status.idle": "2022-08-29T08:58:26.153485Z",
          "shell.execute_reply": "2022-08-29T08:58:26.152488Z"
        },
        "papermill": {
          "duration": 0.018412,
          "end_time": "2022-08-29T08:58:26.155619",
          "exception": false,
          "start_time": "2022-08-29T08:58:26.137207",
          "status": "completed"
        },
        "tags": [],
        "colab": {
          "base_uri": "https://localhost:8080/"
        },
        "id": "63349265",
        "outputId": "caccfebc-1c09-4d11-d43a-ea7b8c1c2ac5"
      },
      "outputs": [
        {
          "output_type": "execute_result",
          "data": {
            "text/plain": [
              "[10, 1, 56, 495, 953, 8, 19130, 6123]"
            ]
          },
          "metadata": {},
          "execution_count": 32
        }
      ],
      "source": [
        "text[1]"
      ]
    },
    {
      "cell_type": "markdown",
      "id": "b31c19b4",
      "metadata": {
        "papermill": {
          "duration": 0.006005,
          "end_time": "2022-08-29T08:58:26.167792",
          "exception": false,
          "start_time": "2022-08-29T08:58:26.161787",
          "status": "completed"
        },
        "tags": [],
        "id": "b31c19b4"
      },
      "source": [
        "# **Padding the Sequence**"
      ]
    },
    {
      "cell_type": "code",
      "execution_count": 33,
      "id": "070738c1",
      "metadata": {
        "execution": {
          "iopub.execute_input": "2022-08-29T08:58:26.181843Z",
          "iopub.status.busy": "2022-08-29T08:58:26.181043Z",
          "iopub.status.idle": "2022-08-29T08:58:26.663530Z",
          "shell.execute_reply": "2022-08-29T08:58:26.662516Z"
        },
        "papermill": {
          "duration": 0.492094,
          "end_time": "2022-08-29T08:58:26.665979",
          "exception": false,
          "start_time": "2022-08-29T08:58:26.173885",
          "status": "completed"
        },
        "tags": [],
        "id": "070738c1"
      },
      "outputs": [],
      "source": [
        "padded_x=pad_sequences(text,maxlen=max_len,padding='pre')"
      ]
    },
    {
      "cell_type": "code",
      "execution_count": 34,
      "id": "39c1b2f0",
      "metadata": {
        "execution": {
          "iopub.execute_input": "2022-08-29T08:58:26.680702Z",
          "iopub.status.busy": "2022-08-29T08:58:26.679845Z",
          "iopub.status.idle": "2022-08-29T08:58:26.689179Z",
          "shell.execute_reply": "2022-08-29T08:58:26.688273Z"
        },
        "papermill": {
          "duration": 0.018603,
          "end_time": "2022-08-29T08:58:26.691180",
          "exception": false,
          "start_time": "2022-08-29T08:58:26.672577",
          "status": "completed"
        },
        "tags": [],
        "colab": {
          "base_uri": "https://localhost:8080/"
        },
        "id": "39c1b2f0",
        "outputId": "d0bb7a48-69b6-4c6b-adcd-414c46d83966"
      },
      "outputs": [
        {
          "output_type": "execute_result",
          "data": {
            "text/plain": [
              "array([[    0,     0,     0, ...,  2587,    21,   519],\n",
              "       [    0,     0,     0, ...,     8, 19130,  6123],\n",
              "       [    0,     0,     0, ...,  2544,     4,   365],\n",
              "       ...,\n",
              "       [    0,     0,     0, ...,    16,     1,    66],\n",
              "       [    0,     0,     0, ...,   805,   315,    15],\n",
              "       [    0,     0,     0, ...,  1155,    25,    10]], dtype=int32)"
            ]
          },
          "metadata": {},
          "execution_count": 34
        }
      ],
      "source": [
        "padded_x"
      ]
    },
    {
      "cell_type": "code",
      "execution_count": 35,
      "id": "bd01efdb",
      "metadata": {
        "execution": {
          "iopub.execute_input": "2022-08-29T08:58:26.705630Z",
          "iopub.status.busy": "2022-08-29T08:58:26.704675Z",
          "iopub.status.idle": "2022-08-29T08:58:27.312576Z",
          "shell.execute_reply": "2022-08-29T08:58:27.311439Z"
        },
        "papermill": {
          "duration": 0.618821,
          "end_time": "2022-08-29T08:58:27.316151",
          "exception": false,
          "start_time": "2022-08-29T08:58:26.697330",
          "status": "completed"
        },
        "tags": [],
        "colab": {
          "base_uri": "https://localhost:8080/"
        },
        "id": "bd01efdb",
        "outputId": "0a3fc98b-a48d-4a80-d39c-d4e0ef05c4f0"
      },
      "outputs": [
        {
          "output_type": "execute_result",
          "data": {
            "text/plain": [
              "((121214, 100), (121214,))"
            ]
          },
          "metadata": {},
          "execution_count": 35
        }
      ],
      "source": [
        "from sklearn.model_selection import train_test_split\n",
        "xtrain,xtest,ytrain,ytest=train_test_split(padded_x,y,random_state=42)\n",
        "xtrain.shape,ytrain.shape"
      ]
    },
    {
      "cell_type": "markdown",
      "id": "32c7f61b",
      "metadata": {
        "papermill": {
          "duration": 0.006714,
          "end_time": "2022-08-29T08:58:27.333731",
          "exception": false,
          "start_time": "2022-08-29T08:58:27.327017",
          "status": "completed"
        },
        "tags": [],
        "id": "32c7f61b"
      },
      "source": [
        "# **BIDIRECTIONAL LSTM MODEL**"
      ]
    },
    {
      "cell_type": "code",
      "execution_count": 55,
      "id": "d952fc6d",
      "metadata": {
        "execution": {
          "iopub.execute_input": "2022-08-29T08:58:27.347837Z",
          "iopub.status.busy": "2022-08-29T08:58:27.347520Z",
          "iopub.status.idle": "2022-08-29T08:58:30.809773Z",
          "shell.execute_reply": "2022-08-29T08:58:30.808672Z"
        },
        "papermill": {
          "duration": 3.472062,
          "end_time": "2022-08-29T08:58:30.812330",
          "exception": false,
          "start_time": "2022-08-29T08:58:27.340268",
          "status": "completed"
        },
        "tags": [],
        "id": "d952fc6d"
      },
      "outputs": [],
      "source": [
        "model=Sequential([\n",
        "    Embedding(vocab_size,360,input_length=max_len),\n",
        "    Bidirectional(LSTM(128,return_sequences=True)),\n",
        "    Dropout(0.4),\n",
        "    Bidirectional(LSTM(64,return_sequences=True)),\n",
        "    Dropout(0.4),\n",
        "    Bidirectional(LSTM(32,return_sequences=True)),\n",
        "    GlobalMaxPool1D(),\n",
        "    Dense(10,activation=\"relu\"),\n",
        "    Dropout(0.2),\n",
        "    Dense(1,activation=\"sigmoid\")\n",
        "])"
      ]
    },
    {
      "cell_type": "code",
      "source": [
        "METRICS = [\n",
        "      tf.keras.metrics.BinaryAccuracy(name='accuracy'),\n",
        "      tf.keras.metrics.Precision(name='precision'),\n",
        "      tf.keras.metrics.Recall(name='recall')\n",
        "]\n",
        "\n",
        "model.compile(optimizer=\"adam\",\n",
        "             loss=\"binary_crossentropy\",\n",
        "             metrics=METRICS)\n",
        "\n",
        "\n",
        "model.summary()"
      ],
      "metadata": {
        "colab": {
          "base_uri": "https://localhost:8080/"
        },
        "id": "3pbSXxeq0Y4P",
        "outputId": "db2f9ae9-7700-4d17-bec2-1f491c194846"
      },
      "id": "3pbSXxeq0Y4P",
      "execution_count": 56,
      "outputs": [
        {
          "output_type": "stream",
          "name": "stdout",
          "text": [
            "Model: \"sequential_6\"\n",
            "_________________________________________________________________\n",
            " Layer (type)                Output Shape              Param #   \n",
            "=================================================================\n",
            " embedding_6 (Embedding)     (None, 100, 360)          18000000  \n",
            "                                                                 \n",
            " bidirectional_18 (Bidirecti  (None, 100, 256)         500736    \n",
            " onal)                                                           \n",
            "                                                                 \n",
            " dropout_16 (Dropout)        (None, 100, 256)          0         \n",
            "                                                                 \n",
            " bidirectional_19 (Bidirecti  (None, 100, 128)         164352    \n",
            " onal)                                                           \n",
            "                                                                 \n",
            " dropout_17 (Dropout)        (None, 100, 128)          0         \n",
            "                                                                 \n",
            " bidirectional_20 (Bidirecti  (None, 100, 64)          41216     \n",
            " onal)                                                           \n",
            "                                                                 \n",
            " global_max_pooling1d_5 (Glo  (None, 64)               0         \n",
            " balMaxPooling1D)                                                \n",
            "                                                                 \n",
            " dense_16 (Dense)            (None, 10)                650       \n",
            "                                                                 \n",
            " dropout_18 (Dropout)        (None, 10)                0         \n",
            "                                                                 \n",
            " dense_17 (Dense)            (None, 1)                 11        \n",
            "                                                                 \n",
            "=================================================================\n",
            "Total params: 18,706,965\n",
            "Trainable params: 18,706,965\n",
            "Non-trainable params: 0\n",
            "_________________________________________________________________\n"
          ]
        }
      ]
    },
    {
      "cell_type": "code",
      "execution_count": 57,
      "id": "680d9dea",
      "metadata": {
        "execution": {
          "iopub.execute_input": "2022-08-29T08:58:30.827634Z",
          "iopub.status.busy": "2022-08-29T08:58:30.827332Z",
          "iopub.status.idle": "2022-08-29T09:05:42.841951Z",
          "shell.execute_reply": "2022-08-29T09:05:42.840977Z"
        },
        "papermill": {
          "duration": 432.360401,
          "end_time": "2022-08-29T09:05:43.179563",
          "exception": false,
          "start_time": "2022-08-29T08:58:30.819162",
          "status": "completed"
        },
        "tags": [],
        "colab": {
          "base_uri": "https://localhost:8080/"
        },
        "id": "680d9dea",
        "outputId": "f655f0e1-baa2-45e4-892f-598068e8772e"
      },
      "outputs": [
        {
          "output_type": "stream",
          "name": "stdout",
          "text": [
            "Epoch 1/2\n",
            "3788/3788 [==============================] - 181s 45ms/step - loss: 0.3235 - accuracy: 0.8738 - precision: 0.8644 - recall: 0.8869 - val_loss: 0.2791 - val_accuracy: 0.8911 - val_precision: 0.8734 - val_recall: 0.9142\n",
            "Epoch 2/2\n",
            "3788/3788 [==============================] - 170s 45ms/step - loss: 0.2450 - accuracy: 0.9101 - precision: 0.8957 - recall: 0.9285 - val_loss: 0.2796 - val_accuracy: 0.8905 - val_precision: 0.8841 - val_recall: 0.8981\n"
          ]
        },
        {
          "output_type": "execute_result",
          "data": {
            "text/plain": [
              "<keras.callbacks.History at 0x7f6faa41f210>"
            ]
          },
          "metadata": {},
          "execution_count": 57
        }
      ],
      "source": [
        "model.fit(xtrain,ytrain,epochs=2,validation_data=(xtest,ytest))"
      ]
    },
    {
      "cell_type": "code",
      "execution_count": 58,
      "id": "b24c3418",
      "metadata": {
        "execution": {
          "iopub.execute_input": "2022-08-29T09:05:43.858525Z",
          "iopub.status.busy": "2022-08-29T09:05:43.858173Z",
          "iopub.status.idle": "2022-08-29T09:05:55.050006Z",
          "shell.execute_reply": "2022-08-29T09:05:55.049125Z"
        },
        "papermill": {
          "duration": 11.534433,
          "end_time": "2022-08-29T09:05:55.052094",
          "exception": false,
          "start_time": "2022-08-29T09:05:43.517661",
          "status": "completed"
        },
        "tags": [],
        "colab": {
          "base_uri": "https://localhost:8080/"
        },
        "id": "b24c3418",
        "outputId": "c89f4c2b-8fc6-41d5-a4f3-6292ff788d9d"
      },
      "outputs": [
        {
          "output_type": "stream",
          "name": "stdout",
          "text": [
            "1263/1263 [==============================] - 20s 16ms/step - loss: 0.2796 - accuracy: 0.8905 - precision: 0.8841 - recall: 0.8981\n"
          ]
        },
        {
          "output_type": "execute_result",
          "data": {
            "text/plain": [
              "[0.2796241343021393,\n",
              " 0.8904591202735901,\n",
              " 0.8840969204902649,\n",
              " 0.8981343507766724]"
            ]
          },
          "metadata": {},
          "execution_count": 58
        }
      ],
      "source": [
        "model.evaluate(xtest,ytest)"
      ]
    },
    {
      "cell_type": "code",
      "execution_count": 65,
      "id": "238f8804",
      "metadata": {
        "execution": {
          "iopub.execute_input": "2022-08-29T09:05:55.795478Z",
          "iopub.status.busy": "2022-08-29T09:05:55.794930Z",
          "iopub.status.idle": "2022-08-29T09:06:16.747414Z",
          "shell.execute_reply": "2022-08-29T09:06:16.746400Z"
        },
        "papermill": {
          "duration": 21.359824,
          "end_time": "2022-08-29T09:06:16.759874",
          "exception": false,
          "start_time": "2022-08-29T09:05:55.400050",
          "status": "completed"
        },
        "tags": [],
        "id": "238f8804",
        "colab": {
          "base_uri": "https://localhost:8080/"
        },
        "outputId": "3b6562ae-3ce6-424b-ee46-00bf02d28172"
      },
      "outputs": [
        {
          "output_type": "stream",
          "name": "stderr",
          "text": [
            "WARNING:absl:Found untraced functions such as lstm_cell_55_layer_call_fn, lstm_cell_55_layer_call_and_return_conditional_losses, lstm_cell_56_layer_call_fn, lstm_cell_56_layer_call_and_return_conditional_losses, lstm_cell_58_layer_call_fn while saving (showing 5 of 12). These functions will not be directly callable after loading.\n",
            "WARNING:absl:<keras.layers.recurrent.LSTMCell object at 0x7f6faf13a810> has the same name 'LSTMCell' as a built-in Keras object. Consider renaming <class 'keras.layers.recurrent.LSTMCell'> to avoid naming conflicts when loading with `tf.keras.models.load_model`. If renaming is not possible, pass the object in the `custom_objects` parameter of the load function.\n",
            "WARNING:absl:<keras.layers.recurrent.LSTMCell object at 0x7f6faa8b9350> has the same name 'LSTMCell' as a built-in Keras object. Consider renaming <class 'keras.layers.recurrent.LSTMCell'> to avoid naming conflicts when loading with `tf.keras.models.load_model`. If renaming is not possible, pass the object in the `custom_objects` parameter of the load function.\n",
            "WARNING:absl:<keras.layers.recurrent.LSTMCell object at 0x7f6faa8cb150> has the same name 'LSTMCell' as a built-in Keras object. Consider renaming <class 'keras.layers.recurrent.LSTMCell'> to avoid naming conflicts when loading with `tf.keras.models.load_model`. If renaming is not possible, pass the object in the `custom_objects` parameter of the load function.\n",
            "WARNING:absl:<keras.layers.recurrent.LSTMCell object at 0x7f6faa8cbe10> has the same name 'LSTMCell' as a built-in Keras object. Consider renaming <class 'keras.layers.recurrent.LSTMCell'> to avoid naming conflicts when loading with `tf.keras.models.load_model`. If renaming is not possible, pass the object in the `custom_objects` parameter of the load function.\n",
            "WARNING:absl:<keras.layers.recurrent.LSTMCell object at 0x7f6faa8dac50> has the same name 'LSTMCell' as a built-in Keras object. Consider renaming <class 'keras.layers.recurrent.LSTMCell'> to avoid naming conflicts when loading with `tf.keras.models.load_model`. If renaming is not possible, pass the object in the `custom_objects` parameter of the load function.\n",
            "WARNING:absl:<keras.layers.recurrent.LSTMCell object at 0x7f6faa8e6950> has the same name 'LSTMCell' as a built-in Keras object. Consider renaming <class 'keras.layers.recurrent.LSTMCell'> to avoid naming conflicts when loading with `tf.keras.models.load_model`. If renaming is not possible, pass the object in the `custom_objects` parameter of the load function.\n"
          ]
        }
      ],
      "source": [
        "model.save(\"/content/drive/MyDrive/dataset-quora/Bidirectional_lstm_Model\")"
      ]
    },
    {
      "cell_type": "markdown",
      "id": "153b989b",
      "metadata": {
        "papermill": {
          "duration": 0.35737,
          "end_time": "2022-08-29T09:06:17.464112",
          "exception": false,
          "start_time": "2022-08-29T09:06:17.106742",
          "status": "completed"
        },
        "tags": [],
        "id": "153b989b"
      },
      "source": [
        "<a href=\"./BidirectionalLSTM\"> Download File </a>"
      ]
    },
    {
      "cell_type": "code",
      "source": [
        "# saving\n",
        "with open('/content/drive/MyDrive/dataset-quora/tokenizer.pickle', 'wb') as handle:\n",
        "    pickle.dump(tokenizer, handle, protocol=pickle.HIGHEST_PROTOCOL)"
      ],
      "metadata": {
        "id": "lmovW1QCHUWe"
      },
      "id": "lmovW1QCHUWe",
      "execution_count": 68,
      "outputs": []
    },
    {
      "cell_type": "code",
      "source": [
        "# loading\n",
        "with open('tokenizer.pickle', 'rb') as handle:\n",
        "    tokenizer = pickle.load(handle)"
      ],
      "metadata": {
        "id": "EHqOhRqsHtKx"
      },
      "id": "EHqOhRqsHtKx",
      "execution_count": null,
      "outputs": []
    },
    {
      "cell_type": "markdown",
      "source": [
        "# **EVALUATION**"
      ],
      "metadata": {
        "id": "XE3IKjy_-FhG"
      },
      "id": "XE3IKjy_-FhG"
    },
    {
      "cell_type": "code",
      "source": [
        "from sklearn.metrics import confusion_matrix,classification_report\n",
        "import seaborn as sns\n",
        "import matplotlib.pyplot as plt"
      ],
      "metadata": {
        "id": "1OYmmi-C7G06"
      },
      "id": "1OYmmi-C7G06",
      "execution_count": 59,
      "outputs": []
    },
    {
      "cell_type": "code",
      "source": [
        "y_pred=model.predict(xtest)"
      ],
      "metadata": {
        "id": "3GGxpXCs9Opy"
      },
      "id": "3GGxpXCs9Opy",
      "execution_count": 60,
      "outputs": []
    },
    {
      "cell_type": "code",
      "source": [
        "y_p=[]\n",
        "for i in y_pred:\n",
        "    if(i>=0.5):\n",
        "        y_p.append(1)\n",
        "    else:\n",
        "        y_p.append(0)"
      ],
      "metadata": {
        "id": "a3gp6GMD9SwS"
      },
      "id": "a3gp6GMD9SwS",
      "execution_count": 61,
      "outputs": []
    },
    {
      "cell_type": "code",
      "source": [
        "confusion=confusion_matrix(ytest,y_p)"
      ],
      "metadata": {
        "id": "jq4cOk4Z9c2K"
      },
      "id": "jq4cOk4Z9c2K",
      "execution_count": 62,
      "outputs": []
    },
    {
      "cell_type": "markdown",
      "source": [
        "# **CONFUSION MATRIX**"
      ],
      "metadata": {
        "id": "mL6UxwHw-V4h"
      },
      "id": "mL6UxwHw-V4h"
    },
    {
      "cell_type": "code",
      "source": [
        "plt.figure(figsize = (10,7))\n",
        "sns.heatmap(confusion, annot=True,fmt='g',cmap='Blues')\n",
        "plt.ylabel(\"actual\")\n",
        "plt.xlabel('predicted');"
      ],
      "metadata": {
        "colab": {
          "base_uri": "https://localhost:8080/",
          "height": 444
        },
        "id": "qvTpc8j09f4i",
        "outputId": "d9804592-b082-4b50-9331-6df15dfa4f82"
      },
      "id": "qvTpc8j09f4i",
      "execution_count": 63,
      "outputs": [
        {
          "output_type": "display_data",
          "data": {
            "text/plain": [
              "<Figure size 720x504 with 2 Axes>"
            ],
            "image/png": "[encoded data removed]"
          },
          "metadata": {
            "needs_background": "light"
          }
        }
      ]
    },
    {
      "cell_type": "code",
      "source": [
        "print(\"     Classification report of Word2vec + LSTM model\\n\")\n",
        "print(classification_report(ytest,y_p))"
      ],
      "metadata": {
        "colab": {
          "base_uri": "https://localhost:8080/"
        },
        "id": "wAX79Xn-9l3S",
        "outputId": "6eeead95-0cd1-4dca-c33e-de3a3d07c5c8"
      },
      "id": "wAX79Xn-9l3S",
      "execution_count": 64,
      "outputs": [
        {
          "output_type": "stream",
          "name": "stdout",
          "text": [
            "     Classification report of Word2vec + LSTM model\n",
            "\n",
            "              precision    recall  f1-score   support\n",
            "\n",
            "           0       0.90      0.88      0.89     20251\n",
            "           1       0.88      0.90      0.89     20154\n",
            "\n",
            "    accuracy                           0.89     40405\n",
            "   macro avg       0.89      0.89      0.89     40405\n",
            "weighted avg       0.89      0.89      0.89     40405\n",
            "\n"
          ]
        }
      ]
    },
    {
      "cell_type": "markdown",
      "source": [
        "# **PREDICTION FUNCTION**"
      ],
      "metadata": {
        "id": "6wRvdZ0Q-bjs"
      },
      "id": "6wRvdZ0Q-bjs"
    },
    {
      "cell_type": "code",
      "source": [
        "def lemmatize(df):\n",
        "    res=[]\n",
        "    for row in df:\n",
        "        doc=nlp(row)\n",
        "        row=\" \".join([w.lemma_ for w in nlp(row)])\n",
        "        res.append(row)\n",
        "    return res"
      ],
      "metadata": {
        "id": "P7givDx_C3T1"
      },
      "id": "P7givDx_C3T1",
      "execution_count": 69,
      "outputs": []
    },
    {
      "cell_type": "code",
      "source": [
        "def Predict(stre):\n",
        "  stre=nlp(stre)\n",
        "  stre=\" \".join([w.lemma_ for w in nlp(stre)])\n",
        "  listt=[]\n",
        "  listt.append(stre)\n",
        "  listt=tokenizer.texts_to_sequences(listt)\n",
        "  listt=pad_sequences(listt,maxlen=max_len,padding='pre')\n",
        "  pred=model.predict(listt)\n",
        "  if(pred>=0.5):\n",
        "    print('InSincere')\n",
        "    print(pred[0][0])\n",
        "  else:\n",
        "    print('Sincere')\n",
        "    print(pred[0][0])"
      ],
      "metadata": {
        "id": "jO2CIj559thc"
      },
      "id": "jO2CIj559thc",
      "execution_count": 106,
      "outputs": []
    },
    {
      "cell_type": "code",
      "source": [
        "q=input(\"Enter your Question :\")\n",
        "Predict(q)"
      ],
      "metadata": {
        "id": "32W-_-pr97E6",
        "colab": {
          "base_uri": "https://localhost:8080/"
        },
        "outputId": "d86575d6-a8b9-4eca-a7df-d2c7fc036a88"
      },
      "id": "32W-_-pr97E6",
      "execution_count": 119,
      "outputs": [
        {
          "output_type": "stream",
          "name": "stdout",
          "text": [
            "Enter your Question :why women do all the household work\n",
            "InSincere\n",
            "0.9460423\n"
          ]
        }
      ]
    },
    {
      "cell_type": "code",
      "source": [],
      "metadata": {
        "id": "blpS3xpGBQOE"
      },
      "id": "blpS3xpGBQOE",
      "execution_count": null,
      "outputs": []
    }
  ],
  "metadata": {
    "kernelspec": {
      "display_name": "Python 3",
      "language": "python",
      "name": "python3"
    },
    "language_info": {
      "codemirror_mode": {
        "name": "ipython",
        "version": 3
      },
      "file_extension": ".py",
      "mimetype": "text/x-python",
      "name": "python",
      "nbconvert_exporter": "python",
      "pygments_lexer": "ipython3",
      "version": "3.7.12"
    },
    "papermill": {
      "default_parameters": {},
      "duration": 496.653244,
      "end_time": "2022-08-29T09:06:25.251844",
      "environment_variables": {},
      "exception": null,
      "input_path": "__notebook__.ipynb",
      "output_path": "__notebook__.ipynb",
      "parameters": {},
      "start_time": "2022-08-29T08:58:08.598600",
      "version": "2.3.4"
    },
    "colab": {
      "provenance": [],
      "include_colab_link": true
    },
    "accelerator": "GPU",
    "gpuClass": "standard"
  },
  "nbformat": 4,
  "nbformat_minor": 5
}