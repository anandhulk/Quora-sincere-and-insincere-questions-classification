{
 "cells": [
  {
   "cell_type": "code",
   "execution_count": 1,
   "id": "578ee462",
   "metadata": {
    "_cell_guid": "b1076dfc-b9ad-4769-8c92-a6c4dae69d19",
    "_uuid": "8f2839f25d086af736a60e9eeb907d3b93b6e0e5",
    "execution": {
     "iopub.execute_input": "2022-08-14T03:55:52.261489Z",
     "iopub.status.busy": "2022-08-14T03:55:52.260524Z",
     "iopub.status.idle": "2022-08-14T03:55:52.282816Z",
     "shell.execute_reply": "2022-08-14T03:55:52.281842Z"
    },
    "papermill": {
     "duration": 0.032372,
     "end_time": "2022-08-14T03:55:52.285430",
     "exception": false,
     "start_time": "2022-08-14T03:55:52.253058",
     "status": "completed"
    },
    "tags": []
   },
   "outputs": [
    {
     "name": "stdout",
     "output_type": "stream",
     "text": [
      "/kaggle/input/questions/balanced.csv\n"
     ]
    }
   ],
   "source": [
    "# This Python 3 environment comes with many helpful analytics libraries installed\n",
    "# It is defined by the kaggle/python Docker image: https://github.com/kaggle/docker-python\n",
    "# For example, here's several helpful packages to load\n",
    "\n",
    "import numpy as np # linear algebra\n",
    "import pandas as pd # data processing, CSV file I/O (e.g. pd.read_csv)\n",
    "\n",
    "# Input data files are available in the read-only \"../input/\" directory\n",
    "# For example, running this (by clicking run or pressing Shift+Enter) will list all files under the input directory\n",
    "\n",
    "import os\n",
    "for dirname, _, filenames in os.walk('/kaggle/input'):\n",
    "    for filename in filenames:\n",
    "        print(os.path.join(dirname, filename))\n",
    "\n",
    "# You can write up to 20GB to the current directory (/kaggle/working/) that gets preserved as output when you create a version using \"Save & Run All\" \n",
    "# You can also write temporary files to /kaggle/temp/, but they won't be saved outside of the current session"
   ]
  },
  {
   "cell_type": "code",
   "execution_count": 2,
   "id": "84cd7e0a",
   "metadata": {
    "execution": {
     "iopub.execute_input": "2022-08-14T03:55:52.297714Z",
     "iopub.status.busy": "2022-08-14T03:55:52.296541Z",
     "iopub.status.idle": "2022-08-14T03:55:52.946065Z",
     "shell.execute_reply": "2022-08-14T03:55:52.944928Z"
    },
    "papermill": {
     "duration": 0.658562,
     "end_time": "2022-08-14T03:55:52.949350",
     "exception": false,
     "start_time": "2022-08-14T03:55:52.290788",
     "status": "completed"
    },
    "tags": []
   },
   "outputs": [
    {
     "data": {
      "text/html": [
       "<div>\n",
       "<style scoped>\n",
       "    .dataframe tbody tr th:only-of-type {\n",
       "        vertical-align: middle;\n",
       "    }\n",
       "\n",
       "    .dataframe tbody tr th {\n",
       "        vertical-align: top;\n",
       "    }\n",
       "\n",
       "    .dataframe thead th {\n",
       "        text-align: right;\n",
       "    }\n",
       "</style>\n",
       "<table border=\"1\" class=\"dataframe\">\n",
       "  <thead>\n",
       "    <tr style=\"text-align: right;\">\n",
       "      <th></th>\n",
       "      <th>qid</th>\n",
       "      <th>question_text</th>\n",
       "      <th>target</th>\n",
       "    </tr>\n",
       "  </thead>\n",
       "  <tbody>\n",
       "    <tr>\n",
       "      <th>0</th>\n",
       "      <td>0000e91571b60c2fb487</td>\n",
       "      <td>Has the United States become the largest dicta...</td>\n",
       "      <td>1</td>\n",
       "    </tr>\n",
       "    <tr>\n",
       "      <th>1</th>\n",
       "      <td>00013ceca3f624b09f42</td>\n",
       "      <td>Which babies are more sweeter to their parents...</td>\n",
       "      <td>1</td>\n",
       "    </tr>\n",
       "    <tr>\n",
       "      <th>2</th>\n",
       "      <td>0004a7fcb2bf73076489</td>\n",
       "      <td>If blacks support school choice and mandatory ...</td>\n",
       "      <td>1</td>\n",
       "    </tr>\n",
       "    <tr>\n",
       "      <th>3</th>\n",
       "      <td>00052793eaa287aff1e1</td>\n",
       "      <td>I am gay boy and I love my cousin (boy). He is...</td>\n",
       "      <td>1</td>\n",
       "    </tr>\n",
       "    <tr>\n",
       "      <th>4</th>\n",
       "      <td>000537213b01fd77b58a</td>\n",
       "      <td>Which races have the smallest penis?</td>\n",
       "      <td>1</td>\n",
       "    </tr>\n",
       "  </tbody>\n",
       "</table>\n",
       "</div>"
      ],
      "text/plain": [
       "                    qid                                      question_text  \\\n",
       "0  0000e91571b60c2fb487  Has the United States become the largest dicta...   \n",
       "1  00013ceca3f624b09f42  Which babies are more sweeter to their parents...   \n",
       "2  0004a7fcb2bf73076489  If blacks support school choice and mandatory ...   \n",
       "3  00052793eaa287aff1e1  I am gay boy and I love my cousin (boy). He is...   \n",
       "4  000537213b01fd77b58a               Which races have the smallest penis?   \n",
       "\n",
       "   target  \n",
       "0       1  \n",
       "1       1  \n",
       "2       1  \n",
       "3       1  \n",
       "4       1  "
      ]
     },
     "execution_count": 2,
     "metadata": {},
     "output_type": "execute_result"
    }
   ],
   "source": [
    "data=pd.read_csv(\"../input/questions/balanced.csv\")\n",
    "data.head()"
   ]
  },
  {
   "cell_type": "code",
   "execution_count": 3,
   "id": "0a863b44",
   "metadata": {
    "execution": {
     "iopub.execute_input": "2022-08-14T03:55:52.961139Z",
     "iopub.status.busy": "2022-08-14T03:55:52.960428Z",
     "iopub.status.idle": "2022-08-14T03:55:52.976726Z",
     "shell.execute_reply": "2022-08-14T03:55:52.975618Z"
    },
    "papermill": {
     "duration": 0.024803,
     "end_time": "2022-08-14T03:55:52.979131",
     "exception": false,
     "start_time": "2022-08-14T03:55:52.954328",
     "status": "completed"
    },
    "tags": []
   },
   "outputs": [
    {
     "data": {
      "text/plain": [
       "1    80810\n",
       "0    80810\n",
       "Name: target, dtype: int64"
      ]
     },
     "execution_count": 3,
     "metadata": {},
     "output_type": "execute_result"
    }
   ],
   "source": [
    "data.target.value_counts()"
   ]
  },
  {
   "cell_type": "code",
   "execution_count": 4,
   "id": "2799cd24",
   "metadata": {
    "execution": {
     "iopub.execute_input": "2022-08-14T03:55:52.990838Z",
     "iopub.status.busy": "2022-08-14T03:55:52.989607Z",
     "iopub.status.idle": "2022-08-14T03:55:53.001443Z",
     "shell.execute_reply": "2022-08-14T03:55:53.000277Z"
    },
    "papermill": {
     "duration": 0.02014,
     "end_time": "2022-08-14T03:55:53.003963",
     "exception": false,
     "start_time": "2022-08-14T03:55:52.983823",
     "status": "completed"
    },
    "tags": []
   },
   "outputs": [],
   "source": [
    "data=data.drop(\"qid\",axis=1)"
   ]
  },
  {
   "cell_type": "code",
   "execution_count": 5,
   "id": "b2674de0",
   "metadata": {
    "execution": {
     "iopub.execute_input": "2022-08-14T03:55:53.015372Z",
     "iopub.status.busy": "2022-08-14T03:55:53.014780Z",
     "iopub.status.idle": "2022-08-14T03:55:53.019311Z",
     "shell.execute_reply": "2022-08-14T03:55:53.018433Z"
    },
    "papermill": {
     "duration": 0.012685,
     "end_time": "2022-08-14T03:55:53.021386",
     "exception": false,
     "start_time": "2022-08-14T03:55:53.008701",
     "status": "completed"
    },
    "tags": []
   },
   "outputs": [],
   "source": [
    "x=data[\"question_text\"]\n",
    "y=data[\"target\"]"
   ]
  },
  {
   "cell_type": "code",
   "execution_count": 6,
   "id": "416f2854",
   "metadata": {
    "execution": {
     "iopub.execute_input": "2022-08-14T03:55:53.032433Z",
     "iopub.status.busy": "2022-08-14T03:55:53.031627Z",
     "iopub.status.idle": "2022-08-14T03:56:05.234731Z",
     "shell.execute_reply": "2022-08-14T03:56:05.233534Z"
    },
    "papermill": {
     "duration": 12.211687,
     "end_time": "2022-08-14T03:56:05.237662",
     "exception": false,
     "start_time": "2022-08-14T03:55:53.025975",
     "status": "completed"
    },
    "tags": []
   },
   "outputs": [],
   "source": [
    "import spacy\n",
    "nlp = spacy.load(\"en_core_web_sm\")"
   ]
  },
  {
   "cell_type": "code",
   "execution_count": 7,
   "id": "3881d6a8",
   "metadata": {
    "execution": {
     "iopub.execute_input": "2022-08-14T03:56:05.249466Z",
     "iopub.status.busy": "2022-08-14T03:56:05.248802Z",
     "iopub.status.idle": "2022-08-14T03:56:05.256157Z",
     "shell.execute_reply": "2022-08-14T03:56:05.254951Z"
    },
    "papermill": {
     "duration": 0.015998,
     "end_time": "2022-08-14T03:56:05.258590",
     "exception": false,
     "start_time": "2022-08-14T03:56:05.242592",
     "status": "completed"
    },
    "tags": []
   },
   "outputs": [],
   "source": [
    "def lemmatize(df):\n",
    "    res=[]\n",
    "    count=df.shape[0]\n",
    "    \n",
    "    for row in df:\n",
    "        doc=nlp(row)\n",
    "        row=\" \".join([w.lemma_ for w in nlp(row)])\n",
    "        res.append(row)\n",
    "        count=count-1\n",
    "        \n",
    "        if(count%2000==0):\n",
    "            print(\"remaining = \",count)\n",
    "            \n",
    "    res=pd.Series(res)\n",
    "    return res"
   ]
  },
  {
   "cell_type": "code",
   "execution_count": 8,
   "id": "106cc619",
   "metadata": {
    "execution": {
     "iopub.execute_input": "2022-08-14T03:56:05.270118Z",
     "iopub.status.busy": "2022-08-14T03:56:05.269702Z",
     "iopub.status.idle": "2022-08-14T03:56:05.280753Z",
     "shell.execute_reply": "2022-08-14T03:56:05.279419Z"
    },
    "papermill": {
     "duration": 0.019735,
     "end_time": "2022-08-14T03:56:05.283161",
     "exception": false,
     "start_time": "2022-08-14T03:56:05.263426",
     "status": "completed"
    },
    "tags": []
   },
   "outputs": [
    {
     "data": {
      "text/html": [
       "<div>\n",
       "<style scoped>\n",
       "    .dataframe tbody tr th:only-of-type {\n",
       "        vertical-align: middle;\n",
       "    }\n",
       "\n",
       "    .dataframe tbody tr th {\n",
       "        vertical-align: top;\n",
       "    }\n",
       "\n",
       "    .dataframe thead th {\n",
       "        text-align: right;\n",
       "    }\n",
       "</style>\n",
       "<table border=\"1\" class=\"dataframe\">\n",
       "  <thead>\n",
       "    <tr style=\"text-align: right;\">\n",
       "      <th></th>\n",
       "      <th>col1</th>\n",
       "    </tr>\n",
       "  </thead>\n",
       "  <tbody>\n",
       "    <tr>\n",
       "      <th>0</th>\n",
       "      <td>this is spacy lemmatization testing.</td>\n",
       "    </tr>\n",
       "    <tr>\n",
       "      <th>1</th>\n",
       "      <td>some programming books are better than others</td>\n",
       "    </tr>\n",
       "    <tr>\n",
       "      <th>2</th>\n",
       "      <td>sounds like a quote from the Smiths</td>\n",
       "    </tr>\n",
       "  </tbody>\n",
       "</table>\n",
       "</div>"
      ],
      "text/plain": [
       "                                            col1\n",
       "0           this is spacy lemmatization testing.\n",
       "1  some programming books are better than others\n",
       "2            sounds like a quote from the Smiths"
      ]
     },
     "execution_count": 8,
     "metadata": {},
     "output_type": "execute_result"
    }
   ],
   "source": [
    "example = pd.DataFrame({\"col1\":[\"this is spacy lemmatization testing.\",\n",
    "                                \"some programming books are better than others\",\n",
    "                                \"sounds like a quote from the Smiths\"]})\n",
    "example"
   ]
  },
  {
   "cell_type": "code",
   "execution_count": 9,
   "id": "2fe5fa84",
   "metadata": {
    "execution": {
     "iopub.execute_input": "2022-08-14T03:56:05.295506Z",
     "iopub.status.busy": "2022-08-14T03:56:05.294406Z",
     "iopub.status.idle": "2022-08-14T03:56:05.366135Z",
     "shell.execute_reply": "2022-08-14T03:56:05.364840Z"
    },
    "papermill": {
     "duration": 0.08251,
     "end_time": "2022-08-14T03:56:05.370619",
     "exception": false,
     "start_time": "2022-08-14T03:56:05.288109",
     "status": "completed"
    },
    "tags": []
   },
   "outputs": [
    {
     "name": "stdout",
     "output_type": "stream",
     "text": [
      "remaining =  0\n"
     ]
    }
   ],
   "source": [
    "a=lemmatize(example.col1)"
   ]
  },
  {
   "cell_type": "code",
   "execution_count": 10,
   "id": "8cd0aaba",
   "metadata": {
    "execution": {
     "iopub.execute_input": "2022-08-14T03:56:05.383575Z",
     "iopub.status.busy": "2022-08-14T03:56:05.382425Z",
     "iopub.status.idle": "2022-08-14T03:56:05.391487Z",
     "shell.execute_reply": "2022-08-14T03:56:05.390189Z"
    },
    "papermill": {
     "duration": 0.017731,
     "end_time": "2022-08-14T03:56:05.393789",
     "exception": false,
     "start_time": "2022-08-14T03:56:05.376058",
     "status": "completed"
    },
    "tags": []
   },
   "outputs": [
    {
     "data": {
      "text/plain": [
       "0       this be spacy lemmatization testing .\n",
       "1    some programming book be well than other\n",
       "2           sound like a quote from the smith\n",
       "dtype: object"
      ]
     },
     "execution_count": 10,
     "metadata": {},
     "output_type": "execute_result"
    }
   ],
   "source": [
    "a"
   ]
  },
  {
   "cell_type": "code",
   "execution_count": 11,
   "id": "593ee87c",
   "metadata": {
    "execution": {
     "iopub.execute_input": "2022-08-14T03:56:05.406502Z",
     "iopub.status.busy": "2022-08-14T03:56:05.405309Z",
     "iopub.status.idle": "2022-08-14T04:40:36.759978Z",
     "shell.execute_reply": "2022-08-14T04:40:36.759056Z"
    },
    "papermill": {
     "duration": 2671.37289,
     "end_time": "2022-08-14T04:40:36.771920",
     "exception": false,
     "start_time": "2022-08-14T03:56:05.399030",
     "status": "completed"
    },
    "tags": []
   },
   "outputs": [
    {
     "name": "stdout",
     "output_type": "stream",
     "text": [
      "remaining =  160000\n",
      "remaining =  158000\n",
      "remaining =  156000\n",
      "remaining =  154000\n",
      "remaining =  152000\n",
      "remaining =  150000\n",
      "remaining =  148000\n",
      "remaining =  146000\n",
      "remaining =  144000\n",
      "remaining =  142000\n",
      "remaining =  140000\n",
      "remaining =  138000\n",
      "remaining =  136000\n",
      "remaining =  134000\n",
      "remaining =  132000\n",
      "remaining =  130000\n",
      "remaining =  128000\n",
      "remaining =  126000\n",
      "remaining =  124000\n",
      "remaining =  122000\n",
      "remaining =  120000\n",
      "remaining =  118000\n",
      "remaining =  116000\n",
      "remaining =  114000\n",
      "remaining =  112000\n",
      "remaining =  110000\n",
      "remaining =  108000\n",
      "remaining =  106000\n",
      "remaining =  104000\n",
      "remaining =  102000\n",
      "remaining =  100000\n",
      "remaining =  98000\n",
      "remaining =  96000\n",
      "remaining =  94000\n",
      "remaining =  92000\n",
      "remaining =  90000\n",
      "remaining =  88000\n",
      "remaining =  86000\n",
      "remaining =  84000\n",
      "remaining =  82000\n",
      "remaining =  80000\n",
      "remaining =  78000\n",
      "remaining =  76000\n",
      "remaining =  74000\n",
      "remaining =  72000\n",
      "remaining =  70000\n",
      "remaining =  68000\n",
      "remaining =  66000\n",
      "remaining =  64000\n",
      "remaining =  62000\n",
      "remaining =  60000\n",
      "remaining =  58000\n",
      "remaining =  56000\n",
      "remaining =  54000\n",
      "remaining =  52000\n",
      "remaining =  50000\n",
      "remaining =  48000\n",
      "remaining =  46000\n",
      "remaining =  44000\n",
      "remaining =  42000\n",
      "remaining =  40000\n",
      "remaining =  38000\n",
      "remaining =  36000\n",
      "remaining =  34000\n",
      "remaining =  32000\n",
      "remaining =  30000\n",
      "remaining =  28000\n",
      "remaining =  26000\n",
      "remaining =  24000\n",
      "remaining =  22000\n",
      "remaining =  20000\n",
      "remaining =  18000\n",
      "remaining =  16000\n",
      "remaining =  14000\n",
      "remaining =  12000\n",
      "remaining =  10000\n",
      "remaining =  8000\n",
      "remaining =  6000\n",
      "remaining =  4000\n",
      "remaining =  2000\n",
      "remaining =  0\n"
     ]
    }
   ],
   "source": [
    "lemmatized_x=lemmatize(x)"
   ]
  },
  {
   "cell_type": "code",
   "execution_count": 12,
   "id": "40824fcd",
   "metadata": {
    "execution": {
     "iopub.execute_input": "2022-08-14T04:40:36.794661Z",
     "iopub.status.busy": "2022-08-14T04:40:36.793958Z",
     "iopub.status.idle": "2022-08-14T04:40:36.803278Z",
     "shell.execute_reply": "2022-08-14T04:40:36.802290Z"
    },
    "papermill": {
     "duration": 0.023249,
     "end_time": "2022-08-14T04:40:36.805749",
     "exception": false,
     "start_time": "2022-08-14T04:40:36.782500",
     "status": "completed"
    },
    "tags": []
   },
   "outputs": [],
   "source": [
    "lemmatized=pd.concat([lemmatized_x,y],axis=1)"
   ]
  },
  {
   "cell_type": "code",
   "execution_count": 13,
   "id": "6f841e84",
   "metadata": {
    "execution": {
     "iopub.execute_input": "2022-08-14T04:40:36.827751Z",
     "iopub.status.busy": "2022-08-14T04:40:36.827039Z",
     "iopub.status.idle": "2022-08-14T04:40:36.839690Z",
     "shell.execute_reply": "2022-08-14T04:40:36.838409Z"
    },
    "papermill": {
     "duration": 0.026522,
     "end_time": "2022-08-14T04:40:36.842134",
     "exception": false,
     "start_time": "2022-08-14T04:40:36.815612",
     "status": "completed"
    },
    "tags": []
   },
   "outputs": [
    {
     "data": {
      "text/html": [
       "<div>\n",
       "<style scoped>\n",
       "    .dataframe tbody tr th:only-of-type {\n",
       "        vertical-align: middle;\n",
       "    }\n",
       "\n",
       "    .dataframe tbody tr th {\n",
       "        vertical-align: top;\n",
       "    }\n",
       "\n",
       "    .dataframe thead th {\n",
       "        text-align: right;\n",
       "    }\n",
       "</style>\n",
       "<table border=\"1\" class=\"dataframe\">\n",
       "  <thead>\n",
       "    <tr style=\"text-align: right;\">\n",
       "      <th></th>\n",
       "      <th>0</th>\n",
       "      <th>target</th>\n",
       "    </tr>\n",
       "  </thead>\n",
       "  <tbody>\n",
       "    <tr>\n",
       "      <th>0</th>\n",
       "      <td>have the United States become the large dictat...</td>\n",
       "      <td>1</td>\n",
       "    </tr>\n",
       "    <tr>\n",
       "      <th>1</th>\n",
       "      <td>which baby be more sweet to their parent ? dar...</td>\n",
       "      <td>1</td>\n",
       "    </tr>\n",
       "    <tr>\n",
       "      <th>2</th>\n",
       "      <td>if black support school choice and mandatory s...</td>\n",
       "      <td>1</td>\n",
       "    </tr>\n",
       "    <tr>\n",
       "      <th>3</th>\n",
       "      <td>I be gay boy and I love my cousin ( boy ) . he...</td>\n",
       "      <td>1</td>\n",
       "    </tr>\n",
       "    <tr>\n",
       "      <th>4</th>\n",
       "      <td>which race have the small penis ?</td>\n",
       "      <td>1</td>\n",
       "    </tr>\n",
       "    <tr>\n",
       "      <th>...</th>\n",
       "      <td>...</td>\n",
       "      <td>...</td>\n",
       "    </tr>\n",
       "    <tr>\n",
       "      <th>161615</th>\n",
       "      <td>what happen to the north korean soldier that h...</td>\n",
       "      <td>0</td>\n",
       "    </tr>\n",
       "    <tr>\n",
       "      <th>161616</th>\n",
       "      <td>why do people snore more as they get old ?</td>\n",
       "      <td>0</td>\n",
       "    </tr>\n",
       "    <tr>\n",
       "      <th>161617</th>\n",
       "      <td>can I leave this site , and how ?</td>\n",
       "      <td>0</td>\n",
       "    </tr>\n",
       "    <tr>\n",
       "      <th>161618</th>\n",
       "      <td>why do people get stress so easily ?</td>\n",
       "      <td>0</td>\n",
       "    </tr>\n",
       "    <tr>\n",
       "      <th>161619</th>\n",
       "      <td>how do the term\"for good \" come to mean { fina...</td>\n",
       "      <td>0</td>\n",
       "    </tr>\n",
       "  </tbody>\n",
       "</table>\n",
       "<p>161620 rows × 2 columns</p>\n",
       "</div>"
      ],
      "text/plain": [
       "                                                        0  target\n",
       "0       have the United States become the large dictat...       1\n",
       "1       which baby be more sweet to their parent ? dar...       1\n",
       "2       if black support school choice and mandatory s...       1\n",
       "3       I be gay boy and I love my cousin ( boy ) . he...       1\n",
       "4                       which race have the small penis ?       1\n",
       "...                                                   ...     ...\n",
       "161615  what happen to the north korean soldier that h...       0\n",
       "161616         why do people snore more as they get old ?       0\n",
       "161617                  can I leave this site , and how ?       0\n",
       "161618               why do people get stress so easily ?       0\n",
       "161619  how do the term\"for good \" come to mean { fina...       0\n",
       "\n",
       "[161620 rows x 2 columns]"
      ]
     },
     "execution_count": 13,
     "metadata": {},
     "output_type": "execute_result"
    }
   ],
   "source": [
    "lemmatized"
   ]
  },
  {
   "cell_type": "code",
   "execution_count": 14,
   "id": "51ad0aac",
   "metadata": {
    "execution": {
     "iopub.execute_input": "2022-08-14T04:40:36.864392Z",
     "iopub.status.busy": "2022-08-14T04:40:36.863522Z",
     "iopub.status.idle": "2022-08-14T04:40:37.317086Z",
     "shell.execute_reply": "2022-08-14T04:40:37.315924Z"
    },
    "papermill": {
     "duration": 0.468195,
     "end_time": "2022-08-14T04:40:37.320253",
     "exception": false,
     "start_time": "2022-08-14T04:40:36.852058",
     "status": "completed"
    },
    "tags": []
   },
   "outputs": [],
   "source": [
    "lemmatized.to_csv(\"quora_lemma.csv\",index=False)"
   ]
  },
  {
   "cell_type": "code",
   "execution_count": null,
   "id": "6d1e1ffc",
   "metadata": {
    "papermill": {
     "duration": 0.010148,
     "end_time": "2022-08-14T04:40:37.340587",
     "exception": false,
     "start_time": "2022-08-14T04:40:37.330439",
     "status": "completed"
    },
    "tags": []
   },
   "outputs": [],
   "source": []
  }
 ],
 "metadata": {
  "kernelspec": {
   "display_name": "Python 3",
   "language": "python",
   "name": "python3"
  },
  "language_info": {
   "codemirror_mode": {
    "name": "ipython",
    "version": 3
   },
   "file_extension": ".py",
   "mimetype": "text/x-python",
   "name": "python",
   "nbconvert_exporter": "python",
   "pygments_lexer": "ipython3",
   "version": "3.7.12"
  },
  "papermill": {
   "default_parameters": {},
   "duration": 2697.630044,
   "end_time": "2022-08-14T04:40:40.785115",
   "environment_variables": {},
   "exception": null,
   "input_path": "__notebook__.ipynb",
   "output_path": "__notebook__.ipynb",
   "parameters": {},
   "start_time": "2022-08-14T03:55:43.155071",
   "version": "2.3.4"
  }
 },
 "nbformat": 4,
 "nbformat_minor": 5
}
