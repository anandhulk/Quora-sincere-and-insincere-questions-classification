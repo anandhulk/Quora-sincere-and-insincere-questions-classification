{
 "cells": [
  {
   "cell_type": "code",
   "execution_count": 1,
   "id": "355bdb8b",
   "metadata": {
    "_cell_guid": "b1076dfc-b9ad-4769-8c92-a6c4dae69d19",
    "_uuid": "8f2839f25d086af736a60e9eeb907d3b93b6e0e5",
    "execution": {
     "iopub.execute_input": "2022-08-13T15:04:27.114527Z",
     "iopub.status.busy": "2022-08-13T15:04:27.113964Z",
     "iopub.status.idle": "2022-08-13T15:04:27.134202Z",
     "shell.execute_reply": "2022-08-13T15:04:27.132901Z"
    },
    "papermill": {
     "duration": 0.031153,
     "end_time": "2022-08-13T15:04:27.137393",
     "exception": false,
     "start_time": "2022-08-13T15:04:27.106240",
     "status": "completed"
    },
    "tags": []
   },
   "outputs": [
    {
     "name": "stdout",
     "output_type": "stream",
     "text": [
      "/kaggle/input/questions/balanced.csv\n"
     ]
    }
   ],
   "source": [
    "# This Python 3 environment comes with many helpful analytics libraries installed\n",
    "# It is defined by the kaggle/python Docker image: https://github.com/kaggle/docker-python\n",
    "# For example, here's several helpful packages to load\n",
    "\n",
    "import numpy as np # linear algebra\n",
    "import pandas as pd # data processing, CSV file I/O (e.g. pd.read_csv)\n",
    "\n",
    "# Input data files are available in the read-only \"../input/\" directory\n",
    "# For example, running this (by clicking run or pressing Shift+Enter) will list all files under the input directory\n",
    "\n",
    "import os\n",
    "for dirname, _, filenames in os.walk('/kaggle/input'):\n",
    "    for filename in filenames:\n",
    "        print(os.path.join(dirname, filename))\n",
    "\n",
    "# You can write up to 20GB to the current directory (/kaggle/working/) that gets preserved as output when you create a version using \"Save & Run All\" \n",
    "# You can also write temporary files to /kaggle/temp/, but they won't be saved outside of the current session"
   ]
  },
  {
   "cell_type": "code",
   "execution_count": 2,
   "id": "168a9462",
   "metadata": {
    "execution": {
     "iopub.execute_input": "2022-08-13T15:04:27.146909Z",
     "iopub.status.busy": "2022-08-13T15:04:27.146447Z",
     "iopub.status.idle": "2022-08-13T15:04:27.929953Z",
     "shell.execute_reply": "2022-08-13T15:04:27.928259Z"
    },
    "papermill": {
     "duration": 0.791612,
     "end_time": "2022-08-13T15:04:27.933079",
     "exception": false,
     "start_time": "2022-08-13T15:04:27.141467",
     "status": "completed"
    },
    "tags": []
   },
   "outputs": [
    {
     "data": {
      "text/html": [
       "<div>\n",
       "<style scoped>\n",
       "    .dataframe tbody tr th:only-of-type {\n",
       "        vertical-align: middle;\n",
       "    }\n",
       "\n",
       "    .dataframe tbody tr th {\n",
       "        vertical-align: top;\n",
       "    }\n",
       "\n",
       "    .dataframe thead th {\n",
       "        text-align: right;\n",
       "    }\n",
       "</style>\n",
       "<table border=\"1\" class=\"dataframe\">\n",
       "  <thead>\n",
       "    <tr style=\"text-align: right;\">\n",
       "      <th></th>\n",
       "      <th>qid</th>\n",
       "      <th>question_text</th>\n",
       "      <th>target</th>\n",
       "    </tr>\n",
       "  </thead>\n",
       "  <tbody>\n",
       "    <tr>\n",
       "      <th>0</th>\n",
       "      <td>0000e91571b60c2fb487</td>\n",
       "      <td>Has the United States become the largest dicta...</td>\n",
       "      <td>1</td>\n",
       "    </tr>\n",
       "    <tr>\n",
       "      <th>1</th>\n",
       "      <td>00013ceca3f624b09f42</td>\n",
       "      <td>Which babies are more sweeter to their parents...</td>\n",
       "      <td>1</td>\n",
       "    </tr>\n",
       "    <tr>\n",
       "      <th>2</th>\n",
       "      <td>0004a7fcb2bf73076489</td>\n",
       "      <td>If blacks support school choice and mandatory ...</td>\n",
       "      <td>1</td>\n",
       "    </tr>\n",
       "    <tr>\n",
       "      <th>3</th>\n",
       "      <td>00052793eaa287aff1e1</td>\n",
       "      <td>I am gay boy and I love my cousin (boy). He is...</td>\n",
       "      <td>1</td>\n",
       "    </tr>\n",
       "    <tr>\n",
       "      <th>4</th>\n",
       "      <td>000537213b01fd77b58a</td>\n",
       "      <td>Which races have the smallest penis?</td>\n",
       "      <td>1</td>\n",
       "    </tr>\n",
       "  </tbody>\n",
       "</table>\n",
       "</div>"
      ],
      "text/plain": [
       "                    qid                                      question_text  \\\n",
       "0  0000e91571b60c2fb487  Has the United States become the largest dicta...   \n",
       "1  00013ceca3f624b09f42  Which babies are more sweeter to their parents...   \n",
       "2  0004a7fcb2bf73076489  If blacks support school choice and mandatory ...   \n",
       "3  00052793eaa287aff1e1  I am gay boy and I love my cousin (boy). He is...   \n",
       "4  000537213b01fd77b58a               Which races have the smallest penis?   \n",
       "\n",
       "   target  \n",
       "0       1  \n",
       "1       1  \n",
       "2       1  \n",
       "3       1  \n",
       "4       1  "
      ]
     },
     "execution_count": 2,
     "metadata": {},
     "output_type": "execute_result"
    }
   ],
   "source": [
    "data=pd.read_csv(\"../input/questions/balanced.csv\")\n",
    "data.head()"
   ]
  },
  {
   "cell_type": "code",
   "execution_count": 3,
   "id": "02b25c87",
   "metadata": {
    "execution": {
     "iopub.execute_input": "2022-08-13T15:04:27.945053Z",
     "iopub.status.busy": "2022-08-13T15:04:27.944639Z",
     "iopub.status.idle": "2022-08-13T15:04:27.963861Z",
     "shell.execute_reply": "2022-08-13T15:04:27.962344Z"
    },
    "papermill": {
     "duration": 0.030024,
     "end_time": "2022-08-13T15:04:27.967780",
     "exception": false,
     "start_time": "2022-08-13T15:04:27.937756",
     "status": "completed"
    },
    "tags": []
   },
   "outputs": [
    {
     "data": {
      "text/plain": [
       "1    80810\n",
       "0    80810\n",
       "Name: target, dtype: int64"
      ]
     },
     "execution_count": 3,
     "metadata": {},
     "output_type": "execute_result"
    }
   ],
   "source": [
    "data.target.value_counts()"
   ]
  },
  {
   "cell_type": "code",
   "execution_count": 4,
   "id": "43f86adc",
   "metadata": {
    "execution": {
     "iopub.execute_input": "2022-08-13T15:04:27.978495Z",
     "iopub.status.busy": "2022-08-13T15:04:27.978045Z",
     "iopub.status.idle": "2022-08-13T15:04:27.993053Z",
     "shell.execute_reply": "2022-08-13T15:04:27.991239Z"
    },
    "papermill": {
     "duration": 0.023977,
     "end_time": "2022-08-13T15:04:27.996718",
     "exception": false,
     "start_time": "2022-08-13T15:04:27.972741",
     "status": "completed"
    },
    "tags": []
   },
   "outputs": [],
   "source": [
    "data=data.drop(\"qid\",axis=1)"
   ]
  },
  {
   "cell_type": "code",
   "execution_count": 5,
   "id": "6743d776",
   "metadata": {
    "execution": {
     "iopub.execute_input": "2022-08-13T15:04:28.010925Z",
     "iopub.status.busy": "2022-08-13T15:04:28.008253Z",
     "iopub.status.idle": "2022-08-13T15:04:28.017923Z",
     "shell.execute_reply": "2022-08-13T15:04:28.016465Z"
    },
    "papermill": {
     "duration": 0.019484,
     "end_time": "2022-08-13T15:04:28.020901",
     "exception": false,
     "start_time": "2022-08-13T15:04:28.001417",
     "status": "completed"
    },
    "tags": []
   },
   "outputs": [],
   "source": [
    "x=data[\"question_text\"]\n",
    "y=data[\"target\"]"
   ]
  },
  {
   "cell_type": "code",
   "execution_count": 6,
   "id": "53000ccc",
   "metadata": {
    "execution": {
     "iopub.execute_input": "2022-08-13T15:04:28.033442Z",
     "iopub.status.busy": "2022-08-13T15:04:28.032292Z",
     "iopub.status.idle": "2022-08-13T15:04:40.915645Z",
     "shell.execute_reply": "2022-08-13T15:04:40.914741Z"
    },
    "papermill": {
     "duration": 12.892425,
     "end_time": "2022-08-13T15:04:40.918393",
     "exception": false,
     "start_time": "2022-08-13T15:04:28.025968",
     "status": "completed"
    },
    "tags": []
   },
   "outputs": [],
   "source": [
    "import spacy\n",
    "nlp = spacy.load(\"en_core_web_sm\")"
   ]
  },
  {
   "cell_type": "code",
   "execution_count": 7,
   "id": "8e813e6c",
   "metadata": {
    "execution": {
     "iopub.execute_input": "2022-08-13T15:04:40.929301Z",
     "iopub.status.busy": "2022-08-13T15:04:40.928462Z",
     "iopub.status.idle": "2022-08-13T15:04:40.934665Z",
     "shell.execute_reply": "2022-08-13T15:04:40.933861Z"
    },
    "papermill": {
     "duration": 0.014103,
     "end_time": "2022-08-13T15:04:40.936948",
     "exception": false,
     "start_time": "2022-08-13T15:04:40.922845",
     "status": "completed"
    },
    "tags": []
   },
   "outputs": [],
   "source": [
    "def lemmatize(df):\n",
    "    res=[]\n",
    "    count=df.shape[0]\n",
    "    \n",
    "    for row in df:\n",
    "        doc=nlp(row)\n",
    "        row=\" \".join([w.lemma_ for w in nlp(row)])\n",
    "        res.append(row)\n",
    "        count=count-1\n",
    "        \n",
    "        if(count%5000==0):\n",
    "            print(\"remaining = \",count)\n",
    "            \n",
    "    res=pd.Series(res)\n",
    "    return res"
   ]
  },
  {
   "cell_type": "code",
   "execution_count": 8,
   "id": "bb59b479",
   "metadata": {
    "execution": {
     "iopub.execute_input": "2022-08-13T15:04:40.946749Z",
     "iopub.status.busy": "2022-08-13T15:04:40.946151Z",
     "iopub.status.idle": "2022-08-13T15:04:40.955363Z",
     "shell.execute_reply": "2022-08-13T15:04:40.954571Z"
    },
    "papermill": {
     "duration": 0.017028,
     "end_time": "2022-08-13T15:04:40.957867",
     "exception": false,
     "start_time": "2022-08-13T15:04:40.940839",
     "status": "completed"
    },
    "tags": []
   },
   "outputs": [
    {
     "data": {
      "text/html": [
       "<div>\n",
       "<style scoped>\n",
       "    .dataframe tbody tr th:only-of-type {\n",
       "        vertical-align: middle;\n",
       "    }\n",
       "\n",
       "    .dataframe tbody tr th {\n",
       "        vertical-align: top;\n",
       "    }\n",
       "\n",
       "    .dataframe thead th {\n",
       "        text-align: right;\n",
       "    }\n",
       "</style>\n",
       "<table border=\"1\" class=\"dataframe\">\n",
       "  <thead>\n",
       "    <tr style=\"text-align: right;\">\n",
       "      <th></th>\n",
       "      <th>col1</th>\n",
       "    </tr>\n",
       "  </thead>\n",
       "  <tbody>\n",
       "    <tr>\n",
       "      <th>0</th>\n",
       "      <td>this is spacy lemmatization testing.</td>\n",
       "    </tr>\n",
       "    <tr>\n",
       "      <th>1</th>\n",
       "      <td>some programming books are better than others</td>\n",
       "    </tr>\n",
       "    <tr>\n",
       "      <th>2</th>\n",
       "      <td>sounds like a quote from the Smiths</td>\n",
       "    </tr>\n",
       "  </tbody>\n",
       "</table>\n",
       "</div>"
      ],
      "text/plain": [
       "                                            col1\n",
       "0           this is spacy lemmatization testing.\n",
       "1  some programming books are better than others\n",
       "2            sounds like a quote from the Smiths"
      ]
     },
     "execution_count": 8,
     "metadata": {},
     "output_type": "execute_result"
    }
   ],
   "source": [
    "example = pd.DataFrame({\"col1\":[\"this is spacy lemmatization testing.\",\n",
    "                                \"some programming books are better than others\",\n",
    "                                \"sounds like a quote from the Smiths\"]})\n",
    "example"
   ]
  },
  {
   "cell_type": "code",
   "execution_count": 9,
   "id": "3ad328fd",
   "metadata": {
    "execution": {
     "iopub.execute_input": "2022-08-13T15:04:40.968152Z",
     "iopub.status.busy": "2022-08-13T15:04:40.967483Z",
     "iopub.status.idle": "2022-08-13T15:04:41.034322Z",
     "shell.execute_reply": "2022-08-13T15:04:41.032719Z"
    },
    "papermill": {
     "duration": 0.075143,
     "end_time": "2022-08-13T15:04:41.037073",
     "exception": false,
     "start_time": "2022-08-13T15:04:40.961930",
     "status": "completed"
    },
    "tags": []
   },
   "outputs": [
    {
     "name": "stdout",
     "output_type": "stream",
     "text": [
      "remaining =  0\n"
     ]
    }
   ],
   "source": [
    "a=lemmatize(example.col1)"
   ]
  },
  {
   "cell_type": "code",
   "execution_count": null,
   "id": "196bcc60",
   "metadata": {
    "execution": {
     "iopub.execute_input": "2022-08-13T15:02:08.928731Z",
     "iopub.status.busy": "2022-08-13T15:02:08.928314Z",
     "iopub.status.idle": "2022-08-13T15:02:08.936484Z",
     "shell.execute_reply": "2022-08-13T15:02:08.935146Z",
     "shell.execute_reply.started": "2022-08-13T15:02:08.928698Z"
    },
    "papermill": {
     "duration": 0.003876,
     "end_time": "2022-08-13T15:04:41.045280",
     "exception": false,
     "start_time": "2022-08-13T15:04:41.041404",
     "status": "completed"
    },
    "tags": []
   },
   "outputs": [],
   "source": []
  },
  {
   "cell_type": "code",
   "execution_count": null,
   "id": "86d137f4",
   "metadata": {
    "papermill": {
     "duration": 0.003684,
     "end_time": "2022-08-13T15:04:41.053073",
     "exception": false,
     "start_time": "2022-08-13T15:04:41.049389",
     "status": "completed"
    },
    "tags": []
   },
   "outputs": [],
   "source": []
  }
 ],
 "metadata": {
  "kernelspec": {
   "display_name": "Python 3",
   "language": "python",
   "name": "python3"
  },
  "language_info": {
   "codemirror_mode": {
    "name": "ipython",
    "version": 3
   },
   "file_extension": ".py",
   "mimetype": "text/x-python",
   "name": "python",
   "nbconvert_exporter": "python",
   "pygments_lexer": "ipython3",
   "version": "3.7.12"
  },
  "papermill": {
   "default_parameters": {},
   "duration": 27.200345,
   "end_time": "2022-08-13T15:04:43.794627",
   "environment_variables": {},
   "exception": null,
   "input_path": "__notebook__.ipynb",
   "output_path": "__notebook__.ipynb",
   "parameters": {},
   "start_time": "2022-08-13T15:04:16.594282",
   "version": "2.3.4"
  }
 },
 "nbformat": 4,
 "nbformat_minor": 5
}
